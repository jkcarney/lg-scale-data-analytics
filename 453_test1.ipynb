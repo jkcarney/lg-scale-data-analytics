{
 "cells": [
  {
   "cell_type": "markdown",
   "id": "8ad05feb",
   "metadata": {},
   "source": [
    "# Exam 1\n",
    "\n",
    "Reminders:\n",
    "* Answer questions directly. Extraneous information may result in point deduction.\n",
    "* Answer easier questions first, then move on to more difficult questions.\n",
    "* You have at most one hour and fifty minutes to complete this learning exercise.\n",
    "\n",
    "By typing my name here, I promise I have not committed any act of academic dishonesty including:\n",
    "1. Copying from a student’s solutions or allowing a student to copy from one’s solutions\n",
    "2. Using the internet or making phone calls to find solutions\n",
    "3. Sharing any information about the test with anyone who has not taken it\n",
    "\n",
    "Student Name: Joshua Carney \n",
    "\n",
    "\n",
    "Date: 2/23/2022\n",
    "\n",
    "**If a code cell has syntax errors, the most you can get is half of its points.**"
   ]
  },
  {
   "cell_type": "markdown",
   "id": "8de7be7f",
   "metadata": {},
   "source": [
    "## Question 1: Program in Python\n",
    "\n",
    "### Part 1 (10 points)\n",
    "Define a function to return the longest common prefix of two strings.\n",
    "\n",
    "The call signature of the function should be\n",
    "\n",
    "```python\n",
    "longest_common_prefix(s1, s2)\n",
    "```\n",
    "e.g. \n",
    "```python\n",
    "longest_common_prefix('school', 'scholar') \n",
    "```\n",
    "returns a string 'scho'."
   ]
  },
  {
   "cell_type": "code",
   "execution_count": 1,
   "id": "a47b6de5",
   "metadata": {},
   "outputs": [
    {
     "data": {
      "text/plain": [
       "'scho'"
      ]
     },
     "execution_count": 1,
     "metadata": {},
     "output_type": "execute_result"
    }
   ],
   "source": [
    "def longest_common_prefix(s1, s2):\n",
    "    # Make sure s1 is the shorter\n",
    "    if len(s1) > len(s2):\n",
    "       s1,s2 = s2,s1\n",
    "    \n",
    "    longest = ''\n",
    "    # Start with the entire sequence and shorten\n",
    "    for x in range(len(s1)):\n",
    "        prefix = s1[:x]\n",
    "        if s2.startswith(prefix):\n",
    "            longest = prefix\n",
    "    \n",
    "    # If we haven't returned, there is no common prefix\n",
    "    return longest\n",
    "\n",
    "longest_common_prefix('school', 'scholar') "
   ]
  },
  {
   "cell_type": "markdown",
   "id": "2b6ed0f8",
   "metadata": {},
   "source": [
    "### Part 2 (10 points)\n",
    "\n",
    "Use the function longest_common_prefix to define a new function that returns the longest common suffix of two strings.\n",
    "\n",
    "The call signature of the function should be\n",
    "\n",
    "```python\n",
    "longest_common_suffix(s1, s2)\n",
    "```\n",
    "e.g. \n",
    "```python\n",
    "longest_common_suffix('Kidding', 'King') \n",
    "```\n",
    "returns a string 'ing'.\n",
    "\n",
    "**To get any points, you must use the function longest_common_prefix**.\n",
    "\n",
    "**Hint: you can using string slicing to reverse a string.**"
   ]
  },
  {
   "cell_type": "code",
   "execution_count": 130,
   "id": "d8c9f2e4",
   "metadata": {},
   "outputs": [
    {
     "data": {
      "text/plain": [
       "'ing'"
      ]
     },
     "execution_count": 130,
     "metadata": {},
     "output_type": "execute_result"
    }
   ],
   "source": [
    "def longest_common_suffix(s1, s2):\n",
    "    # reverse s1 and s2 and then reverse that result from LCP (otherwise the result would be 'gni')\n",
    "    return longest_common_prefix(s1[::-1], s2[::-1])[::-1]\n",
    "    \n",
    "\n",
    "longest_common_suffix('King', 'Kidding') "
   ]
  },
  {
   "cell_type": "markdown",
   "id": "52576895",
   "metadata": {},
   "source": [
    "## Question 2: Map-Reduce (15 points)\n",
    "\n",
    "If the generator of random variable $X$ is discrete with probability mass function $x_1 \\mapsto p_1, x_2 \\mapsto p_2, \\ldots, x_n \\mapsto p_n$ then\n",
    "\n",
    "$$\\operatorname{Var}(X) = \\left(\\sum_{i=1}^n p_i x_i ^2\\right) - \\mu^2,$$\n",
    "\n",
    "where $\\mu$ is the average value, i.e.\n",
    "\n",
    "$$\\mu = \\sum_{i=1}^n p_i x_i. $$\n",
    "\n",
    "In the next code cell, compute the average value ($\\mu$) and the variance of given $X$ and $P$ using python `map` and `reduce`.\n",
    "\n",
    "**To get any points, you must use python map and reduce functions.**"
   ]
  },
  {
   "cell_type": "code",
   "execution_count": 144,
   "id": "f4d790e1",
   "metadata": {},
   "outputs": [
    {
     "name": "stdout",
     "output_type": "stream",
     "text": [
      "-2.845283203125e-10\n"
     ]
    }
   ],
   "source": [
    "X = [5, 1, 2, 3, 1, 2, 5, 4]\n",
    "P = [0.05, 0.05, 0.15, 0.05, 0.15, 0.2, 0.1, 0.25]\n",
    "\n",
    "# import what you need first\n",
    "from operator import mul\n",
    "from functools import reduce\n",
    "\n",
    "mew = reduce(lambda x, y: x*y, map(mul, X, P))\n",
    "vari = reduce(lambda x, y: x*y, map(lambda p, x: p*(x*x), X, P))\n",
    "print(vari - (mew*mew))"
   ]
  },
  {
   "cell_type": "markdown",
   "id": "6633bd81",
   "metadata": {},
   "source": [
    "## Question 3: Numpy (30 points)\n",
    "\n",
    "Complete the following code cells as required."
   ]
  },
  {
   "cell_type": "code",
   "execution_count": 5,
   "id": "15488d0c",
   "metadata": {},
   "outputs": [
    {
     "data": {
      "text/plain": [
       "array([[1, 2, 3]])"
      ]
     },
     "execution_count": 5,
     "metadata": {},
     "output_type": "execute_result"
    }
   ],
   "source": [
    "# TO DO (3 points)\n",
    "# Create a 2-D numpy array [[1, 2, 3, 4]]\n",
    "import numpy as np\n",
    "np.arange(1, 4, 1).reshape((1,3))"
   ]
  },
  {
   "cell_type": "code",
   "execution_count": 9,
   "id": "c9989167",
   "metadata": {},
   "outputs": [
    {
     "data": {
      "text/plain": [
       "array([[ 1,  2,  3,  4],\n",
       "       [ 5,  6,  7,  8],\n",
       "       [ 9, 10, 11, 12]])"
      ]
     },
     "execution_count": 9,
     "metadata": {},
     "output_type": "execute_result"
    }
   ],
   "source": [
    "# TO DO (3 points)\n",
    "# Create a 2-D numpy array \n",
    "#[[ 1  2  3  4]\n",
    "#[ 5  6  7  8]\n",
    "#[ 9 10 11 12]]\n",
    "\n",
    "x = np.arange(1, 13, 1).reshape((3,4))\n",
    "x"
   ]
  },
  {
   "cell_type": "code",
   "execution_count": 27,
   "id": "2fd309b4",
   "metadata": {},
   "outputs": [
    {
     "data": {
      "text/plain": [
       "array([[ 1,  2,  3],\n",
       "       [ 4,  5,  6],\n",
       "       [ 7,  8,  9],\n",
       "       [10, 11, 12]])"
      ]
     },
     "execution_count": 27,
     "metadata": {},
     "output_type": "execute_result"
    }
   ],
   "source": [
    "# TO DO (3 points)\n",
    "# reshape the above array to a 4-row, 3-col array\n",
    "x = x.reshape((4,3))\n",
    "x"
   ]
  },
  {
   "cell_type": "code",
   "execution_count": 45,
   "id": "b32dfd18",
   "metadata": {},
   "outputs": [
    {
     "name": "stdout",
     "output_type": "stream",
     "text": [
      "[[1 2 3]\n",
      " [4 5 6]\n",
      " [7 8 9]]\n",
      "[[10 11 12]]\n",
      "[[1 2 3]\n",
      " [4 5 6]\n",
      " [7 8 9]]\n",
      "[[10 11 12]]\n"
     ]
    }
   ],
   "source": [
    "# TO DO (3 points)\n",
    "# split the above array to two subarrays using a split function: \n",
    "#[[1, 2, 3], [4, 5, 6], [7, 8, 9]]  and [[10, 11, 12]]\n",
    "y1, y2, y3 = np.vsplit(x, [3, 4])\n",
    "print(y1)\n",
    "print(y2)\n",
    "# TO DO (2 points)\n",
    "# Use array slicing to get the same subarrays\n",
    "print(x[0:3])\n",
    "print(x[3:])"
   ]
  },
  {
   "cell_type": "code",
   "execution_count": 48,
   "id": "85e07c6b",
   "metadata": {},
   "outputs": [
    {
     "name": "stdout",
     "output_type": "stream",
     "text": [
      "[0 1 2 3 4 5 6 7 8]\n",
      "[[1 2]\n",
      " [3 4]]\n"
     ]
    }
   ],
   "source": [
    "# TO DO (2 points)\n",
    "# create a 1-D numpy array [0, 1, 2, 3, 4, 5, 6, 7, 8]\n",
    "z = np.arange(9)\n",
    "print(z)\n",
    "\n",
    "\n",
    "# TO DO (3 points)\n",
    "#Use fancy indexing to create the following 2-D array from the above 1-D array\n",
    "#[[1 2]\n",
    "#[3 4]]\n",
    "#You must use fancy indexing to get any points\n",
    "indices = np.array([[1,2],[3,4]])\n",
    "print(z[indices])\n"
   ]
  },
  {
   "cell_type": "code",
   "execution_count": 54,
   "id": "99e18699",
   "metadata": {},
   "outputs": [
    {
     "name": "stdout",
     "output_type": "stream",
     "text": [
      "[[ 1  2  3  4]\n",
      " [ 5  6  7  8]\n",
      " [ 9 10 11 12]]\n",
      "====\n",
      "[[ 5  6  7  8]\n",
      " [ 9 10 11 12]]\n"
     ]
    }
   ],
   "source": [
    "# TO DO (3 points)\n",
    "# create a 1-D numpy array [1, 2, 3, 4, 5, 6, 7, 8, 9, 10, 11, 12]\n",
    "# Then reshape it to (3, 4)\n",
    "\n",
    "arr = np.arange(1, 13, 1).reshape(3,4)\n",
    "print(arr)\n",
    "print('====')\n",
    "# TO DO (3 points)\n",
    "#Use fancy indexing to get the last two rows of the reshaped array\n",
    "#You must use fancy indexing to get any points\n",
    "\n",
    "print(arr[np.array([1, 2])])\n"
   ]
  },
  {
   "cell_type": "code",
   "execution_count": 57,
   "id": "7178a9db",
   "metadata": {},
   "outputs": [
    {
     "name": "stdout",
     "output_type": "stream",
     "text": [
      "[[6 9 4 3]\n",
      " [3 1 3 9]\n",
      " [1 8 0 4]\n",
      " [4 5 5 9]]\n",
      "[4 3 3 1 3 1 0 4 4]\n"
     ]
    }
   ],
   "source": [
    "# TO DO (2 points)\n",
    "# Create an 4x4 array filled with random integers from range [0, 10)\n",
    "# hint: Use randint\n",
    "arr2 = np.random.randint(0, 10, (4,4))\n",
    "print(arr2)\n",
    "# TO DO (3 points)\n",
    "#Use boolean array as mask to find all the elements < 5 from the above array\n",
    "print(arr2[arr2 < 5])\n"
   ]
  },
  {
   "cell_type": "markdown",
   "id": "354f8724",
   "metadata": {},
   "source": [
    "## Question 4: Pandas (35 points)\n",
    "\n",
    "Complete the following code cells as required."
   ]
  },
  {
   "cell_type": "code",
   "execution_count": 90,
   "id": "52c14562",
   "metadata": {},
   "outputs": [
    {
     "data": {
      "text/html": [
       "<div>\n",
       "<style scoped>\n",
       "    .dataframe tbody tr th:only-of-type {\n",
       "        vertical-align: middle;\n",
       "    }\n",
       "\n",
       "    .dataframe tbody tr th {\n",
       "        vertical-align: top;\n",
       "    }\n",
       "\n",
       "    .dataframe thead th {\n",
       "        text-align: right;\n",
       "    }\n",
       "</style>\n",
       "<table border=\"1\" class=\"dataframe\">\n",
       "  <thead>\n",
       "    <tr style=\"text-align: right;\">\n",
       "      <th></th>\n",
       "      <th>Make</th>\n",
       "      <th>Colour</th>\n",
       "      <th>Odometer (KM)</th>\n",
       "      <th>Doors</th>\n",
       "      <th>Price</th>\n",
       "    </tr>\n",
       "  </thead>\n",
       "  <tbody>\n",
       "    <tr>\n",
       "      <th>0</th>\n",
       "      <td>Honda</td>\n",
       "      <td>White</td>\n",
       "      <td>35431.0</td>\n",
       "      <td>4.0</td>\n",
       "      <td>15323.0</td>\n",
       "    </tr>\n",
       "    <tr>\n",
       "      <th>1</th>\n",
       "      <td>BMW</td>\n",
       "      <td>Blue</td>\n",
       "      <td>192714.0</td>\n",
       "      <td>5.0</td>\n",
       "      <td>19943.0</td>\n",
       "    </tr>\n",
       "    <tr>\n",
       "      <th>2</th>\n",
       "      <td>Honda</td>\n",
       "      <td>White</td>\n",
       "      <td>84714.0</td>\n",
       "      <td>4.0</td>\n",
       "      <td>28343.0</td>\n",
       "    </tr>\n",
       "    <tr>\n",
       "      <th>3</th>\n",
       "      <td>Toyota</td>\n",
       "      <td>White</td>\n",
       "      <td>154365.0</td>\n",
       "      <td>4.0</td>\n",
       "      <td>13434.0</td>\n",
       "    </tr>\n",
       "    <tr>\n",
       "      <th>4</th>\n",
       "      <td>Nissan</td>\n",
       "      <td>Blue</td>\n",
       "      <td>181577.0</td>\n",
       "      <td>3.0</td>\n",
       "      <td>14043.0</td>\n",
       "    </tr>\n",
       "    <tr>\n",
       "      <th>5</th>\n",
       "      <td>Honda</td>\n",
       "      <td>Red</td>\n",
       "      <td>42652.0</td>\n",
       "      <td>4.0</td>\n",
       "      <td>23883.0</td>\n",
       "    </tr>\n",
       "    <tr>\n",
       "      <th>6</th>\n",
       "      <td>Toyota</td>\n",
       "      <td>Blue</td>\n",
       "      <td>163453.0</td>\n",
       "      <td>4.0</td>\n",
       "      <td>8473.0</td>\n",
       "    </tr>\n",
       "    <tr>\n",
       "      <th>7</th>\n",
       "      <td>Honda</td>\n",
       "      <td>White</td>\n",
       "      <td>NaN</td>\n",
       "      <td>4.0</td>\n",
       "      <td>20306.0</td>\n",
       "    </tr>\n",
       "    <tr>\n",
       "      <th>8</th>\n",
       "      <td>NaN</td>\n",
       "      <td>White</td>\n",
       "      <td>130538.0</td>\n",
       "      <td>4.0</td>\n",
       "      <td>9374.0</td>\n",
       "    </tr>\n",
       "    <tr>\n",
       "      <th>9</th>\n",
       "      <td>Honda</td>\n",
       "      <td>Blue</td>\n",
       "      <td>51029.0</td>\n",
       "      <td>4.0</td>\n",
       "      <td>26683.0</td>\n",
       "    </tr>\n",
       "  </tbody>\n",
       "</table>\n",
       "</div>"
      ],
      "text/plain": [
       "     Make Colour  Odometer (KM)  Doors    Price\n",
       "0   Honda  White        35431.0    4.0  15323.0\n",
       "1     BMW   Blue       192714.0    5.0  19943.0\n",
       "2   Honda  White        84714.0    4.0  28343.0\n",
       "3  Toyota  White       154365.0    4.0  13434.0\n",
       "4  Nissan   Blue       181577.0    3.0  14043.0\n",
       "5   Honda    Red        42652.0    4.0  23883.0\n",
       "6  Toyota   Blue       163453.0    4.0   8473.0\n",
       "7   Honda  White            NaN    4.0  20306.0\n",
       "8     NaN  White       130538.0    4.0   9374.0\n",
       "9   Honda   Blue        51029.0    4.0  26683.0"
      ]
     },
     "execution_count": 90,
     "metadata": {},
     "output_type": "execute_result"
    }
   ],
   "source": [
    "# TO DO (2 points)\n",
    "# Read the csv file 'car-sales.csv' as a pandas dataframe \n",
    "# and show the first 10 records\n",
    "import pandas as pd\n",
    "df = pd.read_csv('car-sales.csv')\n",
    "df.head(10)"
   ]
  },
  {
   "cell_type": "code",
   "execution_count": 91,
   "id": "0eced60b",
   "metadata": {},
   "outputs": [
    {
     "data": {
      "text/html": [
       "<div>\n",
       "<style scoped>\n",
       "    .dataframe tbody tr th:only-of-type {\n",
       "        vertical-align: middle;\n",
       "    }\n",
       "\n",
       "    .dataframe tbody tr th {\n",
       "        vertical-align: top;\n",
       "    }\n",
       "\n",
       "    .dataframe thead th {\n",
       "        text-align: right;\n",
       "    }\n",
       "</style>\n",
       "<table border=\"1\" class=\"dataframe\">\n",
       "  <thead>\n",
       "    <tr style=\"text-align: right;\">\n",
       "      <th></th>\n",
       "      <th>MAKE</th>\n",
       "      <th>COLOUR</th>\n",
       "      <th>ODOMETER (KM)</th>\n",
       "      <th>DOORS</th>\n",
       "      <th>PRICE</th>\n",
       "    </tr>\n",
       "  </thead>\n",
       "  <tbody>\n",
       "    <tr>\n",
       "      <th>0</th>\n",
       "      <td>Honda</td>\n",
       "      <td>White</td>\n",
       "      <td>35431.0</td>\n",
       "      <td>4.0</td>\n",
       "      <td>15323.0</td>\n",
       "    </tr>\n",
       "    <tr>\n",
       "      <th>1</th>\n",
       "      <td>BMW</td>\n",
       "      <td>Blue</td>\n",
       "      <td>192714.0</td>\n",
       "      <td>5.0</td>\n",
       "      <td>19943.0</td>\n",
       "    </tr>\n",
       "    <tr>\n",
       "      <th>2</th>\n",
       "      <td>Honda</td>\n",
       "      <td>White</td>\n",
       "      <td>84714.0</td>\n",
       "      <td>4.0</td>\n",
       "      <td>28343.0</td>\n",
       "    </tr>\n",
       "    <tr>\n",
       "      <th>3</th>\n",
       "      <td>Toyota</td>\n",
       "      <td>White</td>\n",
       "      <td>154365.0</td>\n",
       "      <td>4.0</td>\n",
       "      <td>13434.0</td>\n",
       "    </tr>\n",
       "    <tr>\n",
       "      <th>4</th>\n",
       "      <td>Nissan</td>\n",
       "      <td>Blue</td>\n",
       "      <td>181577.0</td>\n",
       "      <td>3.0</td>\n",
       "      <td>14043.0</td>\n",
       "    </tr>\n",
       "  </tbody>\n",
       "</table>\n",
       "</div>"
      ],
      "text/plain": [
       "     MAKE COLOUR  ODOMETER (KM)  DOORS    PRICE\n",
       "0   Honda  White        35431.0    4.0  15323.0\n",
       "1     BMW   Blue       192714.0    5.0  19943.0\n",
       "2   Honda  White        84714.0    4.0  28343.0\n",
       "3  Toyota  White       154365.0    4.0  13434.0\n",
       "4  Nissan   Blue       181577.0    3.0  14043.0"
      ]
     },
     "execution_count": 91,
     "metadata": {},
     "output_type": "execute_result"
    }
   ],
   "source": [
    "# TO DO (3 points)\n",
    "# Change the names of all columns to uppercase\n",
    "df = df.rename(columns=str.upper)\n",
    "df.head()"
   ]
  },
  {
   "cell_type": "code",
   "execution_count": 92,
   "id": "290e80cc",
   "metadata": {},
   "outputs": [
    {
     "data": {
      "text/plain": [
       "MAKE             951\n",
       "COLOUR           950\n",
       "ODOMETER (KM)    950\n",
       "DOORS            950\n",
       "PRICE            950\n",
       "dtype: int64"
      ]
     },
     "execution_count": 92,
     "metadata": {},
     "output_type": "execute_result"
    }
   ],
   "source": [
    "# TO DO (2 points)\n",
    "# Use one line of code to find the total number of records\n",
    "df.count()"
   ]
  },
  {
   "cell_type": "code",
   "execution_count": 93,
   "id": "03776ba8",
   "metadata": {},
   "outputs": [],
   "source": [
    "# Extra: 5 Points\n",
    "# drop all the rows with missing values in MAKE\n",
    "df.dropna(subset='MAKE', inplace=True)"
   ]
  },
  {
   "cell_type": "code",
   "execution_count": 95,
   "id": "25571cab",
   "metadata": {},
   "outputs": [
    {
     "ename": "ValueError",
     "evalue": "No axis named ODOMETER (KM) for object type DataFrame",
     "output_type": "error",
     "traceback": [
      "\u001b[0;31m---------------------------------------------------------------------------\u001b[0m",
      "\u001b[0;31mKeyError\u001b[0m                                  Traceback (most recent call last)",
      "File \u001b[0;32m/opt/homebrew/lib/python3.9/site-packages/pandas/core/generic.py:550\u001b[0m, in \u001b[0;36mNDFrame._get_axis_number\u001b[0;34m(cls, axis)\u001b[0m\n\u001b[1;32m    <a href='file:///opt/homebrew/lib/python3.9/site-packages/pandas/core/generic.py?line=548'>549</a>\u001b[0m \u001b[39mtry\u001b[39;00m:\n\u001b[0;32m--> <a href='file:///opt/homebrew/lib/python3.9/site-packages/pandas/core/generic.py?line=549'>550</a>\u001b[0m     \u001b[39mreturn\u001b[39;00m \u001b[39mcls\u001b[39;49m\u001b[39m.\u001b[39;49m_AXIS_TO_AXIS_NUMBER[axis]\n\u001b[1;32m    <a href='file:///opt/homebrew/lib/python3.9/site-packages/pandas/core/generic.py?line=550'>551</a>\u001b[0m \u001b[39mexcept\u001b[39;00m \u001b[39mKeyError\u001b[39;00m:\n",
      "\u001b[0;31mKeyError\u001b[0m: 'ODOMETER (KM)'",
      "\nDuring handling of the above exception, another exception occurred:\n",
      "\u001b[0;31mValueError\u001b[0m                                Traceback (most recent call last)",
      "\u001b[1;32m/Users/jkcarney/Code/school/453/453_test1.ipynb Cell 21'\u001b[0m in \u001b[0;36m<module>\u001b[0;34m\u001b[0m\n\u001b[1;32m      <a href='vscode-notebook-cell:/Users/jkcarney/Code/school/453/453_test1.ipynb#ch0000020?line=0'>1</a>\u001b[0m \u001b[39m# TO DO (5 points)\u001b[39;00m\n\u001b[1;32m      <a href='vscode-notebook-cell:/Users/jkcarney/Code/school/453/453_test1.ipynb#ch0000020?line=1'>2</a>\u001b[0m \u001b[39m# Fill missing values in ODOMETER (KM) with the mean value of ODOMETER (KM)\u001b[39;00m\n\u001b[0;32m----> <a href='vscode-notebook-cell:/Users/jkcarney/Code/school/453/453_test1.ipynb#ch0000020?line=2'>3</a>\u001b[0m df \u001b[39m=\u001b[39m df[\u001b[39m'\u001b[39m\u001b[39mODOMETER (KM)\u001b[39m\u001b[39m'\u001b[39m]\u001b[39m.\u001b[39mfillna(df\u001b[39m.\u001b[39;49mmean(\u001b[39m'\u001b[39;49m\u001b[39mODOMETER (KM)\u001b[39;49m\u001b[39m'\u001b[39;49m), inplace\u001b[39m=\u001b[39m\u001b[39mTrue\u001b[39;00m)\n\u001b[1;32m      <a href='vscode-notebook-cell:/Users/jkcarney/Code/school/453/453_test1.ipynb#ch0000020?line=3'>4</a>\u001b[0m \u001b[39m# TO DO (3 points)\u001b[39;00m\n\u001b[1;32m      <a href='vscode-notebook-cell:/Users/jkcarney/Code/school/453/453_test1.ipynb#ch0000020?line=4'>5</a>\u001b[0m \u001b[39m# Fill missing values in PRICE with the mean value of PRICE\u001b[39;00m\n\u001b[1;32m      <a href='vscode-notebook-cell:/Users/jkcarney/Code/school/453/453_test1.ipynb#ch0000020?line=5'>6</a>\u001b[0m df\u001b[39m.\u001b[39mfillna(df\u001b[39m.\u001b[39mPRICE)\n",
      "File \u001b[0;32m/opt/homebrew/lib/python3.9/site-packages/pandas/core/generic.py:11127\u001b[0m, in \u001b[0;36mNDFrame._add_numeric_operations.<locals>.mean\u001b[0;34m(self, axis, skipna, level, numeric_only, **kwargs)\u001b[0m\n\u001b[1;32m  <a href='file:///opt/homebrew/lib/python3.9/site-packages/pandas/core/generic.py?line=11108'>11109</a>\u001b[0m \u001b[39m@doc\u001b[39m(\n\u001b[1;32m  <a href='file:///opt/homebrew/lib/python3.9/site-packages/pandas/core/generic.py?line=11109'>11110</a>\u001b[0m     _num_doc,\n\u001b[1;32m  <a href='file:///opt/homebrew/lib/python3.9/site-packages/pandas/core/generic.py?line=11110'>11111</a>\u001b[0m     desc\u001b[39m=\u001b[39m\u001b[39m\"\u001b[39m\u001b[39mReturn the mean of the values over the requested axis.\u001b[39m\u001b[39m\"\u001b[39m,\n\u001b[0;32m   (...)\u001b[0m\n\u001b[1;32m  <a href='file:///opt/homebrew/lib/python3.9/site-packages/pandas/core/generic.py?line=11124'>11125</a>\u001b[0m     \u001b[39m*\u001b[39m\u001b[39m*\u001b[39mkwargs,\n\u001b[1;32m  <a href='file:///opt/homebrew/lib/python3.9/site-packages/pandas/core/generic.py?line=11125'>11126</a>\u001b[0m ):\n\u001b[0;32m> <a href='file:///opt/homebrew/lib/python3.9/site-packages/pandas/core/generic.py?line=11126'>11127</a>\u001b[0m     \u001b[39mreturn\u001b[39;00m NDFrame\u001b[39m.\u001b[39;49mmean(\u001b[39mself\u001b[39;49m, axis, skipna, level, numeric_only, \u001b[39m*\u001b[39;49m\u001b[39m*\u001b[39;49mkwargs)\n",
      "File \u001b[0;32m/opt/homebrew/lib/python3.9/site-packages/pandas/core/generic.py:10697\u001b[0m, in \u001b[0;36mNDFrame.mean\u001b[0;34m(self, axis, skipna, level, numeric_only, **kwargs)\u001b[0m\n\u001b[1;32m  <a href='file:///opt/homebrew/lib/python3.9/site-packages/pandas/core/generic.py?line=10688'>10689</a>\u001b[0m \u001b[39mdef\u001b[39;00m \u001b[39mmean\u001b[39m(\n\u001b[1;32m  <a href='file:///opt/homebrew/lib/python3.9/site-packages/pandas/core/generic.py?line=10689'>10690</a>\u001b[0m     \u001b[39mself\u001b[39m,\n\u001b[1;32m  <a href='file:///opt/homebrew/lib/python3.9/site-packages/pandas/core/generic.py?line=10690'>10691</a>\u001b[0m     axis: Axis \u001b[39m|\u001b[39m \u001b[39mNone\u001b[39;00m \u001b[39m|\u001b[39m lib\u001b[39m.\u001b[39mNoDefault \u001b[39m=\u001b[39m lib\u001b[39m.\u001b[39mno_default,\n\u001b[0;32m   (...)\u001b[0m\n\u001b[1;32m  <a href='file:///opt/homebrew/lib/python3.9/site-packages/pandas/core/generic.py?line=10694'>10695</a>\u001b[0m     \u001b[39m*\u001b[39m\u001b[39m*\u001b[39mkwargs,\n\u001b[1;32m  <a href='file:///opt/homebrew/lib/python3.9/site-packages/pandas/core/generic.py?line=10695'>10696</a>\u001b[0m ) \u001b[39m-\u001b[39m\u001b[39m>\u001b[39m Series \u001b[39m|\u001b[39m \u001b[39mfloat\u001b[39m:\n\u001b[0;32m> <a href='file:///opt/homebrew/lib/python3.9/site-packages/pandas/core/generic.py?line=10696'>10697</a>\u001b[0m     \u001b[39mreturn\u001b[39;00m \u001b[39mself\u001b[39;49m\u001b[39m.\u001b[39;49m_stat_function(\n\u001b[1;32m  <a href='file:///opt/homebrew/lib/python3.9/site-packages/pandas/core/generic.py?line=10697'>10698</a>\u001b[0m         \u001b[39m\"\u001b[39;49m\u001b[39mmean\u001b[39;49m\u001b[39m\"\u001b[39;49m, nanops\u001b[39m.\u001b[39;49mnanmean, axis, skipna, level, numeric_only, \u001b[39m*\u001b[39;49m\u001b[39m*\u001b[39;49mkwargs\n\u001b[1;32m  <a href='file:///opt/homebrew/lib/python3.9/site-packages/pandas/core/generic.py?line=10698'>10699</a>\u001b[0m     )\n",
      "File \u001b[0;32m/opt/homebrew/lib/python3.9/site-packages/pandas/core/generic.py:10649\u001b[0m, in \u001b[0;36mNDFrame._stat_function\u001b[0;34m(self, name, func, axis, skipna, level, numeric_only, **kwargs)\u001b[0m\n\u001b[1;32m  <a href='file:///opt/homebrew/lib/python3.9/site-packages/pandas/core/generic.py?line=10638'>10639</a>\u001b[0m     warnings\u001b[39m.\u001b[39mwarn(\n\u001b[1;32m  <a href='file:///opt/homebrew/lib/python3.9/site-packages/pandas/core/generic.py?line=10639'>10640</a>\u001b[0m         \u001b[39m\"\u001b[39m\u001b[39mUsing the level keyword in DataFrame and Series aggregations is \u001b[39m\u001b[39m\"\u001b[39m\n\u001b[1;32m  <a href='file:///opt/homebrew/lib/python3.9/site-packages/pandas/core/generic.py?line=10640'>10641</a>\u001b[0m         \u001b[39m\"\u001b[39m\u001b[39mdeprecated and will be removed in a future version. Use groupby \u001b[39m\u001b[39m\"\u001b[39m\n\u001b[0;32m   (...)\u001b[0m\n\u001b[1;32m  <a href='file:///opt/homebrew/lib/python3.9/site-packages/pandas/core/generic.py?line=10643'>10644</a>\u001b[0m         stacklevel\u001b[39m=\u001b[39mfind_stack_level(),\n\u001b[1;32m  <a href='file:///opt/homebrew/lib/python3.9/site-packages/pandas/core/generic.py?line=10644'>10645</a>\u001b[0m     )\n\u001b[1;32m  <a href='file:///opt/homebrew/lib/python3.9/site-packages/pandas/core/generic.py?line=10645'>10646</a>\u001b[0m     \u001b[39mreturn\u001b[39;00m \u001b[39mself\u001b[39m\u001b[39m.\u001b[39m_agg_by_level(\n\u001b[1;32m  <a href='file:///opt/homebrew/lib/python3.9/site-packages/pandas/core/generic.py?line=10646'>10647</a>\u001b[0m         name, axis\u001b[39m=\u001b[39maxis, level\u001b[39m=\u001b[39mlevel, skipna\u001b[39m=\u001b[39mskipna, numeric_only\u001b[39m=\u001b[39mnumeric_only\n\u001b[1;32m  <a href='file:///opt/homebrew/lib/python3.9/site-packages/pandas/core/generic.py?line=10647'>10648</a>\u001b[0m     )\n\u001b[0;32m> <a href='file:///opt/homebrew/lib/python3.9/site-packages/pandas/core/generic.py?line=10648'>10649</a>\u001b[0m \u001b[39mreturn\u001b[39;00m \u001b[39mself\u001b[39;49m\u001b[39m.\u001b[39;49m_reduce(\n\u001b[1;32m  <a href='file:///opt/homebrew/lib/python3.9/site-packages/pandas/core/generic.py?line=10649'>10650</a>\u001b[0m     func, name\u001b[39m=\u001b[39;49mname, axis\u001b[39m=\u001b[39;49maxis, skipna\u001b[39m=\u001b[39;49mskipna, numeric_only\u001b[39m=\u001b[39;49mnumeric_only\n\u001b[1;32m  <a href='file:///opt/homebrew/lib/python3.9/site-packages/pandas/core/generic.py?line=10650'>10651</a>\u001b[0m )\n",
      "File \u001b[0;32m/opt/homebrew/lib/python3.9/site-packages/pandas/core/frame.py:9954\u001b[0m, in \u001b[0;36mDataFrame._reduce\u001b[0;34m(self, op, name, axis, skipna, numeric_only, filter_type, **kwds)\u001b[0m\n\u001b[1;32m   <a href='file:///opt/homebrew/lib/python3.9/site-packages/pandas/core/frame.py?line=9950'>9951</a>\u001b[0m         \u001b[39mself\u001b[39m \u001b[39m=\u001b[39m \u001b[39mtype\u001b[39m(\u001b[39mself\u001b[39m)(mgr)\n\u001b[1;32m   <a href='file:///opt/homebrew/lib/python3.9/site-packages/pandas/core/frame.py?line=9952'>9953</a>\u001b[0m \u001b[39m# TODO: Make other agg func handle axis=None properly GH#21597\u001b[39;00m\n\u001b[0;32m-> <a href='file:///opt/homebrew/lib/python3.9/site-packages/pandas/core/frame.py?line=9953'>9954</a>\u001b[0m axis \u001b[39m=\u001b[39m \u001b[39mself\u001b[39;49m\u001b[39m.\u001b[39;49m_get_axis_number(axis)\n\u001b[1;32m   <a href='file:///opt/homebrew/lib/python3.9/site-packages/pandas/core/frame.py?line=9954'>9955</a>\u001b[0m labels \u001b[39m=\u001b[39m \u001b[39mself\u001b[39m\u001b[39m.\u001b[39m_get_agg_axis(axis)\n\u001b[1;32m   <a href='file:///opt/homebrew/lib/python3.9/site-packages/pandas/core/frame.py?line=9955'>9956</a>\u001b[0m \u001b[39massert\u001b[39;00m axis \u001b[39min\u001b[39;00m [\u001b[39m0\u001b[39m, \u001b[39m1\u001b[39m]\n",
      "File \u001b[0;32m/opt/homebrew/lib/python3.9/site-packages/pandas/core/generic.py:552\u001b[0m, in \u001b[0;36mNDFrame._get_axis_number\u001b[0;34m(cls, axis)\u001b[0m\n\u001b[1;32m    <a href='file:///opt/homebrew/lib/python3.9/site-packages/pandas/core/generic.py?line=549'>550</a>\u001b[0m     \u001b[39mreturn\u001b[39;00m \u001b[39mcls\u001b[39m\u001b[39m.\u001b[39m_AXIS_TO_AXIS_NUMBER[axis]\n\u001b[1;32m    <a href='file:///opt/homebrew/lib/python3.9/site-packages/pandas/core/generic.py?line=550'>551</a>\u001b[0m \u001b[39mexcept\u001b[39;00m \u001b[39mKeyError\u001b[39;00m:\n\u001b[0;32m--> <a href='file:///opt/homebrew/lib/python3.9/site-packages/pandas/core/generic.py?line=551'>552</a>\u001b[0m     \u001b[39mraise\u001b[39;00m \u001b[39mValueError\u001b[39;00m(\u001b[39mf\u001b[39m\u001b[39m\"\u001b[39m\u001b[39mNo axis named \u001b[39m\u001b[39m{\u001b[39;00maxis\u001b[39m}\u001b[39;00m\u001b[39m for object type \u001b[39m\u001b[39m{\u001b[39;00m\u001b[39mcls\u001b[39m\u001b[39m.\u001b[39m\u001b[39m__name__\u001b[39m\u001b[39m}\u001b[39;00m\u001b[39m\"\u001b[39m)\n",
      "\u001b[0;31mValueError\u001b[0m: No axis named ODOMETER (KM) for object type DataFrame"
     ]
    }
   ],
   "source": [
    "# TO DO (5 points)\n",
    "# Fill missing values in ODOMETER (KM) with the mean value of ODOMETER (KM)\n",
    "# why\n",
    "df = df['ODOMETER (KM)'].fillna(df.mean('ODOMETER (KM)'), inplace=True)\n",
    "# TO DO (3 points)\n",
    "# Fill missing values in PRICE with the mean value of PRICE\n",
    "df.fillna(df.PRICE)\n"
   ]
  },
  {
   "cell_type": "code",
   "execution_count": 100,
   "id": "6ba9b4f4",
   "metadata": {},
   "outputs": [
    {
     "data": {
      "text/html": [
       "<div>\n",
       "<style scoped>\n",
       "    .dataframe tbody tr th:only-of-type {\n",
       "        vertical-align: middle;\n",
       "    }\n",
       "\n",
       "    .dataframe tbody tr th {\n",
       "        vertical-align: top;\n",
       "    }\n",
       "\n",
       "    .dataframe thead th {\n",
       "        text-align: right;\n",
       "    }\n",
       "</style>\n",
       "<table border=\"1\" class=\"dataframe\">\n",
       "  <thead>\n",
       "    <tr style=\"text-align: right;\">\n",
       "      <th></th>\n",
       "      <th>MAKE</th>\n",
       "      <th>COLOUR</th>\n",
       "      <th>ODOMETER (KM)</th>\n",
       "      <th>PRICE</th>\n",
       "    </tr>\n",
       "  </thead>\n",
       "  <tbody>\n",
       "    <tr>\n",
       "      <th>0</th>\n",
       "      <td>Honda</td>\n",
       "      <td>White</td>\n",
       "      <td>35431.0</td>\n",
       "      <td>15323.0</td>\n",
       "    </tr>\n",
       "    <tr>\n",
       "      <th>1</th>\n",
       "      <td>BMW</td>\n",
       "      <td>Blue</td>\n",
       "      <td>192714.0</td>\n",
       "      <td>19943.0</td>\n",
       "    </tr>\n",
       "    <tr>\n",
       "      <th>2</th>\n",
       "      <td>Honda</td>\n",
       "      <td>White</td>\n",
       "      <td>84714.0</td>\n",
       "      <td>28343.0</td>\n",
       "    </tr>\n",
       "    <tr>\n",
       "      <th>3</th>\n",
       "      <td>Toyota</td>\n",
       "      <td>White</td>\n",
       "      <td>154365.0</td>\n",
       "      <td>13434.0</td>\n",
       "    </tr>\n",
       "    <tr>\n",
       "      <th>4</th>\n",
       "      <td>Nissan</td>\n",
       "      <td>Blue</td>\n",
       "      <td>181577.0</td>\n",
       "      <td>14043.0</td>\n",
       "    </tr>\n",
       "    <tr>\n",
       "      <th>...</th>\n",
       "      <td>...</td>\n",
       "      <td>...</td>\n",
       "      <td>...</td>\n",
       "      <td>...</td>\n",
       "    </tr>\n",
       "    <tr>\n",
       "      <th>994</th>\n",
       "      <td>BMW</td>\n",
       "      <td>Blue</td>\n",
       "      <td>163322.0</td>\n",
       "      <td>31666.0</td>\n",
       "    </tr>\n",
       "    <tr>\n",
       "      <th>995</th>\n",
       "      <td>Toyota</td>\n",
       "      <td>Black</td>\n",
       "      <td>35820.0</td>\n",
       "      <td>32042.0</td>\n",
       "    </tr>\n",
       "    <tr>\n",
       "      <th>997</th>\n",
       "      <td>Nissan</td>\n",
       "      <td>Blue</td>\n",
       "      <td>66604.0</td>\n",
       "      <td>31570.0</td>\n",
       "    </tr>\n",
       "    <tr>\n",
       "      <th>998</th>\n",
       "      <td>Honda</td>\n",
       "      <td>White</td>\n",
       "      <td>215883.0</td>\n",
       "      <td>4001.0</td>\n",
       "    </tr>\n",
       "    <tr>\n",
       "      <th>999</th>\n",
       "      <td>Toyota</td>\n",
       "      <td>Blue</td>\n",
       "      <td>248360.0</td>\n",
       "      <td>12732.0</td>\n",
       "    </tr>\n",
       "  </tbody>\n",
       "</table>\n",
       "<p>773 rows × 4 columns</p>\n",
       "</div>"
      ],
      "text/plain": [
       "       MAKE COLOUR  ODOMETER (KM)    PRICE\n",
       "0     Honda  White        35431.0  15323.0\n",
       "1       BMW   Blue       192714.0  19943.0\n",
       "2     Honda  White        84714.0  28343.0\n",
       "3    Toyota  White       154365.0  13434.0\n",
       "4    Nissan   Blue       181577.0  14043.0\n",
       "..      ...    ...            ...      ...\n",
       "994     BMW   Blue       163322.0  31666.0\n",
       "995  Toyota  Black        35820.0  32042.0\n",
       "997  Nissan   Blue        66604.0  31570.0\n",
       "998   Honda  White       215883.0   4001.0\n",
       "999  Toyota   Blue       248360.0  12732.0\n",
       "\n",
       "[773 rows x 4 columns]"
      ]
     },
     "execution_count": 100,
     "metadata": {},
     "output_type": "execute_result"
    }
   ],
   "source": [
    "# TO DO (3 points)\n",
    "# Get a new pandas DataFrame only contains four columns: MAKE, COLOUR, ODOMETER (KM), and PRICE\n",
    "# To get any points, DO NOT drop 'DOORS'.\n",
    "df2 = df[[\"MAKE\", \"COLOUR\", \"ODOMETER (KM)\", \"PRICE\"]]\n",
    "df2"
   ]
  },
  {
   "cell_type": "code",
   "execution_count": 101,
   "id": "786fc510",
   "metadata": {},
   "outputs": [
    {
     "name": "stderr",
     "output_type": "stream",
     "text": [
      "/var/folders/4q/v53r629s5wv9h1ph62srxwsm0000gn/T/ipykernel_89381/2654060851.py:3: SettingWithCopyWarning: \n",
      "A value is trying to be set on a copy of a slice from a DataFrame\n",
      "\n",
      "See the caveats in the documentation: https://pandas.pydata.org/pandas-docs/stable/user_guide/indexing.html#returning-a-view-versus-a-copy\n",
      "  df2.dropna(inplace=True)\n"
     ]
    }
   ],
   "source": [
    "# TO DO (2 points)\n",
    "# Drop missing values from the DataFrame above\n",
    "df2.dropna(inplace=True)"
   ]
  },
  {
   "cell_type": "code",
   "execution_count": 102,
   "id": "6461679a",
   "metadata": {},
   "outputs": [
    {
     "data": {
      "text/html": [
       "<div>\n",
       "<style scoped>\n",
       "    .dataframe tbody tr th:only-of-type {\n",
       "        vertical-align: middle;\n",
       "    }\n",
       "\n",
       "    .dataframe tbody tr th {\n",
       "        vertical-align: top;\n",
       "    }\n",
       "\n",
       "    .dataframe thead th {\n",
       "        text-align: right;\n",
       "    }\n",
       "</style>\n",
       "<table border=\"1\" class=\"dataframe\">\n",
       "  <thead>\n",
       "    <tr style=\"text-align: right;\">\n",
       "      <th></th>\n",
       "      <th>MAKE</th>\n",
       "      <th>COLOUR</th>\n",
       "      <th>ODOMETER (KM)</th>\n",
       "      <th>PRICE</th>\n",
       "    </tr>\n",
       "  </thead>\n",
       "  <tbody>\n",
       "    <tr>\n",
       "      <th>173</th>\n",
       "      <td>Nissan</td>\n",
       "      <td>Black</td>\n",
       "      <td>240536.0</td>\n",
       "      <td>3247.0</td>\n",
       "    </tr>\n",
       "    <tr>\n",
       "      <th>757</th>\n",
       "      <td>Nissan</td>\n",
       "      <td>Blue</td>\n",
       "      <td>233501.0</td>\n",
       "      <td>2796.0</td>\n",
       "    </tr>\n",
       "    <tr>\n",
       "      <th>845</th>\n",
       "      <td>Toyota</td>\n",
       "      <td>Green</td>\n",
       "      <td>243177.0</td>\n",
       "      <td>3125.0</td>\n",
       "    </tr>\n",
       "  </tbody>\n",
       "</table>\n",
       "</div>"
      ],
      "text/plain": [
       "       MAKE COLOUR  ODOMETER (KM)   PRICE\n",
       "173  Nissan  Black       240536.0  3247.0\n",
       "757  Nissan   Blue       233501.0  2796.0\n",
       "845  Toyota  Green       243177.0  3125.0"
      ]
     },
     "execution_count": 102,
     "metadata": {},
     "output_type": "execute_result"
    }
   ],
   "source": [
    "# TO DO (5 points)\n",
    "# Use boolean array as mask to find all records of price < 3500\n",
    "df2[df2['PRICE'] < 3500]"
   ]
  },
  {
   "cell_type": "code",
   "execution_count": 103,
   "id": "d88dae7f",
   "metadata": {},
   "outputs": [
    {
     "data": {
      "text/html": [
       "<div>\n",
       "<style scoped>\n",
       "    .dataframe tbody tr th:only-of-type {\n",
       "        vertical-align: middle;\n",
       "    }\n",
       "\n",
       "    .dataframe tbody tr th {\n",
       "        vertical-align: top;\n",
       "    }\n",
       "\n",
       "    .dataframe thead th {\n",
       "        text-align: right;\n",
       "    }\n",
       "</style>\n",
       "<table border=\"1\" class=\"dataframe\">\n",
       "  <thead>\n",
       "    <tr style=\"text-align: right;\">\n",
       "      <th></th>\n",
       "      <th>MAKE</th>\n",
       "      <th>COLOUR</th>\n",
       "      <th>ODOMETER (KM)</th>\n",
       "      <th>PRICE</th>\n",
       "    </tr>\n",
       "  </thead>\n",
       "  <tbody>\n",
       "    <tr>\n",
       "      <th>757</th>\n",
       "      <td>Nissan</td>\n",
       "      <td>Blue</td>\n",
       "      <td>233501.0</td>\n",
       "      <td>2796.0</td>\n",
       "    </tr>\n",
       "    <tr>\n",
       "      <th>845</th>\n",
       "      <td>Toyota</td>\n",
       "      <td>Green</td>\n",
       "      <td>243177.0</td>\n",
       "      <td>3125.0</td>\n",
       "    </tr>\n",
       "    <tr>\n",
       "      <th>173</th>\n",
       "      <td>Nissan</td>\n",
       "      <td>Black</td>\n",
       "      <td>240536.0</td>\n",
       "      <td>3247.0</td>\n",
       "    </tr>\n",
       "  </tbody>\n",
       "</table>\n",
       "</div>"
      ],
      "text/plain": [
       "       MAKE COLOUR  ODOMETER (KM)   PRICE\n",
       "757  Nissan   Blue       233501.0  2796.0\n",
       "845  Toyota  Green       243177.0  3125.0\n",
       "173  Nissan  Black       240536.0  3247.0"
      ]
     },
     "execution_count": 103,
     "metadata": {},
     "output_type": "execute_result"
    }
   ],
   "source": [
    "# TO DO (5 points)\n",
    "# Find the most expensive three cars\n",
    "df2.sort_values(by='PRICE').head(3)"
   ]
  },
  {
   "cell_type": "code",
   "execution_count": 128,
   "id": "1fdeadae",
   "metadata": {},
   "outputs": [
    {
     "data": {
      "text/plain": [
       "Toyota    306\n",
       "Name: MAKE, dtype: int64"
      ]
     },
     "execution_count": 128,
     "metadata": {},
     "output_type": "execute_result"
    }
   ],
   "source": [
    "# TO DO (5 points)\n",
    "# Find the most popular 'MAKE'\n",
    "s = df2['MAKE'].value_counts()\n",
    "m = s.max()\n",
    "s[df2['MAKE'].value_counts() == m]"
   ]
  }
 ],
 "metadata": {
  "kernelspec": {
   "display_name": "Python 3",
   "language": "python",
   "name": "python3"
  },
  "language_info": {
   "codemirror_mode": {
    "name": "ipython",
    "version": 3
   },
   "file_extension": ".py",
   "mimetype": "text/x-python",
   "name": "python",
   "nbconvert_exporter": "python",
   "pygments_lexer": "ipython3",
   "version": "3.9.10"
  }
 },
 "nbformat": 4,
 "nbformat_minor": 5
}
