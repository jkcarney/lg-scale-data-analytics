{
 "cells": [
  {
   "cell_type": "markdown",
   "metadata": {},
   "source": [
    "# Hierarchical Clustering\n",
    "\n",
    "Hierarchical clustering means creating a tree of clusters by iteratively grouping or separating data points. There are two types of hierarchical clustering:\n",
    "* Agglomerative clustering\n",
    "* Divisive clustering\n",
    "\n",
    "**One of the advantages of hierarchical clustering is that we do not have to specify the number of clusters (but we can).**\n",
    "\n",
    "![](images/1.jpg)"
   ]
  },
  {
   "cell_type": "markdown",
   "metadata": {},
   "source": [
    "## Agglomerative clustering\n",
    "\n",
    "Agglomerative clustering is kind of a bottom-up approach. Each data point is assumed to be a separate cluster at first. Then the similar clusters are iteratively combined.\n",
    "\n",
    "We have a dataset consists of 9 samples. I choose numbers associated with these samples to demonstrate the concept of similarity. At each iteration (or level), the closest numbers (i.e. samples) are combined together. As you can see in the figure below, we start with 9 clusters. The closest ones are combined at the first level and then we have 7 clusters. The number of black lines that intersect with blue lines represents the number of clusters.\n",
    "\n",
    "![](images/2.jpg)"
   ]
  },
  {
   "cell_type": "markdown",
   "metadata": {},
   "source": [
    "The figure above is called dendrogram which is a diagram representing tree-based approach. In hierarchical clustering, dendrograms are used to visualize the relationship among clusters.\n",
    "As we go up, the number of clusters decreases as more samples are combined. After level 6, all samples are combined under one big cluster.\n",
    "\n",
    "![](images/3.jpg)"
   ]
  },
  {
   "cell_type": "markdown",
   "metadata": {},
   "source": [
    "This is a very simple data set to illustrate the purpose but real life data sets are obviously more complex. We mention that “closest data points (or clusters)” are combined together. But how do the algorithms identify closest ones? There are 4 different methods implemented in scikit-learn to measure the similarity:\n",
    "* Ward’s linkage: Minimizes the variance of the clusters being merged. Least increase in total variance around cluster centroids is aimed.\n",
    "* Average linkage: Average distance of each data point in two clusters.\n",
    "* Complete (maximum) linkage: Maximum distance among all data points in two clusters.\n",
    "* Single (minimum) linkage: Minimum distance among all data points in two clusters.\n",
    "\n",
    "*The default selection is ward’s linkage which works well on most datasets.\n",
    "\n",
    "![](images/4.jpg)"
   ]
  },
  {
   "cell_type": "markdown",
   "metadata": {},
   "source": [
    "One of the advantages of hierarchical clustering is that we do not have to specify the number of clusters beforehand. However, it is not wise to combine all data points into one cluster. We should stop combining clusters at some point. Scikit-learn provides two options for this:\n",
    "* Stop after a number of clusters is reached (n_clusters)\n",
    "* Set a threshold value for linkage (distance_threshold). If the distance between two clusters are above the threshold, these clusters will not be merged."
   ]
  },
  {
   "cell_type": "markdown",
   "metadata": {},
   "source": [
    "## Divisive Clustering\n",
    "\n",
    "Divisive clustering is not commonly used in real life so I will mention it briefly. Simple yet clear explanation is that divisive clustering is the opposite of agglomerative clustering. We start with one giant cluster including all data points. Then data points are separated into different clusters. It is an up to bottom approach."
   ]
  },
  {
   "cell_type": "code",
   "execution_count": 1,
   "metadata": {},
   "outputs": [
    {
     "data": {
      "image/png": "[encoded data removed]",
      "text/plain": [
       "<Figure size 432x288 with 1 Axes>"
      ]
     },
     "metadata": {
      "needs_background": "light"
     },
     "output_type": "display_data"
    }
   ],
   "source": [
    "# import pandas \n",
    "import pandas as pd\n",
    "\n",
    "# import matplotlib for data visualization\n",
    "import matplotlib.pyplot as plt\n",
    "\n",
    "# Import dendrogram\n",
    "from scipy.cluster.hierarchy import dendrogram\n",
    "from scipy.cluster.hierarchy import linkage\n",
    " \n",
    "# Create a DataFrame\n",
    "data=pd.DataFrame({\"X\":[12,15,18,10,8,9,12,20],\n",
    "             \"Y\":[6,16,17,8,7,6,9,18]})\n",
    "\n",
    "# create dendrogram using ward linkage\n",
    "dendrogram_plot = dendrogram(linkage(data, method = 'ward'))\n",
    "\n",
    "# Set title of the plot\n",
    "plt.title('Hierarchical Clustering: Dendrogram')\n",
    "\n",
    "# Set x-axis label\n",
    "plt.xlabel('Data Items')\n",
    "\n",
    "# Set y-axis label\n",
    "plt.ylabel('Distance')\n",
    "\n",
    "# Display the plot\n",
    "plt.show()"
   ]
  },
  {
   "cell_type": "code",
   "execution_count": 2,
   "metadata": {},
   "outputs": [
    {
     "data": {
      "image/png": "[encoded data removed]",
      "text/plain": [
       "<Figure size 432x288 with 1 Axes>"
      ]
     },
     "metadata": {
      "needs_background": "light"
     },
     "output_type": "display_data"
    }
   ],
   "source": [
    "# import pandas \n",
    "import pandas as pd\n",
    "\n",
    "# import matplotlib for data visualization\n",
    "import matplotlib.pyplot as plt\n",
    "\n",
    "# Import Agglomerative Clustering\n",
    "from sklearn.cluster import AgglomerativeClustering\n",
    " \n",
    "# Create a DataFrame\n",
    "data=pd.DataFrame({\"X\":[12,15,18,10,8,9,12,20],\n",
    "             \"Y\":[6,16,17,8,7,6,9,18]})\n",
    " \n",
    "# Specify number of clusters\n",
    "num_clusters = 2\n",
    " \n",
    "# Create agglomerative clustering model\n",
    "ac = AgglomerativeClustering(n_clusters = num_clusters, linkage='ward')\n",
    " \n",
    "# Fit the Agglomerative Clustering model\n",
    "ac.fit(data)\n",
    " \n",
    "# Predict the target variable\n",
    "pred=ac.labels_\n",
    " \n",
    "# Plot the Clusters\n",
    "plt.scatter(data.X,data.Y, c=pred, marker=\"o\")\n",
    "\n",
    "# Set title of the plot \n",
    "plt.title('Agglomerative Clustering')\n",
    "# Set x-axis label\n",
    "plt.xlabel('X-Axis Values')\n",
    "# Set y-axis label\n",
    "plt.ylabel('Y-Axis Values')\n",
    "# Display the plot\n",
    "plt.show()\n"
   ]
  },
  {
   "cell_type": "markdown",
   "metadata": {},
   "source": [
    "# Density-based clustering\n",
    "\n",
    "Partition-based and hierarchical clustering techniques are highly efficient with normal shaped clusters. However, when it comes to arbitrary shaped clusters or detecting outliers, density-based techniques are more efficient.\n",
    "For example, the dataset in the figure below can easily be divided into three clusters using k-means algoritm.\n",
    "\n",
    "![](images/5.jpg)"
   ]
  },
  {
   "cell_type": "markdown",
   "metadata": {},
   "source": [
    "Consider the following figures:\n",
    "![](images/6.jpg)"
   ]
  },
  {
   "cell_type": "markdown",
   "metadata": {},
   "source": [
    "The data points in these figures are grouped in arbitrary shapes or include outliers. Density-based clustering algorithms are very effienct at finding high-density regions and outliers. It is very important to detect outliers for some task, e.g. anomaly detection."
   ]
  },
  {
   "cell_type": "markdown",
   "metadata": {},
   "source": [
    "# DBSCAN algorithm\n",
    "\n",
    "DBSCAN stands for density-based spatial clustering of applications with noise. It is able to find arbitrary shaped clusters and clusters with noise (i.e. outliers). The main idea behind DBSCAN is that a point belongs to a cluster if it is close to many points from that cluster.\n",
    "\n",
    "There are two key parameters of DBSCAN:\n",
    "* eps: The distance that specifies the neighborhoods. Two points are considered to be neighbors if the distance between them are less than or equal to eps.\n",
    "* minPts: Minimum number of data points to define a cluster.\n",
    "\n",
    "Based on these two parameters, points are classified as core point, border point, or outlier:\n",
    "* Core point: A point is a core point if there are at least minPts number of points (including the point itself) in its surrounding area with radius eps.\n",
    "* Border point: A point is a border point if it is reachable from a core point and there are less than minPts number of points within its surrounding area.\n",
    "* Outlier: A point is an outlier if it is not a core point and not reachable from any core points.\n",
    "\n",
    "![](images/7.jpg)\n",
    "\n",
    "In this case, minPts is 4. Red points are core points because there are at least 4 points within their surrounding area with radius eps. This area is shown with the circles in the figure. The yellow points are border points because they are reachable from a core point and have less than 4 points within their neighborhood. Reachable means being in the surrounding area of a core point. The points B and C have two points (including the point itself) within their neigborhood (i.e. the surrounding area with a radius of eps). Finally N is an outlier because it is not a core point and cannot be reached from a core point.\n",
    "\n",
    "To see how the algorithm works, visit: https://www.naftaliharris.com/blog/visualizing-dbscan-clustering/"
   ]
  },
  {
   "cell_type": "code",
   "execution_count": 3,
   "metadata": {},
   "outputs": [
    {
     "name": "stdout",
     "output_type": "stream",
     "text": [
      "[[ 0.94182515  0.33610324]\n",
      " [-0.95383508  0.30033088]\n",
      " [ 0.83892739  0.54424336]\n",
      " ...\n",
      " [ 1.19528309 -0.48074692]\n",
      " [-0.22602337  0.97412188]\n",
      " [ 0.55867137  0.82938911]]\n"
     ]
    },
    {
     "data": {
      "image/png": "[encoded data removed]",
      "text/plain": [
       "<Figure size 432x288 with 1 Axes>"
      ]
     },
     "metadata": {
      "needs_background": "light"
     },
     "output_type": "display_data"
    }
   ],
   "source": [
    "# import pandas \n",
    "import pandas as pd\n",
    "\n",
    "# import matplotlib for data visualization\n",
    "import matplotlib.pyplot as plt\n",
    "\n",
    "# Import DBSCAN clustering model\n",
    "from sklearn.cluster import DBSCAN\n",
    "\n",
    "# import make_moons dataset\n",
    "from sklearn.datasets import make_moons\n",
    " \n",
    "# Generate some random moon data\n",
    "features, label = make_moons(n_samples = 2000)\n",
    "print(features)\n",
    " \n",
    "# Create DBSCAN clustering model\n",
    "db = DBSCAN()\n",
    " \n",
    "# Fit the Spectral Clustering model\n",
    "db.fit(features)\n",
    " \n",
    "# Predict the target variable\n",
    "pred_label=db.labels_\n",
    " \n",
    "# Plot the Clusters\n",
    "plt.scatter(features[:, 0], features[:, 1], c=pred_label, marker=\"o\",cmap=\"bwr_r\")\n",
    "# Set title of the plot\n",
    "plt.title('DBSCAN Clustering')\n",
    "# Set x-axis label\n",
    "plt.xlabel('X-Axis Values')\n",
    "# Set y-axis label\n",
    "plt.ylabel('Y-Axis Values')\n",
    "# Display the plot\n",
    "plt.show()"
   ]
  },
  {
   "cell_type": "markdown",
   "metadata": {},
   "source": [
    "## Cluster Performance Evaluation"
   ]
  },
  {
   "cell_type": "code",
   "execution_count": 4,
   "metadata": {},
   "outputs": [
    {
     "data": {
      "text/html": [
       "<div>\n",
       "<style scoped>\n",
       "    .dataframe tbody tr th:only-of-type {\n",
       "        vertical-align: middle;\n",
       "    }\n",
       "\n",
       "    .dataframe tbody tr th {\n",
       "        vertical-align: top;\n",
       "    }\n",
       "\n",
       "    .dataframe thead th {\n",
       "        text-align: right;\n",
       "    }\n",
       "</style>\n",
       "<table border=\"1\" class=\"dataframe\">\n",
       "  <thead>\n",
       "    <tr style=\"text-align: right;\">\n",
       "      <th></th>\n",
       "      <th>pregnant</th>\n",
       "      <th>glucose</th>\n",
       "      <th>bp</th>\n",
       "      <th>skin</th>\n",
       "      <th>insulin</th>\n",
       "      <th>bmi</th>\n",
       "      <th>pedigree</th>\n",
       "      <th>age</th>\n",
       "      <th>label</th>\n",
       "    </tr>\n",
       "  </thead>\n",
       "  <tbody>\n",
       "    <tr>\n",
       "      <th>0</th>\n",
       "      <td>6</td>\n",
       "      <td>148</td>\n",
       "      <td>72</td>\n",
       "      <td>35</td>\n",
       "      <td>0</td>\n",
       "      <td>33.6</td>\n",
       "      <td>0.627</td>\n",
       "      <td>50</td>\n",
       "      <td>1</td>\n",
       "    </tr>\n",
       "    <tr>\n",
       "      <th>1</th>\n",
       "      <td>1</td>\n",
       "      <td>85</td>\n",
       "      <td>66</td>\n",
       "      <td>29</td>\n",
       "      <td>0</td>\n",
       "      <td>26.6</td>\n",
       "      <td>0.351</td>\n",
       "      <td>31</td>\n",
       "      <td>0</td>\n",
       "    </tr>\n",
       "    <tr>\n",
       "      <th>2</th>\n",
       "      <td>8</td>\n",
       "      <td>183</td>\n",
       "      <td>64</td>\n",
       "      <td>0</td>\n",
       "      <td>0</td>\n",
       "      <td>23.3</td>\n",
       "      <td>0.672</td>\n",
       "      <td>32</td>\n",
       "      <td>1</td>\n",
       "    </tr>\n",
       "    <tr>\n",
       "      <th>3</th>\n",
       "      <td>1</td>\n",
       "      <td>89</td>\n",
       "      <td>66</td>\n",
       "      <td>23</td>\n",
       "      <td>94</td>\n",
       "      <td>28.1</td>\n",
       "      <td>0.167</td>\n",
       "      <td>21</td>\n",
       "      <td>0</td>\n",
       "    </tr>\n",
       "    <tr>\n",
       "      <th>4</th>\n",
       "      <td>0</td>\n",
       "      <td>137</td>\n",
       "      <td>40</td>\n",
       "      <td>35</td>\n",
       "      <td>168</td>\n",
       "      <td>43.1</td>\n",
       "      <td>2.288</td>\n",
       "      <td>33</td>\n",
       "      <td>1</td>\n",
       "    </tr>\n",
       "  </tbody>\n",
       "</table>\n",
       "</div>"
      ],
      "text/plain": [
       "   pregnant  glucose  bp  skin  insulin   bmi  pedigree  age  label\n",
       "0         6      148  72    35        0  33.6     0.627   50      1\n",
       "1         1       85  66    29        0  26.6     0.351   31      0\n",
       "2         8      183  64     0        0  23.3     0.672   32      1\n",
       "3         1       89  66    23       94  28.1     0.167   21      0\n",
       "4         0      137  40    35      168  43.1     2.288   33      1"
      ]
     },
     "execution_count": 4,
     "metadata": {},
     "output_type": "execute_result"
    }
   ],
   "source": [
    "# Import libraries\n",
    "import pandas as pd\n",
    " \n",
    "# read the dataset\n",
    "diabetes = pd.read_csv(\"diabetes.csv\")\n",
    " \n",
    "    \n",
    "# Show top 5-records\n",
    "diabetes.head()"
   ]
  },
  {
   "cell_type": "code",
   "execution_count": 5,
   "metadata": {},
   "outputs": [],
   "source": [
    "# split dataset in two parts: feature set and target label \n",
    "feature_set = ['pregnant', 'insulin', 'bmi', 'age','glucose','bp','pedigree']\n",
    "features = diabetes[feature_set] \n",
    "target = diabetes.label\n",
    " \n",
    "# partition data into training and testing set \n",
    "from sklearn.model_selection import train_test_split\n",
    "feature_train, feature_test, target_train, target_test = train_test_split(features, target, test_size=0.3, random_state=1)"
   ]
  },
  {
   "cell_type": "code",
   "execution_count": 6,
   "metadata": {},
   "outputs": [
    {
     "name": "stdout",
     "output_type": "stream",
     "text": [
      "Davies-Bouldin Index: 0.7916877512521089\n",
      "Silhouette Coefficient: 0.5365443098840619\n",
      "Adjusted Rand Score: 0.03789319261940486\n",
      "Jaccard Score: 0.29411764705882354\n",
      "F-Measure(F1-Score): 0.4545454545454546\n",
      "Fowlkes Mallows Score: 0.6041244457314743\n"
     ]
    }
   ],
   "source": [
    "# Import K-means Clustering\n",
    "from sklearn.cluster import KMeans\n",
    "\n",
    "# Import metrics module for performance evaluation\n",
    "from sklearn.metrics import davies_bouldin_score\n",
    "from sklearn.metrics import silhouette_score\n",
    "from sklearn.metrics import adjusted_rand_score\n",
    "from sklearn.metrics import jaccard_score\n",
    "from sklearn.metrics import f1_score\n",
    "from sklearn.metrics import fowlkes_mallows_score\n",
    " \n",
    "# Specify the number of clusters\n",
    "num_clusters = 2\n",
    " \n",
    "# Create and fit the KMeans model\n",
    "km = KMeans(n_clusters=num_clusters)\n",
    "km.fit(feature_train)\n",
    " \n",
    "# Predict the target variable\n",
    "predictions=km.predict(feature_test)\n",
    " \n",
    "# Calculate internal performance evaluation measures\n",
    "print(\"Davies-Bouldin Index:\", davies_bouldin_score(feature_test, predictions))\n",
    "print(\"Silhouette Coefficient:\", silhouette_score(feature_test, predictions))\n",
    "\n",
    "# Calculate External performance evaluation measures\n",
    "print(\"Adjusted Rand Score:\", adjusted_rand_score(target_test, predictions))\n",
    "print(\"Jaccard Score:\", jaccard_score(target_test, predictions))\n",
    "print(\"F-Measure(F1-Score):\", f1_score(target_test, predictions))\n",
    "print(\"Fowlkes Mallows Score:\", fowlkes_mallows_score(target_test, predictions))"
   ]
  },
  {
   "cell_type": "markdown",
   "metadata": {},
   "source": [
    "**Exercises**: Tune the code above and evaluate other clustering algorithms we learned. "
   ]
  }
 ],
 "metadata": {
  "kernelspec": {
   "display_name": "Python 3",
   "language": "python",
   "name": "python3"
  },
  "language_info": {
   "codemirror_mode": {
    "name": "ipython",
    "version": 3
   },
   "file_extension": ".py",
   "mimetype": "text/x-python",
   "name": "python",
   "nbconvert_exporter": "python",
   "pygments_lexer": "ipython3",
   "version": "3.9.10"
  }
 },
 "nbformat": 4,
 "nbformat_minor": 2
}
