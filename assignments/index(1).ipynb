{
 "cells": [
  {
   "cell_type": "markdown",
   "metadata": {},
   "source": [
    "# Lab 2: Word Count with MapReduce \n",
    "\n",
    "<hr>\n",
    "\n",
    "## Introduction\n",
    "\n",
    "Here is what our problem looks like:\n",
    "\n",
    "* We have a huge text document\n",
    "* We need to count the number of times each distinct word appears in the document\n",
    "\n",
    "\n",
    "* Sample application:\n",
    "\n",
    "    * Analyze web server logs to find popular URLs\n",
    "    * Analyze texts for content or style \n",
    "\n",
    "In this lab, we will use the MapReduce Programming Model and perform a word count.\n",
    "\n",
    "\n",
    "\n",
    "## Objectives\n",
    "\n",
    "You will be able to:\n",
    "\n",
    "* Read and Write text files using Pythong\n",
    "* Use MapReduce Model and implement map and reduce operations\n",
    "* Perform basic analysis from the experiment findings towards identifying writing styles\n",
    "\n"
   ]
  },
  {
   "cell_type": "markdown",
   "metadata": {},
   "source": [
    "## MapReduce Framework\n",
    "\n",
    "Here are the steps that we will perform for our problem, under the map reduce framework. \n",
    "\n",
    "* Read data (text files in this case)\n",
    "\n",
    "\n",
    "* Map:\n",
    "    * Extract something you care about\n",
    "\n",
    "\n",
    "* Group by key: Sort and Shuffle\n",
    "\n",
    "\n",
    "* Reduce:\n",
    "    * Aggregate, summarize, filter or transform\n",
    "\n",
    "\n",
    "* Write the result \n",
    "\n",
    "Here is what it looks like visually: \n",
    "![](images/wc1.png)"
   ]
  },
  {
   "cell_type": "markdown",
   "metadata": {},
   "source": [
    "## Map - Read file and return sorted key-value pairs\n",
    "\n",
    "\n",
    "Write a function `mapper` with a single file name as input that returns a sorted sequence of tuples (word, 1) values.\n",
    "\n",
    "```pybt\n",
    "mapper('sample.txt')\n",
    "[('adipisci', 1), ('adipisci', 1), ('adipisci', 1), ('adipisci', 1), ('adipisci', 1), ('adipisci', 1), ('adipisci', 1), ('aliquam', 1), ('aliquam', 1), ('aliquam', 1), ('aliquam', 1), ('aliquam', 1), ('aliquam', 1), ('aliquam', 1), ('amet', 1), ('amet', 1), ('amet', 1)...\n",
    "```\n",
    "\n",
    "### Hint\n",
    "\n",
    "The following example shows you how to read a txt file and print each word. \\\n",
    "Note: 'hamlet.txt' is in this lab directory."
   ]
  },
  {
   "cell_type": "code",
   "execution_count": null,
   "metadata": {},
   "outputs": [],
   "source": [
    "myfile = open('hamlet.txt');\n",
    "for line in myfile.readlines():\n",
    "    # split each line into words\n",
    "    words = line.split()  \n",
    "    # we are looping over the words array and printing the word\n",
    "    for word in words:\n",
    "        print(word)"
   ]
  },
  {
   "cell_type": "markdown",
   "metadata": {},
   "source": [
    "### Solution\n",
    "\n",
    "Define the `mapper` function in the following cell. For each work of the file, you must\n",
    "* remove leading and trailing whitespace\n",
    "* remove any dot (.), semi-colon(;), question mark(?), and comma (,)\n",
    "* change it to lower case\n",
    "\n",
    "The returned list **must be sorted**."
   ]
  },
  {
   "cell_type": "code",
   "execution_count": 3,
   "metadata": {},
   "outputs": [],
   "source": [
    "# Write your solution here\n",
    "def mapper(file):\n",
    "    words_list = []\n",
    "    myfile = open(file);\n",
    "    invalid = \".;?,'&[]()-\"\n",
    "    for line in myfile.readlines():\n",
    "        \n",
    "        for char in invalid:\n",
    "            line = line.replace(char, '')\n",
    "        line = line.lower().strip()\n",
    "\n",
    "        words = line.split()\n",
    "        for word in words:\n",
    "            words_list.append((word,1))\n",
    "\n",
    "    return sorted(words_list)\n",
    "   "
   ]
  },
  {
   "cell_type": "markdown",
   "metadata": {},
   "source": [
    "## Partition\n",
    "\n",
    "\n",
    "Create a function named `partitioner` that stores the key/value pairs from `mapper`  that group (word, 1) pairs into a list as:\n",
    "```python\n",
    "partitioner(mapper('sample.txt'))\n",
    "[('adipisci', [1, 1, 1, 1, 1, 1, 1]), ('aliquam', [1, 1, 1, 1, 1, 1, 1]), ('amet', [1, 1, 1, 1],...]\n",
    "```\n",
    "\n",
    "### Hint\n",
    "\n",
    "You can create a dictionary to store each word and its index in the list.\n",
    "\n",
    "### Solution"
   ]
  },
  {
   "cell_type": "code",
   "execution_count": null,
   "metadata": {},
   "outputs": [],
   "source": [
    "# Write your solution here\n",
    "def partitioner(list_from_mapper):\n",
    "    result = []\n",
    "    word_index = {}\n",
    "\n",
    "    for word,num in list_from_mapper:\n",
    "        if word in word_index:\n",
    "            result[word_index[word]][1].append(num)\n",
    "        else:\n",
    "            result.append((word, [num]))\n",
    "            word_index[word] = len(result) - 1\n",
    "    return result\n",
    "        \n",
    "partitioner(mapper('hamlet.txt'))"
   ]
  },
  {
   "cell_type": "markdown",
   "metadata": {},
   "source": [
    "## Reduce - Sums the counts and returns a single key-value (word, sum).\n",
    "\n",
    "\n",
    "Write the function `reducer` that read a tuple `(word,[1,1,1,..,1])` and sum the occurrences of word to a final count, and then output the tuple (word,occurences).\n",
    "\n",
    "```python\n",
    "reducer(('hello',[1,1,1,1,1])\n",
    "('hello',5)\n",
    "```\n",
    "\n",
    "### Solution"
   ]
  },
  {
   "cell_type": "code",
   "execution_count": 27,
   "metadata": {},
   "outputs": [
    {
     "data": {
      "text/plain": [
       "('hello', 5)"
      ]
     },
     "execution_count": 27,
     "metadata": {},
     "output_type": "execute_result"
    }
   ],
   "source": [
    "# import reduce so you can use it\n",
    "from functools import reduce\n",
    "\n",
    "# Write your solution here\n",
    "def reducer(tuple):\n",
    "    return (tuple[0],reduce(lambda x, y: x + 1, tuple[1]))\n",
    "\n",
    "reducer(('hello',[1,1,1,1,1]))\n",
    "    "
   ]
  },
  {
   "cell_type": "markdown",
   "metadata": {},
   "source": [
    "## Word Count\n",
    "\n",
    "Create a function `word_count` with a single file name that uses functions implemented above to count (word, occurences). Then write the result into a txt file named 'output.txt'. The result **must be sorted by most occurences**.\n",
    "\n",
    "### Hint\n",
    "\n",
    "The following example shows you how to write something into a txt file."
   ]
  },
  {
   "cell_type": "code",
   "execution_count": 32,
   "metadata": {},
   "outputs": [],
   "source": [
    "# open a file named 'test.txt' with mode 'w'. \n",
    "#If 'test.txt' does not exist, then 'test.txt' will be created.\n",
    "f = open('test.txt', 'w')\n",
    "\n",
    "# write() can write strings\n",
    "f.write(\"Hello Wolrd!\")\n",
    "f.write('\\n')\n",
    "\n",
    "# writelines can write a list of strings\n",
    "list  = [\"apple\", \"is\", \"so\", \"good\"]\n",
    "f.writelines(list)\n",
    "f.write('\\n')\n",
    "\n",
    "# convert other types to strings in order to write\n",
    "list2 = [\"apple\", 5, \"is\", \"good\"]\n",
    "f.writelines(list2[0] + str(list2[1]) + list2[2] + list2[3])\n",
    "\n",
    "# close the file\n",
    "f.close()"
   ]
  },
  {
   "cell_type": "markdown",
   "metadata": {},
   "source": [
    "### Solution"
   ]
  },
  {
   "cell_type": "code",
   "execution_count": 31,
   "metadata": {},
   "outputs": [],
   "source": [
    "# Write your solution here\n",
    "def word_count(filename):\n",
    "    word_count_list = partitioner(mapper(filename))\n",
    "    result = []\n",
    "    for tup in word_count_list:\n",
    "        result.append(reducer(tup))\n",
    "\n",
    "    result.sort(reverse=True, key=lambda x: x[1])\n",
    "    \n",
    "    with open('output.txt', 'w') as outfile:\n",
    "        for tup in result:\n",
    "            outfile.write(tup[0] + ' - ' + str(tup[1]) + '\\n')\n",
    "            \n",
    "# Once the function is define, have a try    \n",
    "word_count('hamlet.txt')"
   ]
  }
 ],
 "metadata": {
  "kernelspec": {
   "display_name": "Python 3",
   "language": "python",
   "name": "python3"
  },
  "language_info": {
   "codemirror_mode": {
    "name": "ipython",
    "version": 3
   },
   "file_extension": ".py",
   "mimetype": "text/x-python",
   "name": "python",
   "nbconvert_exporter": "python",
   "pygments_lexer": "ipython3",
   "version": "3.10.1"
  }
 },
 "nbformat": 4,
 "nbformat_minor": 1
}
