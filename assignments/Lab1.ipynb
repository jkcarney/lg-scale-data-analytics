{
 "cells": [
  {
   "cell_type": "markdown",
   "metadata": {},
   "source": [
    "# Lab 1: Longest Common Substring\n",
    "\n",
    "<hr>"
   ]
  },
  {
   "cell_type": "markdown",
   "metadata": {},
   "source": [
    "Write a function that takes two sequences (strings) and returns the longest common substring. A substring is a contiguous portion of a string.  For example:\n",
    "\n",
    "Substrings of `ATGCATAT`:\n",
    "\n",
    "    TGCA\n",
    "    T\n",
    "    TAT\n",
    "    \n",
    "Not substrings of `ATGCATAT`:\n",
    "\n",
    "    AGCA              # Skipped T\n",
    "    CCATA             # Added another C\n",
    "    Hello, world.     # Has nothing to do with the input sequence\n",
    "    \n",
    "There may be more than one longest common substring; you only need to return one of them.\n",
    "\n",
    "The call signature of the function should be\n",
    "\n",
    "```python\n",
    "longest_common_substring(s1, s2)\n",
    "```\n",
    "\n",
    "Here are some return values you should get.\n",
    "\n",
    "|Function call|Result |\n",
    "|:---|---:|\n",
    "|`longest_common_substring('ATGC', 'ATGCA')` | `'ATGC'`|\n",
    "|`longest_common_substring('GATGCCATGCA', 'ATGCC')` | `'ATGCC'`|\n",
    "|`longest_common_substring('ACGTGGAAAGCCA', 'GTACACACGTTTTGAGAGACAC')   `|`'ACGT'`|"
   ]
  },
  {
   "cell_type": "markdown",
   "metadata": {},
   "source": [
    "## Hint\n",
    "\n",
    "This is actually an [important problem](https://en.wikipedia.org/wiki/Longest_common_substring_problem), and there are clever algorithms to solve it. **You can choose any algorithm you want to solve this problem**. One approach I have is as follows. Let $n$ be the length of the shorter of the two strings. We will start with the entirety of the shorter string and see if it is in the longer. We then will take both substrings of length $n - 1$ in the shorter string and check to see if they are in the longer string. We then take all three substrings of length $n - 2$ and see if they are in the longer string. We continue like this until we get a hit, which will necessarily be one of the longest common substrings."
   ]
  },
  {
   "cell_type": "markdown",
   "metadata": {},
   "source": [
    "You can use the following syntax to check if a string s1 is a substring of s2."
   ]
  },
  {
   "cell_type": "code",
   "execution_count": 49,
   "metadata": {},
   "outputs": [
    {
     "data": {
      "text/plain": [
       "True"
      ]
     },
     "execution_count": 49,
     "metadata": {},
     "output_type": "execute_result"
    }
   ],
   "source": [
    "s1 = 'CGTG'\n",
    "s2 = 'ACGTGGAAGCCA'\n",
    "# check if s1 is a substring of s2. In this case, return True.\n",
    "s1 in s2"
   ]
  },
  {
   "cell_type": "markdown",
   "metadata": {},
   "source": [
    "How many substrings of length k does a string of length n have? \\\n",
    "Answer: n - k + 1 \\\n",
    "The following example shows how to find all the (n - k + 1) substrings."
   ]
  },
  {
   "cell_type": "code",
   "execution_count": 56,
   "metadata": {},
   "outputs": [
    {
     "name": "stdout",
     "output_type": "stream",
     "text": [
      "ACGTGGAA\n",
      "CGTGGAAG\n",
      "GTGGAAGC\n",
      "TGGAAGCA\n"
     ]
    }
   ],
   "source": [
    "# A string of length 11. So n=11\n",
    "s = \"ACGTGGAAGCA\"\n",
    "\n",
    "# Let k=8. So there should be 4 (n-k+1) substrings of length 8 (k)\n",
    "k = 8\n",
    "\n",
    "# len(s) returns the length of s\n",
    "for i in range(len(s) - k + 1):\n",
    "    # [i: i+k] is an half-open range\n",
    "    print(s[i : i + k])"
   ]
  },
  {
   "cell_type": "markdown",
   "metadata": {},
   "source": [
    "## Solution\n",
    "\n",
    "Write your solution in the cell below:"
   ]
  },
  {
   "cell_type": "code",
   "execution_count": 59,
   "metadata": {},
   "outputs": [],
   "source": [
    "def longest_common_substring(s1, s2):\n",
    "    \"\"\"Return one of the longest common substrings\"\"\"\n",
    "    # Make sure s1 is the shorter\n",
    "    if len(s1) > len(s2):\n",
    "       s1,s2 = s2,s1\n",
    "\n",
    "    # Start with the entire sequence and shorten\n",
    "    k = len(s1)\n",
    "    n = len(s1)\n",
    "\n",
    "    while(k != 0):\n",
    "        subs = []\n",
    "        for i in range(n - k + 1):\n",
    "            subs.append(s1[i : i + k])\n",
    "\n",
    "        for substring in subs:\n",
    "            if substring in s2:\n",
    "                return substring\n",
    "        \n",
    "        k -= 1\n",
    "\n",
    "    # If we haven't returned, there is no common substring\n",
    "    return ''\n",
    "\n"
   ]
  },
  {
   "cell_type": "markdown",
   "metadata": {},
   "source": [
    "Let's try our function out."
   ]
  },
  {
   "cell_type": "code",
   "execution_count": 60,
   "metadata": {},
   "outputs": [
    {
     "data": {
      "text/plain": [
       "'ACGT'"
      ]
     },
     "execution_count": 60,
     "metadata": {},
     "output_type": "execute_result"
    }
   ],
   "source": [
    "longest_common_substring('ACGTGGAAAGCCA', 'GTACACACGTTTTGAGAGACAC')"
   ]
  },
  {
   "cell_type": "markdown",
   "metadata": {},
   "source": [
    "## Next Task\n",
    "\n",
    "Declare a dictionary to store 3 key-value pairs.\n",
    "\n",
    "|Key |Value |\n",
    "|:---|---:|\n",
    "|`['ATGC', 'ATGCA']` | `'ATGC'`|\n",
    "|`['GATGCCATGCA', 'ATGCC']` | `'ATGCC'`|\n",
    "|`['ACGTGGAAAGCCA', 'GTACACACGTTTTGAGAGACAC']`|`'ACGT'`|\n",
    "\n",
    "Note: Each key is a list and each value is the key's LCS. You **MUST** call the function defined above to get any points. \\\n",
    "**Please do not manually put the values in**."
   ]
  },
  {
   "cell_type": "markdown",
   "metadata": {},
   "source": [
    "## Solution\n",
    "Write your solution in the cell below:"
   ]
  },
  {
   "cell_type": "code",
   "execution_count": 69,
   "metadata": {},
   "outputs": [
    {
     "name": "stdout",
     "output_type": "stream",
     "text": [
      "{('ATGC', 'ATGCA'): 'ATGC', ('GATGCCATGCA', 'ATGCC'): 'ATGCC', ('ACGTGGAAAGCCA', 'GTACACACGTTTTGAGAGACAC'): 'ACGT'}\n"
     ]
    }
   ],
   "source": [
    "dict = {}\n",
    "dict['ATGC','ATGCA'] = longest_common_substring('ATGC','ATGCA')\n",
    "dict['GATGCCATGCA','ATGCC'] = longest_common_substring('GATGCCATGCA', 'ATGCC')\n",
    "dict['ACGTGGAAAGCCA', 'GTACACACGTTTTGAGAGACAC'] = longest_common_substring('ACGTGGAAAGCCA', 'GTACACACGTTTTGAGAGACAC')\n",
    "\n",
    "print(dict)"
   ]
  }
 ],
 "metadata": {
  "anaconda-cloud": {},
  "kernelspec": {
   "display_name": "Python 3",
   "language": "python",
   "name": "python3"
  },
  "language_info": {
   "codemirror_mode": {
    "name": "ipython",
    "version": 3
   },
   "file_extension": ".py",
   "mimetype": "text/x-python",
   "name": "python",
   "nbconvert_exporter": "python",
   "pygments_lexer": "ipython3",
   "version": "3.10.1"
  }
 },
 "nbformat": 4,
 "nbformat_minor": 4
}
