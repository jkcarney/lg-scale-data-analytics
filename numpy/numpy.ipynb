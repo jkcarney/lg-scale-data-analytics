{
 "cells": [
  {
   "cell_type": "markdown",
   "metadata": {},
   "source": [
    "# Numpy\n",
    "\n",
    "NumPy is a library for the Python programming language, adding support for large, multi-dimensional arrays and matrices, along with a large collection of high-level mathematical functions to operate on these arrays. Originally Python was not designed for numeric computation. As people started using python for various tasks, the need for fast numeric computation arose. And the Numpy was created by a group of people in 2005 to address this challenge. Today in the era of Artificial Intelligence, it would not have been possible to train Machine Learning algorithms without a fast numeric library such as Numpy.\n",
    "\n",
    "The following are the main reasons behind the fast speed of Numpy.\n",
    "* Numpy array is a collection of similar data-types that are densely packed in memory. A Python list can have different data-types, which puts lots of extra constraints while doing computation on it.\n",
    "* Numpy is able to divide a task into multiple subtasks and process them parallelly.\n",
    "* Numpy functions are implemented in C. Which again makes it faster compared to Python Lists."
   ]
  },
  {
   "cell_type": "markdown",
   "metadata": {
    "_uuid": "10f269ef3007bebbc6eda4831f1585e2ca4a7a36"
   },
   "source": [
    "#  import numpy (never forget this)"
   ]
  },
  {
   "cell_type": "code",
   "execution_count": 2,
   "metadata": {
    "_uuid": "4a9ee53981ad99d9b286e99263d1a7b59c53212a"
   },
   "outputs": [],
   "source": [
    "import numpy as np"
   ]
  },
  {
   "cell_type": "markdown",
   "metadata": {
    "_uuid": "06142314aeb56c064c7c0dd1a68d46a8cd105b47"
   },
   "source": [
    "# to check which version we are using\n",
    "np.version.version"
   ]
  },
  {
   "cell_type": "code",
   "execution_count": 4,
   "metadata": {
    "_uuid": "2b152ead1513f2c933e562e8aa58775acc047bd5"
   },
   "outputs": [
    {
     "data": {
      "text/plain": [
       "'1.20.1'"
      ]
     },
     "execution_count": 4,
     "metadata": {},
     "output_type": "execute_result"
    }
   ],
   "source": [
    " np.version.version"
   ]
  },
  {
   "cell_type": "markdown",
   "metadata": {
    "_uuid": "dd7587dff11a2a3d2d8678fee9c61663f3ea4e58"
   },
   "source": [
    "# to create a array in numpy"
   ]
  },
  {
   "cell_type": "code",
   "execution_count": 7,
   "metadata": {
    "_uuid": "60c5696723725ca22131f77084765cc1d74460b6"
   },
   "outputs": [
    {
     "data": {
      "text/plain": [
       "array([1, 2, 3, 4, 5])"
      ]
     },
     "execution_count": 7,
     "metadata": {},
     "output_type": "execute_result"
    }
   ],
   "source": [
    "np.array([1,2,3,4,5])"
   ]
  },
  {
   "cell_type": "code",
   "execution_count": 5,
   "metadata": {
    "_uuid": "ca082219916f7c2a76222d45fb08bbbc31d38332"
   },
   "outputs": [
    {
     "data": {
      "text/plain": [
       "<module 'numpy' from 'C:\\\\Users\\\\jxie\\\\Anaconda3\\\\lib\\\\site-packages\\\\numpy\\\\__init__.py'>"
      ]
     },
     "execution_count": 5,
     "metadata": {},
     "output_type": "execute_result"
    }
   ],
   "source": [
    "# type np. and then press tab to see all components\n",
    "np"
   ]
  },
  {
   "cell_type": "code",
   "execution_count": 6,
   "metadata": {
    "_uuid": "34cf8bef97d2011cf530184de265138e426b7727"
   },
   "outputs": [],
   "source": [
    "# to view numpy documentation\n",
    "np?"
   ]
  },
  {
   "cell_type": "markdown",
   "metadata": {
    "_uuid": "3bffe6a513e9f29183fd219640986674bd7c19a4"
   },
   "source": [
    "A Python Integer Is More Than Just an Integer\n",
    "The standard Python implementation is written in C. This means that every Python\n",
    "object is simply a cleverly disguised C structure, which contains not only its value, but\n",
    "other information as well. For example, when we define an integer in Python, such as\n",
    "x = 10000, x is not just a “raw” integer. It’s actually a pointer to a compound C structure,\n",
    "which contains several values. Looking through the Python 3.4 source code, we\n",
    "find that the integer (long) type definition effectively looks like this (once the C macros\n",
    "are expanded):\n",
    "```C\n",
    "struct _longobject {\n",
    "    long ob_refcnt;\n",
    "    PyTypeObject *ob_type;\n",
    "    size_t ob_size;\n",
    "    long ob_digit[1];\n",
    "};\n",
    "```\n",
    "A single integer in Python 3.4 actually contains four pieces:\n",
    "* ob_refcnt, a reference count that helps Python silently handle memory allocation and deallocation\n",
    "* ob_type, which encodes the type of the variable\n",
    "* ob_size, which specifies the size of the following data members\n",
    "* ob_digit, which contains the actual integer value that we expect the Python variable to represent\n"
   ]
  },
  {
   "cell_type": "markdown",
   "metadata": {
    "_uuid": "8d9a24845bf13b5ad69375fa1e91d75571c781b5"
   },
   "source": [
    "# difference between a python list and numpy array"
   ]
  },
  {
   "cell_type": "code",
   "execution_count": 7,
   "metadata": {
    "_uuid": "58c542cd1a4e6cd9586159f224fd1b20f2ba8edb"
   },
   "outputs": [
    {
     "data": {
      "text/plain": [
       "[0, 1, 2, 3, 4, 5, 6, 7, 8, 9]"
      ]
     },
     "execution_count": 7,
     "metadata": {},
     "output_type": "execute_result"
    }
   ],
   "source": [
    "# a list in python\n",
    "l=list(range(10))\n",
    "l"
   ]
  },
  {
   "cell_type": "code",
   "execution_count": 8,
   "metadata": {
    "_uuid": "614ed1025f825b16cdb11de312c55f8e36adda09"
   },
   "outputs": [
    {
     "data": {
      "text/plain": [
       "list"
      ]
     },
     "execution_count": 8,
     "metadata": {},
     "output_type": "execute_result"
    }
   ],
   "source": [
    "type(l)"
   ]
  },
  {
   "cell_type": "code",
   "execution_count": 9,
   "metadata": {
    "_uuid": "12b7c78d09b58bec7a56f7af1d8e2744df697df8"
   },
   "outputs": [
    {
     "data": {
      "text/plain": [
       "int"
      ]
     },
     "execution_count": 9,
     "metadata": {},
     "output_type": "execute_result"
    }
   ],
   "source": [
    "type(l[0])"
   ]
  },
  {
   "cell_type": "code",
   "execution_count": 12,
   "metadata": {
    "_uuid": "c7ec87f3f9a11ae4483794819f00fdd8de085c63"
   },
   "outputs": [
    {
     "data": {
      "text/plain": [
       "['0', '1', '2', '3', '4', '5', '6', '7', '8', '9']"
      ]
     },
     "execution_count": 12,
     "metadata": {},
     "output_type": "execute_result"
    }
   ],
   "source": [
    "# a list of strings\n",
    "l1=[str(c) for c in l]\n",
    "l1"
   ]
  },
  {
   "cell_type": "code",
   "execution_count": 13,
   "metadata": {
    "_uuid": "0351eeb7c0728fd82262aca020d775e9a635e3e4"
   },
   "outputs": [
    {
     "data": {
      "text/plain": [
       "list"
      ]
     },
     "execution_count": 13,
     "metadata": {},
     "output_type": "execute_result"
    }
   ],
   "source": [
    "type(l1)"
   ]
  },
  {
   "cell_type": "code",
   "execution_count": 14,
   "metadata": {
    "_uuid": "e243311412e8173a78e1a97d88a3de127b67cc0f"
   },
   "outputs": [
    {
     "data": {
      "text/plain": [
       "str"
      ]
     },
     "execution_count": 14,
     "metadata": {},
     "output_type": "execute_result"
    }
   ],
   "source": [
    "type(l1[0])"
   ]
  },
  {
   "cell_type": "code",
   "execution_count": 15,
   "metadata": {
    "_uuid": "850a3d7b73e4ea946d9dbd2e5e4780699df00e7a"
   },
   "outputs": [],
   "source": [
    "l2=[2,1,'1',bool,True]\n",
    "p2=[type(c) for c in l2]"
   ]
  },
  {
   "cell_type": "code",
   "execution_count": 16,
   "metadata": {
    "_uuid": "7e053330fcfdf01da3f7de6712e5bc981920fcfd"
   },
   "outputs": [
    {
     "data": {
      "text/plain": [
       "[int, int, str, type, bool]"
      ]
     },
     "execution_count": 16,
     "metadata": {},
     "output_type": "execute_result"
    }
   ],
   "source": [
    "p2"
   ]
  },
  {
   "cell_type": "markdown",
   "metadata": {
    "_uuid": "5c7965ef0526cafcc7a3888676007edec39d1d98"
   },
   "source": [
    "But this flexibility comes at a cost: to allow these flexible types, each item in the list\n",
    "must contain its own type info, reference count, and other information—that is, each\n",
    "item is a complete Python object. In the special case that all variables are of the same\n",
    "type, much of this information is redundant: it can be much more efficient to store\n",
    "data in a fixed-type array. The difference between a dynamic-type list and a fixed-type\n",
    "(NumPy-style) array is illustrated in Figure 2-2.\n",
    "At the implementation level, the array essentially contains a single pointer to one contiguous\n",
    "block of data. The Python list, on the other hand, contains a pointer to a\n",
    "block of pointers, each of which in turn points to a full Python object like the Python\n",
    "integer we saw earlier. Again, the advantage of the list is flexibility: because each list\n",
    "element is a full structure containing both data and type information, the list can be\n",
    "filled with data of any desired type. Fixed-type NumPy-style arrays lack this flexibility,\n",
    "but are much more efficient for storing and manipulating data.\n",
    "\n",
    "![](images/22.PNG)"
   ]
  },
  {
   "cell_type": "markdown",
   "metadata": {
    "_uuid": "855762f2a035d2a655a37e93469641a56f4ee206"
   },
   "source": [
    "# python built-in array module for fixed type ,efficient data"
   ]
  },
  {
   "cell_type": "code",
   "execution_count": 18,
   "metadata": {
    "_uuid": "25ceb91dc9b7b914b82815ff8cae15f0071f2247"
   },
   "outputs": [],
   "source": [
    "import array"
   ]
  },
  {
   "cell_type": "code",
   "execution_count": 19,
   "metadata": {
    "_uuid": "d8aff0141950a8c77c120a2d2f6ffa8b9bc37073"
   },
   "outputs": [],
   "source": [
    "l=list(range(10))"
   ]
  },
  {
   "cell_type": "code",
   "execution_count": 23,
   "metadata": {
    "_uuid": "65069425a9ee9c4d57c845566af58662b1ba1177"
   },
   "outputs": [
    {
     "name": "stdout",
     "output_type": "stream",
     "text": [
      "array('i', [0, 1, 2, 3, 4, 5, 6, 7, 8, 9])\n"
     ]
    },
    {
     "data": {
      "text/plain": [
       "3"
      ]
     },
     "execution_count": 23,
     "metadata": {},
     "output_type": "execute_result"
    }
   ],
   "source": [
    "Array=array.array('i',l)\n",
    "print(Array)\n",
    "# here 'i' represents it is a array of type integer\n",
    "\n",
    "Array[3]"
   ]
  },
  {
   "cell_type": "markdown",
   "metadata": {
    "_uuid": "bbd87abf37a51dde486202e279c288b2cde92900"
   },
   "source": [
    "# numpy arrays"
   ]
  },
  {
   "cell_type": "code",
   "execution_count": 15,
   "metadata": {
    "_uuid": "4073658b8b628b83edbd18c15e1ff5fe1f3239d4"
   },
   "outputs": [],
   "source": [
    "import numpy as np"
   ]
  },
  {
   "cell_type": "code",
   "execution_count": 16,
   "metadata": {
    "_uuid": "f8283e7db28c0bb624ccb55e6ef7a9a3aa37e20c"
   },
   "outputs": [
    {
     "data": {
      "text/plain": [
       "array([1, 2, 3, 4, 5])"
      ]
     },
     "execution_count": 16,
     "metadata": {},
     "output_type": "execute_result"
    }
   ],
   "source": [
    "# using a list to create an array\n",
    "np.array([1,2,3,4,5])"
   ]
  },
  {
   "cell_type": "code",
   "execution_count": 17,
   "metadata": {
    "_uuid": "1eb60a0f5177f52739a660424c48f11b550e06e5"
   },
   "outputs": [
    {
     "data": {
      "text/plain": [
       "array([1., 2., 3., 4., 5.])"
      ]
     },
     "execution_count": 17,
     "metadata": {},
     "output_type": "execute_result"
    }
   ],
   "source": [
    "# all the types in numpy array should be same \n",
    "#if not values are upcasted if possible\n",
    "\n",
    "np.array([1.0,2,3,4,5])\n",
    "# converts everyone integer to floating point"
   ]
  },
  {
   "cell_type": "code",
   "execution_count": 18,
   "metadata": {
    "_uuid": "350ed949a073595fe1c788cd905144811ea8ceac"
   },
   "outputs": [
    {
     "data": {
      "text/plain": [
       "array(['1', '2', '3', '4', '5'], dtype='<U11')"
      ]
     },
     "execution_count": 18,
     "metadata": {},
     "output_type": "execute_result"
    }
   ],
   "source": [
    "np.array([1,2,3,4,'5'])"
   ]
  },
  {
   "cell_type": "code",
   "execution_count": 19,
   "metadata": {
    "_uuid": "43314f08b16a979bda7c1ebfb5f5d01dd74fac6b"
   },
   "outputs": [
    {
     "data": {
      "text/plain": [
       "array([1., 2., 3., 4., 5.], dtype=float32)"
      ]
     },
     "execution_count": 19,
     "metadata": {},
     "output_type": "execute_result"
    }
   ],
   "source": [
    "# if we want to set data type of a array explicitly\n",
    "np.array([1,2,3,4,5],dtype='float32')"
   ]
  },
  {
   "cell_type": "code",
   "execution_count": 20,
   "metadata": {
    "_uuid": "00ebdf4450a60650d2484e4ff77ac95f402caaa6"
   },
   "outputs": [
    {
     "name": "stdout",
     "output_type": "stream",
     "text": [
      "[[0 1 2]]\n"
     ]
    },
    {
     "data": {
      "text/plain": [
       "array([[ 2,  3,  4],\n",
       "       [ 4,  5,  6],\n",
       "       [ 6,  7,  8],\n",
       "       [ 8,  9, 10]])"
      ]
     },
     "execution_count": 20,
     "metadata": {},
     "output_type": "execute_result"
    }
   ],
   "source": [
    "# creating a multidimensional array in numpy\n",
    "x=np.array([range(3)])\n",
    "print(x)\n",
    "# keep in mind that range() is half-open\n",
    "np.array([range(i,i+3) for i in [2,4,6,8]])"
   ]
  },
  {
   "cell_type": "markdown",
   "metadata": {
    "_uuid": "934beac519cc7783140fbec566a291d7808afea1"
   },
   "source": [
    "#  create a numpy array from scratch"
   ]
  },
  {
   "cell_type": "code",
   "execution_count": 21,
   "metadata": {
    "_uuid": "3e6c663f7e30974e7d801c0a92afe09258346bef"
   },
   "outputs": [
    {
     "data": {
      "text/plain": [
       "array([0., 0., 0., 0., 0., 0., 0., 0., 0., 0.])"
      ]
     },
     "execution_count": 21,
     "metadata": {},
     "output_type": "execute_result"
    }
   ],
   "source": [
    "# create a size specified array of only 0, np.zeros()\n",
    "np.zeros(10)"
   ]
  },
  {
   "cell_type": "code",
   "execution_count": 22,
   "metadata": {
    "_uuid": "6366247785a63ac027a0ab849d3ad23e01988b36"
   },
   "outputs": [
    {
     "data": {
      "text/plain": [
       "array([0, 0, 0, 0, 0, 0, 0, 0, 0, 0])"
      ]
     },
     "execution_count": 22,
     "metadata": {},
     "output_type": "execute_result"
    }
   ],
   "source": [
    "# mention data type of array explicitly\n",
    "np.zeros(10,dtype=int)"
   ]
  },
  {
   "cell_type": "code",
   "execution_count": 23,
   "metadata": {
    "_uuid": "449e8280769781a21dd3519aba1c60644a79bb31"
   },
   "outputs": [
    {
     "data": {
      "text/plain": [
       "array([[1., 1., 1., 1., 1.],\n",
       "       [1., 1., 1., 1., 1.],\n",
       "       [1., 1., 1., 1., 1.]])"
      ]
     },
     "execution_count": 23,
     "metadata": {},
     "output_type": "execute_result"
    }
   ],
   "source": [
    "# create a 3x5 array filled with one,np.ones()\n",
    "np.ones((3,5),dtype=float)"
   ]
  },
  {
   "cell_type": "code",
   "execution_count": 24,
   "metadata": {
    "_uuid": "76849b3354e219a31f9775b10d3e386733383a7f"
   },
   "outputs": [
    {
     "data": {
      "text/plain": [
       "array([[0, 0, 0, 0, 0],\n",
       "       [0, 0, 0, 0, 0],\n",
       "       [0, 0, 0, 0, 0]])"
      ]
     },
     "execution_count": 24,
     "metadata": {},
     "output_type": "execute_result"
    }
   ],
   "source": [
    "# a 3x5 matrix filled with zeros\n",
    "np.zeros((3,5),dtype=int)"
   ]
  },
  {
   "cell_type": "code",
   "execution_count": 25,
   "metadata": {
    "_uuid": "503d3cbda3a1a4fef5e8aadb452b6f0c5efc0156"
   },
   "outputs": [
    {
     "data": {
      "text/plain": [
       "array([3.14, 3.14, 3.14, 3.14, 3.14, 3.14, 3.14, 3.14, 3.14, 3.14])"
      ]
     },
     "execution_count": 25,
     "metadata": {},
     "output_type": "execute_result"
    }
   ],
   "source": [
    "# create a np array filled with 3.14,np.full()\n",
    "np.full(10,3.14)"
   ]
  },
  {
   "cell_type": "code",
   "execution_count": 26,
   "metadata": {
    "_uuid": "878dce54a9a4b11d39d8e0583f4bd126d95c50c9"
   },
   "outputs": [
    {
     "data": {
      "text/plain": [
       "array([[3.14, 3.14, 3.14, 3.14, 3.14],\n",
       "       [3.14, 3.14, 3.14, 3.14, 3.14],\n",
       "       [3.14, 3.14, 3.14, 3.14, 3.14]])"
      ]
     },
     "execution_count": 26,
     "metadata": {},
     "output_type": "execute_result"
    }
   ],
   "source": [
    "np.full((3,5),3.14)"
   ]
  },
  {
   "cell_type": "code",
   "execution_count": 27,
   "metadata": {
    "_uuid": "9d5c958f25548e755dba7a6b5c0f793b7c914811"
   },
   "outputs": [
    {
     "data": {
      "text/plain": [
       "array([ 0,  2,  4,  6,  8, 10, 12, 14, 16, 18])"
      ]
     },
     "execution_count": 27,
     "metadata": {},
     "output_type": "execute_result"
    }
   ],
   "source": [
    "# Create an array filled with a linear sequence\n",
    "# Starting at 0, ending at 20, stepping by 2\n",
    "np.arange(0,20,2)"
   ]
  },
  {
   "cell_type": "code",
   "execution_count": 28,
   "metadata": {
    "_uuid": "eeff1bae7d382f3b82ec4180f88864f6cbd5eb19"
   },
   "outputs": [
    {
     "data": {
      "text/plain": [
       "array([0.  , 0.25, 0.5 , 0.75, 1.  ])"
      ]
     },
     "execution_count": 28,
     "metadata": {},
     "output_type": "execute_result"
    }
   ],
   "source": [
    "# create a equi spaced array from 0 to 1 with 5 elements\n",
    "np.linspace(0,1,5)"
   ]
  },
  {
   "cell_type": "code",
   "execution_count": 29,
   "metadata": {
    "_uuid": "a7930a9071ef44b901766d288f7982ff54bca441"
   },
   "outputs": [
    {
     "data": {
      "text/plain": [
       "array([[0.30331556, 0.20156116, 0.63957366, 0.38560001, 0.25581328],\n",
       "       [0.56392788, 0.60119951, 0.05535524, 0.86522106, 0.47119562],\n",
       "       [0.94584845, 0.6627685 , 0.88538239, 0.04151066, 0.48889614]])"
      ]
     },
     "execution_count": 29,
     "metadata": {},
     "output_type": "execute_result"
    }
   ],
   "source": [
    "# create a 3x3 array filled with random value between 0 and 1\n",
    "np.random.random((3,5))"
   ]
  },
  {
   "cell_type": "code",
   "execution_count": 30,
   "metadata": {
    "_uuid": "c03f1639b345fbf0fc1c46a4f9720aa93a39d361"
   },
   "outputs": [
    {
     "data": {
      "text/plain": [
       "array([[ 0.5585787 ,  0.07284954, -0.93512739],\n",
       "       [ 0.25144169, -0.88039133, -1.81741983],\n",
       "       [-0.25638069, -0.94972938,  0.14843666]])"
      ]
     },
     "execution_count": 30,
     "metadata": {},
     "output_type": "execute_result"
    }
   ],
   "source": [
    "# create a 3x3e array with mean 0 and standard deviation 1\n",
    "np.random.normal(0,1,(3,3))"
   ]
  },
  {
   "cell_type": "code",
   "execution_count": 31,
   "metadata": {
    "_uuid": "7e1b27f4a2c9161128cd83b31dd6acff74ba125d"
   },
   "outputs": [
    {
     "data": {
      "text/plain": [
       "array([[ 5.58414565,  3.47299152,  0.17848189],\n",
       "       [ 0.31655025,  0.57868655, -2.95519041],\n",
       "       [ 4.38075817,  3.87099664,  2.37502837]])"
      ]
     },
     "execution_count": 31,
     "metadata": {},
     "output_type": "execute_result"
    }
   ],
   "source": [
    "# mean 2 and standard deviation 2\n",
    "np.random.normal(2,2,(3,3))"
   ]
  },
  {
   "cell_type": "code",
   "execution_count": 32,
   "metadata": {
    "_uuid": "5ac8f7b901f4cb57c3e3f5e2fcc988d728f2f2ab"
   },
   "outputs": [
    {
     "data": {
      "text/plain": [
       "array([[5, 7, 4],\n",
       "       [6, 2, 7],\n",
       "       [7, 0, 4]])"
      ]
     },
     "execution_count": 32,
     "metadata": {},
     "output_type": "execute_result"
    }
   ],
   "source": [
    "# create a 3x3 array fileed with random values from 0 to 10\n",
    "np.random.randint(0,10,(3,3))"
   ]
  },
  {
   "cell_type": "code",
   "execution_count": 33,
   "metadata": {
    "_uuid": "61642da003e8d882271f2c664720c3442995e62a"
   },
   "outputs": [
    {
     "data": {
      "text/plain": [
       "array([[1, 0, 0],\n",
       "       [0, 1, 0],\n",
       "       [0, 0, 1]])"
      ]
     },
     "execution_count": 33,
     "metadata": {},
     "output_type": "execute_result"
    }
   ],
   "source": [
    "# create a 3x3 identity matrix\n",
    "np.eye(3,dtype=int)"
   ]
  },
  {
   "cell_type": "code",
   "execution_count": 34,
   "metadata": {
    "_uuid": "c72ed21bfa5a5b9e72211fa3ac3ae438f2e3109c"
   },
   "outputs": [
    {
     "data": {
      "text/plain": [
       "array([[5.58414565, 3.47299152, 0.17848189],\n",
       "       [0.31655025, 0.57868655, 2.95519041],\n",
       "       [4.38075817, 3.87099664, 2.37502837]])"
      ]
     },
     "execution_count": 34,
     "metadata": {},
     "output_type": "execute_result"
    }
   ],
   "source": [
    "# create a empty array of given shape ,gets filled with whatever values are already exist\n",
    "np.empty((3,3))"
   ]
  },
  {
   "cell_type": "code",
   "execution_count": 37,
   "metadata": {
    "_uuid": "0ad9c150c6eca1ef968229a0bc65d7726afc77af"
   },
   "outputs": [
    {
     "data": {
      "text/plain": [
       "array([0.  , 0.25, 0.5 , 0.75, 1.  ])"
      ]
     },
     "execution_count": 37,
     "metadata": {},
     "output_type": "execute_result"
    }
   ],
   "source": [
    "np.empty(5)"
   ]
  },
  {
   "cell_type": "markdown",
   "metadata": {
    "_uuid": "4a66d5ecfbc466767d5f21691d718afe5a625d31"
   },
   "source": [
    "#  numpy standard data types"
   ]
  },
  {
   "cell_type": "code",
   "execution_count": 54,
   "metadata": {
    "_uuid": "67c0cf050c34ef5218582c5940ea63774e8c8502"
   },
   "outputs": [
    {
     "data": {
      "text/plain": [
       "array([0, 0, 0, 0, 0, 0, 0, 0, 0, 0])"
      ]
     },
     "execution_count": 54,
     "metadata": {},
     "output_type": "execute_result"
    }
   ],
   "source": [
    "np.zeros(10,dtype=int)"
   ]
  },
  {
   "cell_type": "code",
   "execution_count": 55,
   "metadata": {
    "_uuid": "618c684d96b11f6ef570d2c326f9513e81ea012a"
   },
   "outputs": [
    {
     "data": {
      "text/plain": [
       "array([0., 0., 0., 0., 0., 0., 0., 0., 0., 0.])"
      ]
     },
     "execution_count": 55,
     "metadata": {},
     "output_type": "execute_result"
    }
   ],
   "source": [
    "np.zeros(10,dtype=float)"
   ]
  },
  {
   "cell_type": "code",
   "execution_count": 56,
   "metadata": {
    "_uuid": "5ff2084c6bd7188e06dac9162294efadbc08bab6"
   },
   "outputs": [
    {
     "data": {
      "text/plain": [
       "array([0, 0, 0, 0, 0, 0, 0, 0, 0, 0], dtype=int16)"
      ]
     },
     "execution_count": 56,
     "metadata": {},
     "output_type": "execute_result"
    }
   ],
   "source": [
    "np.zeros(10,dtype='int16')"
   ]
  },
  {
   "cell_type": "code",
   "execution_count": 57,
   "metadata": {
    "_uuid": "3dd919f7a0341e0b26619bf27121f070bb4e20f7"
   },
   "outputs": [
    {
     "data": {
      "text/plain": [
       "array([0, 0, 0, 0, 0, 0, 0, 0, 0, 0], dtype=int16)"
      ]
     },
     "execution_count": 57,
     "metadata": {},
     "output_type": "execute_result"
    }
   ],
   "source": [
    "np.zeros(10,dtype=np.int16)"
   ]
  },
  {
   "cell_type": "markdown",
   "metadata": {
    "_uuid": "65a15d6bdb15ea9131f9025df94a4b0ecae26b4e"
   },
   "source": [
    "#  basics of numpy array"
   ]
  },
  {
   "cell_type": "markdown",
   "metadata": {
    "_uuid": "f18c06a2f4e053929beadc0ffbd05596de712a9c"
   },
   "source": [
    "This section\n",
    "will present several examples using NumPy array manipulation to access data\n",
    "and subarrays, and to split, reshape, and join the arrays."
   ]
  },
  {
   "cell_type": "markdown",
   "metadata": {
    "_uuid": "09bbfafbd66c00aad696fead501522996a47ea96"
   },
   "source": [
    "## array attributes"
   ]
  },
  {
   "cell_type": "code",
   "execution_count": 44,
   "metadata": {
    "_uuid": "46330cd77eed9a70e6efc55713c20943a20206db"
   },
   "outputs": [
    {
     "data": {
      "text/plain": [
       "array([5, 0, 3, 3, 7, 9])"
      ]
     },
     "execution_count": 44,
     "metadata": {},
     "output_type": "execute_result"
    }
   ],
   "source": [
    "np.random.seed(0)\n",
    "x1=np.random.randint(10,size=6)\n",
    "x1"
   ]
  },
  {
   "cell_type": "code",
   "execution_count": 40,
   "metadata": {
    "_uuid": "be1a775a86ae746a9b910e908aa5325fe6a57732"
   },
   "outputs": [
    {
     "data": {
      "text/plain": [
       "1"
      ]
     },
     "execution_count": 40,
     "metadata": {},
     "output_type": "execute_result"
    }
   ],
   "source": [
    "# every np array has attributes ndim,shape,size for its dimension,shape, and total size\n",
    "x1.ndim"
   ]
  },
  {
   "cell_type": "code",
   "execution_count": 41,
   "metadata": {
    "_uuid": "1aa1529fc3e01019ac0febaff596ca00c329ab83"
   },
   "outputs": [
    {
     "data": {
      "text/plain": [
       "(6,)"
      ]
     },
     "execution_count": 41,
     "metadata": {},
     "output_type": "execute_result"
    }
   ],
   "source": [
    "x1.shape"
   ]
  },
  {
   "cell_type": "code",
   "execution_count": 42,
   "metadata": {
    "_uuid": "e9bb2afeabb9531431d704fee0812b01aeff4ed2"
   },
   "outputs": [
    {
     "data": {
      "text/plain": [
       "6"
      ]
     },
     "execution_count": 42,
     "metadata": {},
     "output_type": "execute_result"
    }
   ],
   "source": [
    "x1.size"
   ]
  },
  {
   "cell_type": "code",
   "execution_count": 45,
   "metadata": {
    "_uuid": "00c1359b778dbb1941559d1483047faaa946220d"
   },
   "outputs": [
    {
     "data": {
      "text/plain": [
       "array([[3, 5, 2],\n",
       "       [4, 7, 6]])"
      ]
     },
     "execution_count": 45,
     "metadata": {},
     "output_type": "execute_result"
    }
   ],
   "source": [
    "x2=np.random.randint(10,size=(2,3))\n",
    "x2"
   ]
  },
  {
   "cell_type": "code",
   "execution_count": 46,
   "metadata": {
    "_uuid": "0551432e85736842f3d3a88b2bf93fda042f96df"
   },
   "outputs": [
    {
     "data": {
      "text/plain": [
       "2"
      ]
     },
     "execution_count": 46,
     "metadata": {},
     "output_type": "execute_result"
    }
   ],
   "source": [
    "x2.ndim"
   ]
  },
  {
   "cell_type": "code",
   "execution_count": 47,
   "metadata": {
    "_uuid": "1007ddef981c4655b081cedccf91667fa90afef6"
   },
   "outputs": [
    {
     "data": {
      "text/plain": [
       "(2, 3)"
      ]
     },
     "execution_count": 47,
     "metadata": {},
     "output_type": "execute_result"
    }
   ],
   "source": [
    "x2.shape"
   ]
  },
  {
   "cell_type": "code",
   "execution_count": 48,
   "metadata": {
    "_uuid": "91dcb7db245f5825b4da7b98d188fefe5c9bffb6"
   },
   "outputs": [
    {
     "data": {
      "text/plain": [
       "6"
      ]
     },
     "execution_count": 48,
     "metadata": {},
     "output_type": "execute_result"
    }
   ],
   "source": [
    "x2.size"
   ]
  },
  {
   "cell_type": "code",
   "execution_count": 49,
   "metadata": {
    "_uuid": "e6deabf510064b3e2cfe72db66ac5a80993e64a0"
   },
   "outputs": [
    {
     "data": {
      "text/plain": [
       "dtype('int32')"
      ]
     },
     "execution_count": 49,
     "metadata": {},
     "output_type": "execute_result"
    }
   ],
   "source": [
    "# we also have dtype to see data type of array\n",
    "x2.dtype"
   ]
  },
  {
   "cell_type": "code",
   "execution_count": 50,
   "metadata": {
    "_uuid": "15403b74bc26963960bfdb75425699c1c0f2c9fc"
   },
   "outputs": [
    {
     "data": {
      "text/plain": [
       "array([5, 0, 3, 3, 7, 9])"
      ]
     },
     "execution_count": 50,
     "metadata": {},
     "output_type": "execute_result"
    }
   ],
   "source": [
    "# accessing array elememts\n",
    "x1"
   ]
  },
  {
   "cell_type": "code",
   "execution_count": 51,
   "metadata": {
    "_uuid": "c9ed3e41d925a0d282994ca6dc040790d7a4640a"
   },
   "outputs": [
    {
     "data": {
      "text/plain": [
       "5"
      ]
     },
     "execution_count": 51,
     "metadata": {},
     "output_type": "execute_result"
    }
   ],
   "source": [
    "x1[0]"
   ]
  },
  {
   "cell_type": "code",
   "execution_count": 52,
   "metadata": {
    "_uuid": "1a1a7a4f2cede7f589abf1a286b28cef0feb5ffd"
   },
   "outputs": [
    {
     "data": {
      "text/plain": [
       "9"
      ]
     },
     "execution_count": 52,
     "metadata": {},
     "output_type": "execute_result"
    }
   ],
   "source": [
    "# to index from the end use -1 and so on\n",
    "x1[-1]"
   ]
  },
  {
   "cell_type": "code",
   "execution_count": 53,
   "metadata": {
    "_uuid": "02663af4df830d84e66d452184f227d8ca3ec605"
   },
   "outputs": [
    {
     "data": {
      "text/plain": [
       "7"
      ]
     },
     "execution_count": 53,
     "metadata": {},
     "output_type": "execute_result"
    }
   ],
   "source": [
    "x1[-2]"
   ]
  },
  {
   "cell_type": "code",
   "execution_count": 54,
   "metadata": {
    "_uuid": "9ca016e9357bf2e3d8d6dd6d229da3506d629f97"
   },
   "outputs": [
    {
     "data": {
      "text/plain": [
       "array([[3, 5, 2],\n",
       "       [4, 7, 6]])"
      ]
     },
     "execution_count": 54,
     "metadata": {},
     "output_type": "execute_result"
    }
   ],
   "source": [
    "x2"
   ]
  },
  {
   "cell_type": "code",
   "execution_count": 55,
   "metadata": {
    "_uuid": "2d707004bb5128b66958deddadf83ab411eb2147"
   },
   "outputs": [
    {
     "name": "stdout",
     "output_type": "stream",
     "text": [
      "3\n",
      "3\n",
      "3\n"
     ]
    }
   ],
   "source": [
    "# to access elements in a multidim array\n",
    "print(x2[0,0])\n",
    "print(x2[(0,0)])\n",
    "print(x2[0][0])"
   ]
  },
  {
   "cell_type": "code",
   "execution_count": 56,
   "metadata": {
    "_uuid": "d3e0516cbd8f03996ff0d59f63c9dea4a75edfd0"
   },
   "outputs": [
    {
     "name": "stdout",
     "output_type": "stream",
     "text": [
      "5\n"
     ]
    }
   ],
   "source": [
    "print(x2[0,1])"
   ]
  },
  {
   "cell_type": "code",
   "execution_count": 57,
   "metadata": {
    "_uuid": "51c57269172ad6c48395bfd61a8bccf65b0eda8a"
   },
   "outputs": [],
   "source": [
    "## modify values using abov notation\n",
    "x2[0,1]=10"
   ]
  },
  {
   "cell_type": "code",
   "execution_count": 58,
   "metadata": {
    "_uuid": "6993aea1ef2a63cc01205a5f777327ab5bf1d721"
   },
   "outputs": [
    {
     "data": {
      "text/plain": [
       "array([[ 3, 10,  2],\n",
       "       [ 4,  7,  6]])"
      ]
     },
     "execution_count": 58,
     "metadata": {},
     "output_type": "execute_result"
    }
   ],
   "source": [
    "x2"
   ]
  },
  {
   "cell_type": "code",
   "execution_count": 111,
   "metadata": {
    "_uuid": "d331b4790d657b75895fc2b9b42784d0dbfbd42e"
   },
   "outputs": [
    {
     "data": {
      "text/plain": [
       "array([[99, 10,  1],\n",
       "       [ 3,  3,  3]])"
      ]
     },
     "execution_count": 111,
     "metadata": {},
     "output_type": "execute_result"
    }
   ],
   "source": [
    "# if we assign a float value it will be truncated because its a int array\n",
    "x2[0,0]=99.15\n",
    "x2"
   ]
  },
  {
   "cell_type": "markdown",
   "metadata": {
    "_uuid": "54527d26da4312802051d719dbc0ca76575758e5"
   },
   "source": [
    "## array slicing,sub arrays"
   ]
  },
  {
   "cell_type": "markdown",
   "metadata": {
    "_uuid": "efcb9f9f15857483b97add68c76090b279a1320f"
   },
   "source": [
    "Just as we can use square brackets to access individual array elements, we can also use\n",
    "them to access subarrays with the slice notation, marked by the colon (:) character.\n",
    "The NumPy slicing syntax follows that of the standard Python list; to access a slice of\n",
    "an array x, use this:\n",
    "x[start:stop:step]\n",
    "If any of these are unspecified, they default to the values start=0, stop=size of\n",
    "dimension, step=1."
   ]
  },
  {
   "cell_type": "code",
   "execution_count": 60,
   "metadata": {
    "_uuid": "f2b65ce4702b6b48ddf3e61f7a0169a3d31408b9"
   },
   "outputs": [
    {
     "data": {
      "text/plain": [
       "array([0, 1, 2, 3, 4, 5, 6, 7, 8, 9])"
      ]
     },
     "execution_count": 60,
     "metadata": {},
     "output_type": "execute_result"
    }
   ],
   "source": [
    "x=np.arange(10)\n",
    "x"
   ]
  },
  {
   "cell_type": "code",
   "execution_count": 61,
   "metadata": {
    "_uuid": "3ab97449f5df5d8e70afa4a46c5c89476752804a"
   },
   "outputs": [
    {
     "data": {
      "text/plain": [
       "array([0, 1, 2, 3, 4])"
      ]
     },
     "execution_count": 61,
     "metadata": {},
     "output_type": "execute_result"
    }
   ],
   "source": [
    "# get first 5 element subarray (half-open range)\n",
    "x[:5]"
   ]
  },
  {
   "cell_type": "code",
   "execution_count": 62,
   "metadata": {
    "_uuid": "b218ab19f6fe8ba69c25e88a18a3c3bb78e0dd0f"
   },
   "outputs": [
    {
     "data": {
      "text/plain": [
       "array([2, 3, 4])"
      ]
     },
     "execution_count": 62,
     "metadata": {},
     "output_type": "execute_result"
    }
   ],
   "source": [
    "x[2:5]"
   ]
  },
  {
   "cell_type": "code",
   "execution_count": 63,
   "metadata": {
    "_uuid": "6d89000e9d84faf3ed86620f557d669f750b6bec"
   },
   "outputs": [
    {
     "data": {
      "text/plain": [
       "array([5, 6, 7, 8, 9])"
      ]
     },
     "execution_count": 63,
     "metadata": {},
     "output_type": "execute_result"
    }
   ],
   "source": [
    "x[5:]"
   ]
  },
  {
   "cell_type": "code",
   "execution_count": 64,
   "metadata": {
    "_uuid": "1b16f9a99ebc4047f3446eb37e854c7de1e076a5"
   },
   "outputs": [
    {
     "data": {
      "text/plain": [
       "array([0, 2, 4, 6, 8])"
      ]
     },
     "execution_count": 64,
     "metadata": {},
     "output_type": "execute_result"
    }
   ],
   "source": [
    "# steps of 2\n",
    "x[::2]"
   ]
  },
  {
   "cell_type": "code",
   "execution_count": 119,
   "metadata": {
    "_uuid": "7e9f127681fb0e50b6237d53312d1babf1e1d0c8"
   },
   "outputs": [
    {
     "data": {
      "text/plain": [
       "array([1, 3, 5, 7, 9])"
      ]
     },
     "execution_count": 119,
     "metadata": {},
     "output_type": "execute_result"
    }
   ],
   "source": [
    "# starting from x[1], steps of 2\n",
    "x[1::2]"
   ]
  },
  {
   "cell_type": "code",
   "execution_count": 65,
   "metadata": {
    "_uuid": "6973fe1777d8c5c0178b63583e42db70797b2d2f"
   },
   "outputs": [
    {
     "data": {
      "text/plain": [
       "array([9, 8, 7, 6, 5, 4, 3, 2, 1, 0])"
      ]
     },
     "execution_count": 65,
     "metadata": {},
     "output_type": "execute_result"
    }
   ],
   "source": [
    "# if step value is negative , start and stop are swapped, easy way to reverse an array\n",
    "x[::-1]"
   ]
  },
  {
   "cell_type": "code",
   "execution_count": 121,
   "metadata": {
    "_uuid": "1c8910bd2e9b306bf1efbd9c7c6ce80fc9551e27"
   },
   "outputs": [
    {
     "data": {
      "text/plain": [
       "array([5, 3, 1])"
      ]
     },
     "execution_count": 121,
     "metadata": {},
     "output_type": "execute_result"
    }
   ],
   "source": [
    "x[5::-2]"
   ]
  },
  {
   "cell_type": "markdown",
   "metadata": {
    "_uuid": "2ef47fabea5eadc385021234a6e8777a312a9361"
   },
   "source": [
    "### multidimensional array slicing"
   ]
  },
  {
   "cell_type": "code",
   "execution_count": 66,
   "metadata": {
    "_uuid": "773e85e1c580619d0b1c5379bd8229d8006cff0a"
   },
   "outputs": [],
   "source": [
    "x2=np.random.randint(20,size=(3,4))"
   ]
  },
  {
   "cell_type": "code",
   "execution_count": 67,
   "metadata": {
    "_uuid": "1f7e6d57517dd2c071488a9e73e34930954f8191"
   },
   "outputs": [
    {
     "data": {
      "text/plain": [
       "array([[12,  1,  6,  7],\n",
       "       [14, 17,  5, 13],\n",
       "       [ 8,  9, 19, 16]])"
      ]
     },
     "execution_count": 67,
     "metadata": {},
     "output_type": "execute_result"
    }
   ],
   "source": [
    "x2"
   ]
  },
  {
   "cell_type": "code",
   "execution_count": 68,
   "metadata": {
    "_uuid": "c6ea346887ff0bef626bbe3f54f286bfe59b17c3"
   },
   "outputs": [
    {
     "data": {
      "text/plain": [
       "array([[12,  1,  6,  7],\n",
       "       [14, 17,  5, 13],\n",
       "       [ 8,  9, 19, 16]])"
      ]
     },
     "execution_count": 68,
     "metadata": {},
     "output_type": "execute_result"
    }
   ],
   "source": [
    "x2[:,:]"
   ]
  },
  {
   "cell_type": "code",
   "execution_count": 69,
   "metadata": {
    "_uuid": "c2826d751eeae6f2f69cec1ab6865a581b5a5779"
   },
   "outputs": [
    {
     "data": {
      "text/plain": [
       "array([[12,  1],\n",
       "       [14, 17]])"
      ]
     },
     "execution_count": 69,
     "metadata": {},
     "output_type": "execute_result"
    }
   ],
   "source": [
    "# upto second row and second column\n",
    "x2[:2,:2]"
   ]
  },
  {
   "cell_type": "code",
   "execution_count": 70,
   "metadata": {
    "_uuid": "6196a7758865a6fd80678d8f378f4272833c5b82"
   },
   "outputs": [
    {
     "data": {
      "text/plain": [
       "array([[12,  6],\n",
       "       [14,  5],\n",
       "       [ 8, 19]])"
      ]
     },
     "execution_count": 70,
     "metadata": {},
     "output_type": "execute_result"
    }
   ],
   "source": [
    "# all rows alternate columns\n",
    "x2[:,::2]"
   ]
  },
  {
   "cell_type": "code",
   "execution_count": 71,
   "metadata": {
    "_uuid": "6e95c8485585c775d7290f3dd416338184f06a2d"
   },
   "outputs": [
    {
     "data": {
      "text/plain": [
       "array([[16, 19,  9,  8],\n",
       "       [13,  5, 17, 14],\n",
       "       [ 7,  6,  1, 12]])"
      ]
     },
     "execution_count": 71,
     "metadata": {},
     "output_type": "execute_result"
    }
   ],
   "source": [
    "# reverse both rows and columns\n",
    "x2[::-1,::-1]"
   ]
  },
  {
   "cell_type": "code",
   "execution_count": 72,
   "metadata": {
    "_uuid": "607b9d1cf8bf2e4c1c163ade1a4350d6cce92535"
   },
   "outputs": [
    {
     "name": "stdout",
     "output_type": "stream",
     "text": [
      "[[12  1  6  7]\n",
      " [14 17  5 13]\n",
      " [ 8  9 19 16]]\n",
      "===============\n",
      "[12 14  8]\n"
     ]
    }
   ],
   "source": [
    "# accessing 1st column of an array\n",
    "print(x2)\n",
    "print(\"===============\")\n",
    "print(x2[:,0])"
   ]
  },
  {
   "cell_type": "code",
   "execution_count": 73,
   "metadata": {
    "_uuid": "8d320b73cd3d44b9dbbb4e7b9c12a9c6f0292568"
   },
   "outputs": [
    {
     "name": "stdout",
     "output_type": "stream",
     "text": [
      "[12  1  6  7]\n"
     ]
    }
   ],
   "source": [
    "# print first row of x2\n",
    "print(x2[0,:])"
   ]
  },
  {
   "cell_type": "code",
   "execution_count": 74,
   "metadata": {
    "_uuid": "a8e93a7ef86cd963d162faf326db71ed47fb18ea"
   },
   "outputs": [
    {
     "name": "stdout",
     "output_type": "stream",
     "text": [
      "[12  1  6  7]\n"
     ]
    }
   ],
   "source": [
    "# also can be used\n",
    "print(x2[0])"
   ]
  },
  {
   "cell_type": "markdown",
   "metadata": {
    "_uuid": "97d120c44a5e89c77ce51c9effc6422c533f068a"
   },
   "source": [
    "**One important—and extremely useful—thing to know about array slices is that they\n",
    "return references rather than copies of the array data. This is one area in which NumPy\n",
    "array slicing differs from Python list slicing: in lists, slices will be copies.**"
   ]
  },
  {
   "cell_type": "code",
   "execution_count": 75,
   "metadata": {
    "_uuid": "602bdabd27356914e3bd352f57cc2b29173681af"
   },
   "outputs": [
    {
     "name": "stdout",
     "output_type": "stream",
     "text": [
      "[[12  1  6  7]\n",
      " [14 17  5 13]\n",
      " [ 8  9 19 16]]\n"
     ]
    }
   ],
   "source": [
    "print(x2)"
   ]
  },
  {
   "cell_type": "code",
   "execution_count": 76,
   "metadata": {
    "_uuid": "85b0a8296ddc0c1c42c2f9aadfe49162c41607fc"
   },
   "outputs": [],
   "source": [
    "x2_sub=x2[:2,:2]"
   ]
  },
  {
   "cell_type": "code",
   "execution_count": 77,
   "metadata": {
    "_uuid": "c3ac1b726ae3d8621cb30467982d9b370e36462f"
   },
   "outputs": [
    {
     "data": {
      "text/plain": [
       "array([[12,  1],\n",
       "       [14, 17]])"
      ]
     },
     "execution_count": 77,
     "metadata": {},
     "output_type": "execute_result"
    }
   ],
   "source": [
    "x2_sub"
   ]
  },
  {
   "cell_type": "code",
   "execution_count": 78,
   "metadata": {
    "_uuid": "a115b66d356cef478fb9a7046a1d21133ae76e26"
   },
   "outputs": [],
   "source": [
    "x2_sub[0,0]=45"
   ]
  },
  {
   "cell_type": "code",
   "execution_count": 79,
   "metadata": {
    "_uuid": "befa45ff58d084e771d1319379881fc6476bdf09"
   },
   "outputs": [
    {
     "name": "stdout",
     "output_type": "stream",
     "text": [
      "[[45  1  6  7]\n",
      " [14 17  5 13]\n",
      " [ 8  9 19 16]]\n"
     ]
    }
   ],
   "source": [
    "# we see that x2 is changed as well despite making changes only in x2_sub, \n",
    "# this is because np array slicing return references instead of copy of array data\n",
    "print(x2)"
   ]
  },
  {
   "cell_type": "markdown",
   "metadata": {
    "_uuid": "92d9953e95811d00c67778229e6eb9aa01682119"
   },
   "source": [
    "### create copies"
   ]
  },
  {
   "cell_type": "code",
   "execution_count": 80,
   "metadata": {
    "_uuid": "5eb2ceb27a71e01f1c620488cceb726bd357b928"
   },
   "outputs": [],
   "source": [
    "# to create copy we use copy()\n",
    "x2_sub_copy=x2[:2,:2].copy()"
   ]
  },
  {
   "cell_type": "code",
   "execution_count": 81,
   "metadata": {
    "_uuid": "77296f69cefdd41fa9c6ca4f0fee292aa2e035f8"
   },
   "outputs": [
    {
     "data": {
      "text/plain": [
       "array([[45,  1],\n",
       "       [14, 17]])"
      ]
     },
     "execution_count": 81,
     "metadata": {},
     "output_type": "execute_result"
    }
   ],
   "source": [
    "x2_sub_copy"
   ]
  },
  {
   "cell_type": "code",
   "execution_count": 82,
   "metadata": {
    "_uuid": "d425d29f8f71bf5d0835f20195a072e363f085a7"
   },
   "outputs": [],
   "source": [
    "x2_sub_copy[0,0]=100"
   ]
  },
  {
   "cell_type": "code",
   "execution_count": 83,
   "metadata": {
    "_uuid": "1a7b17ea4b14cf59d1073aa29459aad4456eb4af"
   },
   "outputs": [
    {
     "data": {
      "text/plain": [
       "array([[45,  1,  6,  7],\n",
       "       [14, 17,  5, 13],\n",
       "       [ 8,  9, 19, 16]])"
      ]
     },
     "execution_count": 83,
     "metadata": {},
     "output_type": "execute_result"
    }
   ],
   "source": [
    "# x2 has no change in this case\n",
    "x2"
   ]
  },
  {
   "cell_type": "markdown",
   "metadata": {
    "_uuid": "703c95a571f3704003a4e89a007066325e8e4fcf"
   },
   "source": [
    "## reshaping arrays"
   ]
  },
  {
   "cell_type": "code",
   "execution_count": 84,
   "metadata": {
    "_uuid": "391323d31c974b0c51ec2291ab2588f2e363489d"
   },
   "outputs": [
    {
     "data": {
      "text/plain": [
       "array([0, 1, 2, 3, 4, 5, 6, 7, 8])"
      ]
     },
     "execution_count": 84,
     "metadata": {},
     "output_type": "execute_result"
    }
   ],
   "source": [
    "np.arange(9)"
   ]
  },
  {
   "cell_type": "code",
   "execution_count": 85,
   "metadata": {
    "_uuid": "c50991c691eb763ac17e1dd57de03ec006363a43"
   },
   "outputs": [
    {
     "data": {
      "text/plain": [
       "array([[0, 1, 2],\n",
       "       [3, 4, 5],\n",
       "       [6, 7, 8]])"
      ]
     },
     "execution_count": 85,
     "metadata": {},
     "output_type": "execute_result"
    }
   ],
   "source": [
    "# to reshape easiest way is to use reshape()\n",
    "np.arange(9).reshape((3,3))"
   ]
  },
  {
   "cell_type": "code",
   "execution_count": 86,
   "metadata": {
    "_uuid": "99d4af365e09912ec2c630656fc3c130b127c8d7"
   },
   "outputs": [
    {
     "ename": "ValueError",
     "evalue": "cannot reshape array of size 9 into shape (3,4)",
     "output_type": "error",
     "traceback": [
      "\u001b[1;31m---------------------------------------------------------------------------\u001b[0m",
      "\u001b[1;31mValueError\u001b[0m                                Traceback (most recent call last)",
      "\u001b[1;32m<ipython-input-86-8589702e10b4>\u001b[0m in \u001b[0;36m<module>\u001b[1;34m\u001b[0m\n\u001b[0;32m      1\u001b[0m \u001b[1;31m# note that for this to work size of original array should match the size of the new array\u001b[0m\u001b[1;33m\u001b[0m\u001b[1;33m\u001b[0m\u001b[1;33m\u001b[0m\u001b[0m\n\u001b[1;32m----> 2\u001b[1;33m \u001b[0mnp\u001b[0m\u001b[1;33m.\u001b[0m\u001b[0marange\u001b[0m\u001b[1;33m(\u001b[0m\u001b[1;36m9\u001b[0m\u001b[1;33m)\u001b[0m\u001b[1;33m.\u001b[0m\u001b[0mreshape\u001b[0m\u001b[1;33m(\u001b[0m\u001b[1;33m(\u001b[0m\u001b[1;36m3\u001b[0m\u001b[1;33m,\u001b[0m\u001b[1;36m4\u001b[0m\u001b[1;33m)\u001b[0m\u001b[1;33m)\u001b[0m\u001b[1;33m\u001b[0m\u001b[1;33m\u001b[0m\u001b[0m\n\u001b[0m",
      "\u001b[1;31mValueError\u001b[0m: cannot reshape array of size 9 into shape (3,4)"
     ]
    }
   ],
   "source": [
    "# note that for this to work size of original array should match the size of the new array\n",
    "np.arange(9).reshape((3,4))"
   ]
  },
  {
   "cell_type": "code",
   "execution_count": 93,
   "metadata": {
    "_uuid": "745e15ea419dda3c3743a16bd484bd4221b02e5c"
   },
   "outputs": [
    {
     "name": "stdout",
     "output_type": "stream",
     "text": [
      "[1 2 3]\n",
      "(3,)\n",
      "[[1 2 3]]\n"
     ]
    }
   ],
   "source": [
    "#Another common reshaping pattern is the conversion of a one-dimensional array\n",
    "#into a two-dimensional row or column matrix. You can do this with the reshape\n",
    "#method, or more easily by making use of the newaxis keyword within a slice operation:\n",
    "x=np.array([1,2,3])\n",
    "print(x)\n",
    "print(x.shape)\n",
    "# add one dimention using reshape()\n",
    "y=x.reshape((1,3))\n",
    "y.shape\n",
    "print(y)"
   ]
  },
  {
   "cell_type": "code",
   "execution_count": 94,
   "metadata": {
    "_uuid": "0d66362fc7d1445f21d700e25153b90374c26596"
   },
   "outputs": [
    {
     "data": {
      "text/plain": [
       "array([[1, 2, 3]])"
      ]
     },
     "execution_count": 94,
     "metadata": {},
     "output_type": "execute_result"
    }
   ],
   "source": [
    "#can also use np.newaxis to add one dimention\n",
    "x[np.newaxis,:]"
   ]
  },
  {
   "cell_type": "code",
   "execution_count": 95,
   "metadata": {
    "_uuid": "d765fcd8bb7dafbede1aa1e0d35c2c54bafda9ad"
   },
   "outputs": [
    {
     "data": {
      "text/plain": [
       "array([[1],\n",
       "       [2],\n",
       "       [3]])"
      ]
     },
     "execution_count": 95,
     "metadata": {},
     "output_type": "execute_result"
    }
   ],
   "source": [
    "x.reshape((3,1))"
   ]
  },
  {
   "cell_type": "code",
   "execution_count": 97,
   "metadata": {
    "_uuid": "68baa9c3f51dd9429318a34aeab6810e36a84230"
   },
   "outputs": [
    {
     "name": "stdout",
     "output_type": "stream",
     "text": [
      "[1 2 3]\n",
      "[[1]\n",
      " [2]\n",
      " [3]]\n"
     ]
    },
    {
     "data": {
      "text/plain": [
       "(3, 1)"
      ]
     },
     "execution_count": 97,
     "metadata": {},
     "output_type": "execute_result"
    }
   ],
   "source": [
    "print(x)\n",
    "y=x[:,np.newaxis]\n",
    "print(y)\n",
    "y.shape"
   ]
  },
  {
   "cell_type": "markdown",
   "metadata": {
    "_uuid": "5029e7b74352958d820ef72628c8c93ecae58479"
   },
   "source": [
    "## array concatination and splitting"
   ]
  },
  {
   "cell_type": "markdown",
   "metadata": {
    "_uuid": "3c116c24d5c603eb2393c7f25265733eeb210c87"
   },
   "source": [
    "All of the preceding routines worked on single arrays. It’s also possible to combine\n",
    "multiple arrays into one, and to conversely split a single array into multiple arrays.\n",
    "We’ll take a look at those operations here."
   ]
  },
  {
   "cell_type": "markdown",
   "metadata": {
    "_uuid": "8552a2bfaca13f05b5963bbf7b90558977c95279"
   },
   "source": [
    "### concatenation of arrays"
   ]
  },
  {
   "cell_type": "markdown",
   "metadata": {
    "_uuid": "0aa879cc603c12f6d77de00a270d12f357b18e83"
   },
   "source": [
    "Concatenation, or joining of two arrays in NumPy, is primarily accomplished\n",
    "through the routines np.concatenate, np.vstack, and np.hstack. np.concatenate\n",
    "takes a tuple or list of arrays as its first argument, as we can see here:"
   ]
  },
  {
   "cell_type": "code",
   "execution_count": 98,
   "metadata": {
    "_uuid": "728268050c35c467186058bd90260e9c3478b6e6"
   },
   "outputs": [
    {
     "data": {
      "text/plain": [
       "array([1, 2, 3, 4, 5, 6])"
      ]
     },
     "execution_count": 98,
     "metadata": {},
     "output_type": "execute_result"
    }
   ],
   "source": [
    "x=np.array([1,2,3])\n",
    "y=np.array([4,5,6])\n",
    "np.concatenate([x,y])"
   ]
  },
  {
   "cell_type": "code",
   "execution_count": 99,
   "metadata": {
    "_uuid": "1d177d51d82bfadeb5e073cbd95c17a164e8d535"
   },
   "outputs": [
    {
     "data": {
      "text/plain": [
       "array([1, 2, 3, 4, 5, 6, 7, 8, 9])"
      ]
     },
     "execution_count": 99,
     "metadata": {},
     "output_type": "execute_result"
    }
   ],
   "source": [
    "z=np.array([7,8,9])\n",
    "np.concatenate([x,y,z])"
   ]
  },
  {
   "cell_type": "code",
   "execution_count": 100,
   "metadata": {
    "_uuid": "734ceb46da6f0abfda5de5509663ae2f350a65c0"
   },
   "outputs": [
    {
     "data": {
      "text/plain": [
       "array([[ 1,  2,  3],\n",
       "       [ 4,  5,  6],\n",
       "       [ 7,  8,  9],\n",
       "       [10, 11, 12]])"
      ]
     },
     "execution_count": 100,
     "metadata": {},
     "output_type": "execute_result"
    }
   ],
   "source": [
    "p=np.array([[1,2,3],[4,5,6]])\n",
    "q=np.array([[7,8,9],[10,11,12]])\n",
    "np.concatenate([p,q])"
   ]
  },
  {
   "cell_type": "code",
   "execution_count": 183,
   "metadata": {
    "_uuid": "088c38a962e10cfd15f802bc3154c6d3cb842d47"
   },
   "outputs": [
    {
     "data": {
      "text/plain": [
       "array([[ 1,  2,  3,  7,  8,  9],\n",
       "       [ 4,  5,  6, 10, 11, 12]])"
      ]
     },
     "execution_count": 183,
     "metadata": {},
     "output_type": "execute_result"
    }
   ],
   "source": [
    "# default axis =0 ( | axis)\n",
    "# axis = 1 (--> axis)\n",
    "# since this is s 2-d array, there are only | axis and --> axis\n",
    "np.concatenate([p,q],axis=1)"
   ]
  },
  {
   "cell_type": "code",
   "execution_count": 186,
   "metadata": {
    "_uuid": "77485f537b67e687137c1a6b52fd89b74819e9af"
   },
   "outputs": [
    {
     "data": {
      "text/plain": [
       "array([[1, 2, 3],\n",
       "       [4, 5, 6],\n",
       "       [7, 8, 9]])"
      ]
     },
     "execution_count": 186,
     "metadata": {},
     "output_type": "execute_result"
    }
   ],
   "source": [
    "# vertical stack\n",
    "x=np.array([1,2,3])\n",
    "y=np.array([[4,5,6],[7,8,9]])\n",
    "np.vstack([x,y])"
   ]
  },
  {
   "cell_type": "code",
   "execution_count": 187,
   "metadata": {
    "_uuid": "fe159e2f2664350dc98875a48f0e99cac530bde2"
   },
   "outputs": [
    {
     "data": {
      "text/plain": [
       "array([[99,  4,  5,  6],\n",
       "       [99,  7,  8,  9]])"
      ]
     },
     "execution_count": 187,
     "metadata": {},
     "output_type": "execute_result"
    }
   ],
   "source": [
    "x=np.array([[99],[99]])\n",
    "np.hstack([x,y])"
   ]
  },
  {
   "cell_type": "markdown",
   "metadata": {
    "_uuid": "6d1401ad49aa2a501f3c94ffdb05752a60b39525"
   },
   "source": [
    "### splitting array"
   ]
  },
  {
   "cell_type": "markdown",
   "metadata": {
    "_uuid": "bc651b91bbf67cf26ae2a4b865a29b06b9a9198f"
   },
   "source": [
    "The opposite of concatenation is splitting, which is implemented by the functions\n",
    "np.split, np.hsplit, and np.vsplit. For each of these, we can pass a list of indices\n",
    "giving the split points:"
   ]
  },
  {
   "cell_type": "code",
   "execution_count": 101,
   "metadata": {
    "_uuid": "6b1b57b45f9f19451bf7562c859040350f5e5353"
   },
   "outputs": [],
   "source": [
    "x=np.array([0,1,2,3,4,5,6,7,8])"
   ]
  },
  {
   "cell_type": "code",
   "execution_count": 102,
   "metadata": {
    "_uuid": "55213c169e85ba430f026da450fe21a331a55429"
   },
   "outputs": [],
   "source": [
    "#Notice that N split points lead to N + 1 subarrays.\n",
    "# the split points [3, 5] are indices of the array x\n",
    "y1,y2,y3=np.split(x,[3,5])"
   ]
  },
  {
   "cell_type": "code",
   "execution_count": 103,
   "metadata": {
    "_uuid": "16135e0cd3eb4712351361dd5f4bdb17393aeafc"
   },
   "outputs": [
    {
     "data": {
      "text/plain": [
       "array([0, 1, 2])"
      ]
     },
     "execution_count": 103,
     "metadata": {},
     "output_type": "execute_result"
    }
   ],
   "source": [
    "y1"
   ]
  },
  {
   "cell_type": "code",
   "execution_count": 104,
   "metadata": {
    "_uuid": "3105b7d0abcfd416356857c61051d188670bbd79"
   },
   "outputs": [
    {
     "data": {
      "text/plain": [
       "array([3, 4])"
      ]
     },
     "execution_count": 104,
     "metadata": {},
     "output_type": "execute_result"
    }
   ],
   "source": [
    "y2"
   ]
  },
  {
   "cell_type": "code",
   "execution_count": 105,
   "metadata": {
    "_uuid": "5f07f81116a517a22c08a75341b4b563debe23cb"
   },
   "outputs": [
    {
     "data": {
      "text/plain": [
       "array([5, 6, 7, 8])"
      ]
     },
     "execution_count": 105,
     "metadata": {},
     "output_type": "execute_result"
    }
   ],
   "source": [
    "y3"
   ]
  },
  {
   "cell_type": "code",
   "execution_count": 106,
   "metadata": {
    "_uuid": "159ac42f6e0f0694c1c248be2b36d1da6275100c"
   },
   "outputs": [
    {
     "name": "stdout",
     "output_type": "stream",
     "text": [
      "[0 1 2]\n",
      "[3 4]\n",
      "[5 6 7]\n",
      "[8]\n"
     ]
    }
   ],
   "source": [
    "y1,y2,y3,y4=np.split(x,[3,5,8])\n",
    "print(y1)\n",
    "print(y2)\n",
    "print(y3)\n",
    "print(y4)"
   ]
  },
  {
   "cell_type": "code",
   "execution_count": 117,
   "metadata": {
    "_uuid": "c4d1f5fe6aa93d093c6c61ef9067372c30a868b4"
   },
   "outputs": [],
   "source": [
    "grid=np.arange(20).reshape([5,4])"
   ]
  },
  {
   "cell_type": "code",
   "execution_count": 118,
   "metadata": {
    "_uuid": "a6ebaa83bc22a6eee48ad21f10069683a7b68ddc"
   },
   "outputs": [
    {
     "data": {
      "text/plain": [
       "array([[ 0,  1,  2,  3],\n",
       "       [ 4,  5,  6,  7],\n",
       "       [ 8,  9, 10, 11],\n",
       "       [12, 13, 14, 15],\n",
       "       [16, 17, 18, 19]])"
      ]
     },
     "execution_count": 118,
     "metadata": {},
     "output_type": "execute_result"
    }
   ],
   "source": [
    "grid"
   ]
  },
  {
   "cell_type": "code",
   "execution_count": 119,
   "metadata": {
    "_uuid": "f0c2949f8bd5acd02f452165701fa075228095e2"
   },
   "outputs": [],
   "source": [
    "upper,lower=np.vsplit(grid,[2])\n",
    "# try changing value of 2 to see result change"
   ]
  },
  {
   "cell_type": "code",
   "execution_count": 120,
   "metadata": {
    "_uuid": "8cc0e74fcc49c9ba22a5a26491e9ecbf3124f3e3"
   },
   "outputs": [
    {
     "name": "stdout",
     "output_type": "stream",
     "text": [
      "[[0 1 2 3]\n",
      " [4 5 6 7]]\n",
      "==============\n",
      "[[ 8  9 10 11]\n",
      " [12 13 14 15]\n",
      " [16 17 18 19]]\n"
     ]
    }
   ],
   "source": [
    "print(upper)\n",
    "print('==============')\n",
    "print(lower)"
   ]
  },
  {
   "cell_type": "code",
   "execution_count": 121,
   "metadata": {
    "_uuid": "b3f1285a51e552065dda8d737bb393a48af749e9"
   },
   "outputs": [
    {
     "data": {
      "text/plain": [
       "array([[ 0,  1,  2,  3],\n",
       "       [ 4,  5,  6,  7],\n",
       "       [ 8,  9, 10, 11],\n",
       "       [12, 13, 14, 15],\n",
       "       [16, 17, 18, 19]])"
      ]
     },
     "execution_count": 121,
     "metadata": {},
     "output_type": "execute_result"
    }
   ],
   "source": [
    "left,right=np.hsplit(grid,[2])\n",
    "grid"
   ]
  },
  {
   "cell_type": "code",
   "execution_count": 122,
   "metadata": {
    "_uuid": "43efce2829496a40ddc6bc6e7a17c230c463118c"
   },
   "outputs": [
    {
     "name": "stdout",
     "output_type": "stream",
     "text": [
      "[[ 0  1]\n",
      " [ 4  5]\n",
      " [ 8  9]\n",
      " [12 13]\n",
      " [16 17]]\n",
      "[[ 2  3]\n",
      " [ 6  7]\n",
      " [10 11]\n",
      " [14 15]\n",
      " [18 19]]\n"
     ]
    }
   ],
   "source": [
    "print(left)\n",
    "print(right)"
   ]
  },
  {
   "cell_type": "markdown",
   "metadata": {
    "_uuid": "674f17437a901e1ef92bde704d1083b60eddceb1"
   },
   "source": [
    "## computation on numpy arrays"
   ]
  },
  {
   "cell_type": "markdown",
   "metadata": {
    "_uuid": "55b59609e8e4e963ca327a353a5169427aa4716e"
   },
   "source": [
    "Up until now, we have been discussing some of the basic nuts and bolts of NumPy; in\n",
    "the next few sections, we will dive into the reasons that NumPy is so important in the\n",
    "Python data science world. Namely, it provides an easy and flexible interface to optimized\n",
    "computation with arrays of data.\n",
    "Computation on NumPy arrays can be very fast, or it can be very slow. The key to\n",
    "making it fast is to use vectorized operations, generally implemented through Num‐\n",
    "Py’s universal functions (ufuncs). This section motivates the need for NumPy’s ufuncs,\n",
    "which can be used to make repeated calculations on array elements much more efficient.\n",
    "It then introduces many of the most common and useful arithmetic ufuncs\n",
    "available in the NumPy package."
   ]
  },
  {
   "cell_type": "code",
   "execution_count": 200,
   "metadata": {
    "_uuid": "209c6a1cb44c2a1a987897f5ee90ebac30f804da"
   },
   "outputs": [
    {
     "data": {
      "text/plain": [
       "array([1, 5, 6, 6, 7])"
      ]
     },
     "execution_count": 200,
     "metadata": {},
     "output_type": "execute_result"
    }
   ],
   "source": [
    "# lets calculate reciprocal of an array elements\n",
    "l=np.random.randint(1,10,size=5)\n",
    "l"
   ]
  },
  {
   "cell_type": "code",
   "execution_count": 201,
   "metadata": {
    "_uuid": "746d1e83fd19471162f57fa916d8f925ee9a90a0"
   },
   "outputs": [],
   "source": [
    "def reciprocal(l):\n",
    "    output=np.empty(len(l))\n",
    "    for i in range(len(l)):\n",
    "        output[i]=1/l[i]\n",
    "    (output)"
   ]
  },
  {
   "cell_type": "code",
   "execution_count": 202,
   "metadata": {
    "_uuid": "6f3c2452c50873c4b1120f7d99f1909c7c57d62d"
   },
   "outputs": [
    {
     "name": "stdout",
     "output_type": "stream",
     "text": [
      "2.35 µs ± 102 ns per loop (mean ± std. dev. of 7 runs, 100000 loops each)\n"
     ]
    }
   ],
   "source": [
    "# lets calculate time taken for this loop for 5 elements by using timeit\n",
    "%timeit reciprocal(l)"
   ]
  },
  {
   "cell_type": "code",
   "execution_count": 203,
   "metadata": {
    "_uuid": "71bd21f698b7ff27cbdafd022cb39e49764a6c4c"
   },
   "outputs": [
    {
     "name": "stdout",
     "output_type": "stream",
     "text": [
      "1000000\n"
     ]
    }
   ],
   "source": [
    "# lets calculate for 1000000 elements\n",
    "l=np.arange(1,1000001)\n",
    "print(len(l))"
   ]
  },
  {
   "cell_type": "code",
   "execution_count": 204,
   "metadata": {
    "_uuid": "6c1fc4c1ff1cd797e3c3a819427a8fd1a0a8f6bf"
   },
   "outputs": [
    {
     "name": "stdout",
     "output_type": "stream",
     "text": [
      "268 ms ± 20.3 ms per loop (mean ± std. dev. of 7 runs, 1 loop each)\n"
     ]
    }
   ],
   "source": [
    "# this takes lot of time to compute\n",
    "%timeit reciprocal(l)"
   ]
  },
  {
   "cell_type": "markdown",
   "metadata": {
    "_uuid": "ed38c7fa2f608580fececc5c9854b7fd0b3b0e6d"
   },
   "source": [
    "It takes several seconds to compute these million operations and to store the result!\n",
    "When even cell phones have processing speeds measured in Giga-FLOPS (i.e., billions\n",
    "of numerical operations per second), this seems almost absurdly slow. It turns\n",
    "out that the bottleneck here is not the operations themselves, but the type-checking\n",
    "and function dispatches that CPython must do at each cycle of the loop. Each time\n",
    "the reciprocal is computed, Python first examines the object’s type and does a\n",
    "dynamic lookup of the correct function to use for that type. If we were working in\n",
    "compiled code instead, this type specification would be known before the code executes\n",
    "and the result could be computed much more efficiently."
   ]
  },
  {
   "cell_type": "code",
   "execution_count": 205,
   "metadata": {
    "_uuid": "dfd2a3c69f0ac94254541473aed52e8f215af3d3"
   },
   "outputs": [
    {
     "name": "stdout",
     "output_type": "stream",
     "text": [
      "258 ms ± 10.9 ms per loop (mean ± std. dev. of 7 runs, 1 loop each)\n"
     ]
    }
   ],
   "source": [
    "%timeit reciprocal(l)"
   ]
  },
  {
   "cell_type": "code",
   "execution_count": 206,
   "metadata": {
    "_uuid": "488d2ce4602773cf19bab5cc4f4039e6bf266f65"
   },
   "outputs": [
    {
     "name": "stdout",
     "output_type": "stream",
     "text": [
      "2.38 ms ± 145 µs per loop (mean ± std. dev. of 7 runs, 100 loops each)\n"
     ]
    }
   ],
   "source": [
    "# directly performing operation on array\n",
    "%timeit (1.0/l)"
   ]
  },
  {
   "cell_type": "markdown",
   "metadata": {
    "_uuid": "b8484d491f5ee53dc9ee5369eb70a36c23b0110a"
   },
   "source": [
    "Looking at the execution time for our big array, we see that it completes orders of\n",
    "magnitude faster than the Python loop:\n",
    "For many types of operations, NumPy provides a convenient interface into just this\n",
    "kind of statically typed, compiled routine. This is known as a vectorized operation.\n",
    "You can accomplish this by simply performing an operation on the array, which will\n",
    "then be applied to each element. This vectorized approach is designed to push the\n",
    "loop into the compiled layer that underlies NumPy, leading to much faster execution."
   ]
  },
  {
   "cell_type": "markdown",
   "metadata": {
    "_uuid": "2a10d7224e9e152726815def8f28ff10936abac8"
   },
   "source": [
    "Vectorized operations in NumPy are implemented via ufuncs, whose main purpose is\n",
    "to quickly execute repeated operations on values in NumPy arrays. Ufuncs are\n",
    "extremely flexible—before we saw an operation between a scalar and an array, but we\n",
    "can also operate between two arrays:"
   ]
  },
  {
   "cell_type": "code",
   "execution_count": 207,
   "metadata": {
    "_uuid": "2f4a1fa441ea7556b3fc81d42424d39f8a5ef992"
   },
   "outputs": [
    {
     "data": {
      "text/plain": [
       "array([0.        , 0.5       , 0.66666667, 0.75      , 0.8       ])"
      ]
     },
     "execution_count": 207,
     "metadata": {},
     "output_type": "execute_result"
    }
   ],
   "source": [
    "np.arange(5)/np.arange(1,6)"
   ]
  },
  {
   "cell_type": "markdown",
   "metadata": {
    "_uuid": "bf4d89c7c1d0e02c752466db112f733cb6158e62"
   },
   "source": [
    "And ufunc operations are not limited to one-dimensional arrays—they can act on\n",
    "multidimensional arrays as well:"
   ]
  },
  {
   "cell_type": "code",
   "execution_count": 208,
   "metadata": {
    "_uuid": "12921843d9b05bca432ad7fa99b51b9248dd9804"
   },
   "outputs": [
    {
     "data": {
      "text/plain": [
       "array([[0, 1, 2],\n",
       "       [3, 4, 5],\n",
       "       [6, 7, 8]])"
      ]
     },
     "execution_count": 208,
     "metadata": {},
     "output_type": "execute_result"
    }
   ],
   "source": [
    "x=np.arange(9).reshape((3,3))\n",
    "x"
   ]
  },
  {
   "cell_type": "code",
   "execution_count": 209,
   "metadata": {
    "_uuid": "d11d9d04f60648211063d637d08f9d0d4032cae0"
   },
   "outputs": [
    {
     "data": {
      "text/plain": [
       "array([[  1,   2,   4],\n",
       "       [  8,  16,  32],\n",
       "       [ 64, 128, 256]], dtype=int32)"
      ]
     },
     "execution_count": 209,
     "metadata": {},
     "output_type": "execute_result"
    }
   ],
   "source": [
    "#each element replaced by 2^that element\n",
    "2**x"
   ]
  },
  {
   "cell_type": "code",
   "execution_count": 210,
   "metadata": {
    "_uuid": "b5937287f53b01990ba4a3ff52d0a1b10c18c41b"
   },
   "outputs": [
    {
     "data": {
      "text/plain": [
       "array([[ 0,  1,  4],\n",
       "       [ 9, 16, 25],\n",
       "       [36, 49, 64]], dtype=int32)"
      ]
     },
     "execution_count": 210,
     "metadata": {},
     "output_type": "execute_result"
    }
   ],
   "source": [
    "# each element^2\n",
    "x**2"
   ]
  },
  {
   "cell_type": "markdown",
   "metadata": {
    "_uuid": "60ffefc33013cb96d5eadf5f5ef747bac8a377ff"
   },
   "source": [
    "## exploring numpy's ufuncs "
   ]
  },
  {
   "cell_type": "markdown",
   "metadata": {
    "_uuid": "d8ef5e592c0ba15c8dfdc33b1651827d57593cdb"
   },
   "source": [
    "Ufuncs exist in two flavors: unary ufuncs, which operate on a single input, and binary\n",
    "ufuncs, which operate on two inputs. We’ll see examples of both these types of functions\n",
    "here."
   ]
  },
  {
   "cell_type": "markdown",
   "metadata": {
    "_uuid": "0d6fa9c9d25da47b7609f030cd07703847bb6514"
   },
   "source": [
    "### array arithmetic"
   ]
  },
  {
   "cell_type": "code",
   "execution_count": 211,
   "metadata": {
    "_uuid": "666ec015921aed54220e38edf1c7431da69dedec"
   },
   "outputs": [
    {
     "data": {
      "text/plain": [
       "array([1, 2, 3, 4])"
      ]
     },
     "execution_count": 211,
     "metadata": {},
     "output_type": "execute_result"
    }
   ],
   "source": [
    "x=np.arange(1,5)\n",
    "x"
   ]
  },
  {
   "cell_type": "code",
   "execution_count": 212,
   "metadata": {
    "_uuid": "f56df3479892ce12037ca1e21f82cb5f6a44cead"
   },
   "outputs": [
    {
     "name": "stdout",
     "output_type": "stream",
     "text": [
      "x+5= [6 7 8 9]\n"
     ]
    }
   ],
   "source": [
    "print(\"x+5=\",x+5)"
   ]
  },
  {
   "cell_type": "code",
   "execution_count": 213,
   "metadata": {
    "_uuid": "0ee557e639a5ea293127fde40f390e01e207f37b"
   },
   "outputs": [
    {
     "name": "stdout",
     "output_type": "stream",
     "text": [
      "x-5= [-4 -3 -2 -1]\n"
     ]
    }
   ],
   "source": [
    "print(\"x-5=\",x-5)"
   ]
  },
  {
   "cell_type": "code",
   "execution_count": 214,
   "metadata": {
    "_uuid": "aaf02248150993896843dd7ccc0c323be28dce5f"
   },
   "outputs": [
    {
     "name": "stdout",
     "output_type": "stream",
     "text": [
      "x/2= [0.5 1.  1.5 2. ]\n"
     ]
    }
   ],
   "source": [
    "print(\"x/2=\",x/2)"
   ]
  },
  {
   "cell_type": "code",
   "execution_count": 215,
   "metadata": {
    "_uuid": "df49a0205e33c473772d396259ab583f4d30cdb5"
   },
   "outputs": [
    {
     "name": "stdout",
     "output_type": "stream",
     "text": [
      "x*2= [2 4 6 8]\n"
     ]
    }
   ],
   "source": [
    "print(\"x*2=\",x*2)"
   ]
  },
  {
   "cell_type": "code",
   "execution_count": 218,
   "metadata": {
    "_uuid": "7a8bc7055fa8c9e7dad1d31304c6b65488a30ce9"
   },
   "outputs": [
    {
     "name": "stdout",
     "output_type": "stream",
     "text": [
      "x//2= [0 1 1 2]\n"
     ]
    }
   ],
   "source": [
    "# floor-divide\n",
    "print(\"x//2=\",x//2)"
   ]
  },
  {
   "cell_type": "code",
   "execution_count": 219,
   "metadata": {
    "_uuid": "25de31daf58289e35f9aa858da855f53e5e75f1e"
   },
   "outputs": [
    {
     "name": "stdout",
     "output_type": "stream",
     "text": [
      "[ 1  4  9 16]\n",
      "[1 0 1 0]\n"
     ]
    }
   ],
   "source": [
    "# ** for exponent\n",
    "# % for modulus\n",
    "print(x**2)\n",
    "print(x%2)"
   ]
  },
  {
   "cell_type": "code",
   "execution_count": 220,
   "metadata": {
    "_uuid": "beafe3f7f0c80e134165e8973068faae1338a91c"
   },
   "outputs": [
    {
     "data": {
      "text/plain": [
       "array([-2.25, -4.  , -6.25, -9.  ])"
      ]
     },
     "execution_count": 220,
     "metadata": {},
     "output_type": "execute_result"
    }
   ],
   "source": [
    "# In addition, these can be strung together however you wish, and the standard order\n",
    "# of operations is respected:\n",
    "-(.5*x+1)**2"
   ]
  },
  {
   "cell_type": "code",
   "execution_count": 221,
   "metadata": {
    "_uuid": "626f8db2eeb1a5f225004e3ae61ffec551298af1"
   },
   "outputs": [
    {
     "name": "stdout",
     "output_type": "stream",
     "text": [
      "[1 2 3 4]\n",
      "[3 4 5 6]\n",
      "[-1  0  1  2]\n",
      "[-1 -2 -3 -4]\n",
      "[2 4 6 8]\n",
      "[0.5 1.  1.5 2. ]\n",
      "[0 1 1 2]\n",
      "[ 1  4  9 16]\n",
      "[1 0 1 0]\n"
     ]
    }
   ],
   "source": [
    "# arithmetic operations implemented in numpy\n",
    "print(x)\n",
    "print(np.add(x,2)) # x+2\n",
    "print(np.subtract(x,2)) #x-2\n",
    "print(np.negative(x)) #-x\n",
    "print(np.multiply(x,2)) #x*2\n",
    "print(np.divide(x,2)) #x/2\n",
    "print(np.floor_divide(x,2)) #x//2\n",
    "print(np.power(x,2)) #x^2\n",
    "print(np.mod(x,2)) #x%2\n",
    "# we will also see boolean and bitwise operations later"
   ]
  },
  {
   "cell_type": "code",
   "execution_count": 222,
   "metadata": {
    "_uuid": "588f6ea2725f1a3f0a9e00ce38f40d64a7d3d084"
   },
   "outputs": [
    {
     "name": "stdout",
     "output_type": "stream",
     "text": [
      "[1 2 3 4]\n",
      "[1 2 3 4]\n",
      "[1 2 3 4]\n"
     ]
    }
   ],
   "source": [
    "# inbuilt absolute function\n",
    "y=np.array([-1,-2,-3,-4])\n",
    "print(abs(y))\n",
    "print(np.absolute(y))\n",
    "print(np.abs(y))"
   ]
  },
  {
   "cell_type": "markdown",
   "metadata": {
    "_uuid": "35e26461028ae7d824cb2dce0c39a64da555a93f"
   },
   "source": [
    "### trigonometric functions"
   ]
  },
  {
   "cell_type": "code",
   "execution_count": 223,
   "metadata": {
    "_uuid": "390de7b5c615c63f85755cfb0ad0a7f4fca77d57"
   },
   "outputs": [
    {
     "data": {
      "text/plain": [
       "array([0.        , 1.57079633, 3.14159265])"
      ]
     },
     "execution_count": 223,
     "metadata": {},
     "output_type": "execute_result"
    }
   ],
   "source": [
    "theta=np.linspace(0,np.pi,3)\n",
    "theta"
   ]
  },
  {
   "cell_type": "code",
   "execution_count": 224,
   "metadata": {
    "_uuid": "a64cd925c4219a4c5d662342d4b24197d4653e3e"
   },
   "outputs": [
    {
     "data": {
      "text/plain": [
       "array([0.0000000e+00, 1.0000000e+00, 1.2246468e-16])"
      ]
     },
     "execution_count": 224,
     "metadata": {},
     "output_type": "execute_result"
    }
   ],
   "source": [
    "x=np.sin(theta)\n",
    "x"
   ]
  },
  {
   "cell_type": "code",
   "execution_count": 225,
   "metadata": {
    "_uuid": "da20ba1fed534889de6ec89c0efa349f4443d50f"
   },
   "outputs": [
    {
     "data": {
      "text/plain": [
       "array([ 1.000000e+00,  6.123234e-17, -1.000000e+00])"
      ]
     },
     "execution_count": 225,
     "metadata": {},
     "output_type": "execute_result"
    }
   ],
   "source": [
    "np.cos(theta)"
   ]
  },
  {
   "cell_type": "code",
   "execution_count": 226,
   "metadata": {
    "_uuid": "32f981ce7cc85c1073cd47beee758b30ac49a021"
   },
   "outputs": [
    {
     "data": {
      "text/plain": [
       "array([ 0.00000000e+00,  1.63312394e+16, -1.22464680e-16])"
      ]
     },
     "execution_count": 226,
     "metadata": {},
     "output_type": "execute_result"
    }
   ],
   "source": [
    "np.tan(theta)"
   ]
  },
  {
   "cell_type": "code",
   "execution_count": 227,
   "metadata": {
    "_uuid": "1b7fc28556be506a48e7ed85c2bff9a01b76afbb"
   },
   "outputs": [
    {
     "data": {
      "text/plain": [
       "array([0.00000000e+00, 1.57079633e+00, 1.22464680e-16])"
      ]
     },
     "execution_count": 227,
     "metadata": {},
     "output_type": "execute_result"
    }
   ],
   "source": [
    "#The values are computed to within machine precision, which is why values that\n",
    "#should be zero do not always hit exactly zero. Inverse trigonometric functions are also\n",
    "#available:\n",
    "\n",
    "np.arcsin(x)"
   ]
  },
  {
   "cell_type": "code",
   "execution_count": 228,
   "metadata": {
    "_uuid": "97c85bd9e5064526e5e3aafedba65ebaecb0ee80"
   },
   "outputs": [
    {
     "data": {
      "text/plain": [
       "array([1.        , 2.71828183, 1.        ])"
      ]
     },
     "execution_count": 228,
     "metadata": {},
     "output_type": "execute_result"
    }
   ],
   "source": [
    "# exponential  \n",
    "np.exp(x) #e^x"
   ]
  },
  {
   "cell_type": "code",
   "execution_count": 229,
   "metadata": {
    "_uuid": "a3fcd99ddcf17826c1138ad93c8837c28147cd20"
   },
   "outputs": [
    {
     "data": {
      "text/plain": [
       "array([2., 1., 4.])"
      ]
     },
     "execution_count": 229,
     "metadata": {},
     "output_type": "execute_result"
    }
   ],
   "source": [
    "x=np.array([1,0,2]) #2^x\n",
    "np.exp2(x)"
   ]
  },
  {
   "cell_type": "code",
   "execution_count": 230,
   "metadata": {
    "_uuid": "c847886ecfce998aaf4469a4aad8e2099521215f"
   },
   "outputs": [
    {
     "data": {
      "text/plain": [
       "array([3, 1, 9], dtype=int32)"
      ]
     },
     "execution_count": 230,
     "metadata": {},
     "output_type": "execute_result"
    }
   ],
   "source": [
    "np.power(3,x)\n",
    "#3^x"
   ]
  },
  {
   "cell_type": "code",
   "execution_count": 231,
   "metadata": {
    "_uuid": "9d8de3859b0ec7ddb464652793cc7001be6f630e"
   },
   "outputs": [
    {
     "data": {
      "text/plain": [
       "array([0.        , 0.69314718, 1.09861229, 1.38629436])"
      ]
     },
     "execution_count": 231,
     "metadata": {},
     "output_type": "execute_result"
    }
   ],
   "source": [
    "# log functions\n",
    "x=np.array([1,2,3,4])\n",
    "np.log(x) #ln(x)"
   ]
  },
  {
   "cell_type": "code",
   "execution_count": 232,
   "metadata": {
    "_uuid": "5dbe4c7a56d920802293e481a4720f7676346dd3"
   },
   "outputs": [
    {
     "data": {
      "text/plain": [
       "array([0.       , 1.       , 1.5849625, 2.       ])"
      ]
     },
     "execution_count": 232,
     "metadata": {},
     "output_type": "execute_result"
    }
   ],
   "source": [
    "np.log2(x) #log2(x)"
   ]
  },
  {
   "cell_type": "code",
   "execution_count": 233,
   "metadata": {
    "_uuid": "01131ccbf0537e2d98e2fc89741456f81918752f"
   },
   "outputs": [
    {
     "data": {
      "text/plain": [
       "array([0.        , 0.30103   , 0.47712125, 0.60205999])"
      ]
     },
     "execution_count": 233,
     "metadata": {},
     "output_type": "execute_result"
    }
   ],
   "source": [
    "np.log10(x) #log10(x)"
   ]
  },
  {
   "cell_type": "code",
   "execution_count": 234,
   "metadata": {
    "_uuid": "60d3cb0676d69de826165dd7171d0c07e98480c2"
   },
   "outputs": [],
   "source": [
    "# when x is very small ,use this function istead of above discussed..these are expm1 and log1p as they give more accurate result for smaller value\n",
    "x=np.array([0,0.1,0.01,0.001])"
   ]
  },
  {
   "cell_type": "code",
   "execution_count": 235,
   "metadata": {
    "_uuid": "0129cd95f6cd88e04f987d5b98703917c7c715b6"
   },
   "outputs": [
    {
     "data": {
      "text/plain": [
       "array([0.        , 0.10517092, 0.01005017, 0.0010005 ])"
      ]
     },
     "execution_count": 235,
     "metadata": {},
     "output_type": "execute_result"
    }
   ],
   "source": [
    "np.expm1(x) #exp(x)-1"
   ]
  },
  {
   "cell_type": "code",
   "execution_count": 236,
   "metadata": {
    "_uuid": "2e577cd22ee81bde6a68085b5e6ce4ace13250b4"
   },
   "outputs": [
    {
     "data": {
      "text/plain": [
       "array([0.        , 0.09531018, 0.00995033, 0.0009995 ])"
      ]
     },
     "execution_count": 236,
     "metadata": {},
     "output_type": "execute_result"
    }
   ],
   "source": [
    "np.log1p(x) # log(1+x)"
   ]
  },
  {
   "cell_type": "markdown",
   "metadata": {
    "_uuid": "85f03cfe698e574cd83237d551ca27ac8cf51f4a"
   },
   "source": [
    "# advanced ufuncs features"
   ]
  },
  {
   "cell_type": "markdown",
   "metadata": {
    "_uuid": "18c3829d6ce218e88293b2e4a4ead6315e2f6be6"
   },
   "source": [
    "### specifying output"
   ]
  },
  {
   "cell_type": "markdown",
   "metadata": {
    "_uuid": "7ea334772b3d59eb2ed7e112575c71426301c9bb"
   },
   "source": [
    "For large calculations, it is sometimes useful to be able to specify the array where the\n",
    "result of the calculation will be stored. Rather than creating a temporary array, you\n",
    "can use this to write computation results directly to the memory location where you’d\n",
    "like them to be. For all ufuncs, you can do this using the out argument of the\n",
    "function:"
   ]
  },
  {
   "cell_type": "code",
   "execution_count": 237,
   "metadata": {
    "_uuid": "4302e450de4a198742e7bff04820d04b90970731"
   },
   "outputs": [
    {
     "name": "stdout",
     "output_type": "stream",
     "text": [
      "value in x = [0 1 2 3 4]\n",
      "value of y = [0 2 4 6 8]\n"
     ]
    }
   ],
   "source": [
    "x=np.arange(5)\n",
    "print(\"value in x =\",x)\n",
    "y=np.empty(5,dtype=int)\n",
    "np.multiply(x,2,out=y)\n",
    "print(\"value of y =\",y)"
   ]
  },
  {
   "cell_type": "code",
   "execution_count": 238,
   "metadata": {
    "_uuid": "bc21fe9f8bd895b5858db67269c0c37119a587cb"
   },
   "outputs": [
    {
     "name": "stdout",
     "output_type": "stream",
     "text": [
      "[ 1.  0.  2.  0.  4.  0.  8.  0. 16.  0.]\n"
     ]
    }
   ],
   "source": [
    "#This can even be used with array views. For example, we can write the results of a\n",
    "#computation to every other element of a specified array:\n",
    "\n",
    "y=np.zeros(10)\n",
    "np.power(2,x,out=y[::2])\n",
    "print(y)"
   ]
  },
  {
   "cell_type": "markdown",
   "metadata": {
    "_uuid": "d60859dcc2583a5d3f0c567e3b2a615492d9ce47"
   },
   "source": [
    "### aggregates"
   ]
  },
  {
   "cell_type": "markdown",
   "metadata": {
    "_uuid": "9ddd0c5b3b639b4254cff4e4b47c58aa31f416d1"
   },
   "source": [
    "For binary ufuncs, there are some interesting aggregates that can be computed\n",
    "directly from the object. For example, if we’d like to reduce an array with a particular\n",
    "operation, we can use the reduce method of any ufunc. A reduce repeatedly applies a\n",
    "given operation to the elements of an array until only a single result remains.\n",
    "\n",
    "\n",
    "For example, calling reduce on the add ufunc returns the sum of all elements in the\n",
    "array:"
   ]
  },
  {
   "cell_type": "code",
   "execution_count": 239,
   "metadata": {
    "_uuid": "57c5789aabc061ab410a88c130d8ee5dfabe187f"
   },
   "outputs": [
    {
     "name": "stdout",
     "output_type": "stream",
     "text": [
      "[1 2 3 4 5]\n"
     ]
    },
    {
     "data": {
      "text/plain": [
       "15"
      ]
     },
     "execution_count": 239,
     "metadata": {},
     "output_type": "execute_result"
    }
   ],
   "source": [
    "x=np.arange(1,6)\n",
    "print(x)\n",
    "np.add.reduce(x)"
   ]
  },
  {
   "cell_type": "code",
   "execution_count": 240,
   "metadata": {
    "_uuid": "8d789e32bde577b98bfc1d58c24efbf70ba44ce0"
   },
   "outputs": [
    {
     "data": {
      "text/plain": [
       "120"
      ]
     },
     "execution_count": 240,
     "metadata": {},
     "output_type": "execute_result"
    }
   ],
   "source": [
    "np.multiply.reduce(x)"
   ]
  },
  {
   "cell_type": "code",
   "execution_count": 241,
   "metadata": {
    "_uuid": "1b2e042dddae64aab23a27953f62bc1aa496d438"
   },
   "outputs": [
    {
     "data": {
      "text/plain": [
       "array([ 1,  3,  6, 10, 15], dtype=int32)"
      ]
     },
     "execution_count": 241,
     "metadata": {},
     "output_type": "execute_result"
    }
   ],
   "source": [
    "# if we like to store all the intermediate values , we can use accumulate\n",
    "np.add.accumulate(x)"
   ]
  },
  {
   "cell_type": "code",
   "execution_count": 242,
   "metadata": {
    "_uuid": "25f20662f2d797b3562d5a8a37b44f1a63334236"
   },
   "outputs": [
    {
     "data": {
      "text/plain": [
       "array([  1,   2,   6,  24, 120], dtype=int32)"
      ]
     },
     "execution_count": 242,
     "metadata": {},
     "output_type": "execute_result"
    }
   ],
   "source": [
    "np.multiply.accumulate(x)"
   ]
  },
  {
   "cell_type": "markdown",
   "metadata": {
    "_uuid": "b169b6d1725ebbcf51bac95b7bd23e735a8300fd"
   },
   "source": [
    "### outer product"
   ]
  },
  {
   "cell_type": "markdown",
   "metadata": {
    "_uuid": "815e0f4f3092a8d26b352715646e636135243103"
   },
   "source": [
    "Finally, any ufunc can compute the output of all pairs of two different inputs using\n",
    "the outer method. This allows you, in one line, to do things like create a multiplication\n",
    "table:"
   ]
  },
  {
   "cell_type": "code",
   "execution_count": 243,
   "metadata": {
    "_uuid": "5fe391725e8882477a4c0623ef87be87053e85e7"
   },
   "outputs": [
    {
     "data": {
      "text/plain": [
       "array([[ 1,  2,  3,  4,  5],\n",
       "       [ 2,  4,  6,  8, 10],\n",
       "       [ 3,  6,  9, 12, 15],\n",
       "       [ 4,  8, 12, 16, 20],\n",
       "       [ 5, 10, 15, 20, 25]])"
      ]
     },
     "execution_count": 243,
     "metadata": {},
     "output_type": "execute_result"
    }
   ],
   "source": [
    "x=np.arange(1,6)\n",
    "np.multiply.outer(x,x)"
   ]
  },
  {
   "cell_type": "code",
   "execution_count": 244,
   "metadata": {
    "_uuid": "1be4c6b559862e1d2b7c747a9e693b29d6b7d386"
   },
   "outputs": [
    {
     "data": {
      "text/plain": [
       "array([[ 2,  3,  4,  5,  6],\n",
       "       [ 3,  4,  5,  6,  7],\n",
       "       [ 4,  5,  6,  7,  8],\n",
       "       [ 5,  6,  7,  8,  9],\n",
       "       [ 6,  7,  8,  9, 10]])"
      ]
     },
     "execution_count": 244,
     "metadata": {},
     "output_type": "execute_result"
    }
   ],
   "source": [
    "np.add.outer(x,x)"
   ]
  },
  {
   "cell_type": "markdown",
   "metadata": {
    "_uuid": "177c07762cab2058c7b358d376ad713e78436483"
   },
   "source": [
    "## aggregations: min, max and everything in between"
   ]
  },
  {
   "cell_type": "markdown",
   "metadata": {
    "_uuid": "a191799e2d5c8f39ff13450fc1774a20fd8ff6a9"
   },
   "source": [
    "Often when you are faced with a large amount of data, a first step is to compute summary\n",
    "statistics for the data in question. Perhaps the most common summary statistics\n",
    "are the mean and standard deviation, which allow you to summarize the “typical” values\n",
    "in a dataset, but other aggregates are useful as well (the sum, product, median,\n",
    "minimum and maximum, quantiles, etc.).\n",
    "\n",
    "NumPy has fast built-in aggregation functions for working on arrays; we’ll discuss\n",
    "and demonstrate some of them here."
   ]
  },
  {
   "cell_type": "markdown",
   "metadata": {
    "_uuid": "ad3cd54728dfa42252d00dfe8ee9e5f8abb1d7e1"
   },
   "source": [
    "### summing values in array"
   ]
  },
  {
   "cell_type": "code",
   "execution_count": 245,
   "metadata": {
    "_uuid": "2865d067c5b0d7ff63761287a0e07525eef262b7"
   },
   "outputs": [
    {
     "data": {
      "text/plain": [
       "496103"
      ]
     },
     "execution_count": 245,
     "metadata": {},
     "output_type": "execute_result"
    }
   ],
   "source": [
    "#As a quick example, consider computing the sum of all values in an array. Python\n",
    "#itself can do this using the built-in sum function:\n",
    "x=np.random.randint(1,100,size=10000)\n",
    "sum(x)"
   ]
  },
  {
   "cell_type": "code",
   "execution_count": 246,
   "metadata": {
    "_uuid": "d0c1ff6328c7f65b6c3ae09f345db6c3a55ba1d1"
   },
   "outputs": [
    {
     "data": {
      "text/plain": [
       "496103"
      ]
     },
     "execution_count": 246,
     "metadata": {},
     "output_type": "execute_result"
    }
   ],
   "source": [
    "# numpy sum function\n",
    "np.sum(x)"
   ]
  },
  {
   "cell_type": "code",
   "execution_count": 249,
   "metadata": {
    "_uuid": "887dba1e3a4a9a024f3bfd18427ad186ccd35c1b"
   },
   "outputs": [
    {
     "name": "stdout",
     "output_type": "stream",
     "text": [
      "583 µs ± 18.2 µs per loop (mean ± std. dev. of 7 runs, 1000 loops each)\n"
     ]
    }
   ],
   "source": [
    "# However, because it executes the operation in compiled code, NumPy’s version of the\n",
    "#operation is computed much more quickly:\n",
    "%timeit sum(x)"
   ]
  },
  {
   "cell_type": "code",
   "execution_count": 250,
   "metadata": {
    "_uuid": "aa91c4f544c842b7517f80aa0f0c900d6397753f"
   },
   "outputs": [
    {
     "name": "stdout",
     "output_type": "stream",
     "text": [
      "6.85 µs ± 57.4 ns per loop (mean ± std. dev. of 7 runs, 100000 loops each)\n"
     ]
    }
   ],
   "source": [
    "%timeit np.sum(x)"
   ]
  },
  {
   "cell_type": "markdown",
   "metadata": {
    "_uuid": "bf19b9ea2422a6f53cbdbaf553e96b0ef54fb365"
   },
   "source": [
    "Be careful, though: the sum function and the np.sum function are not identical, which\n",
    "can sometimes lead to confusion! In particular, their optional arguments have different\n",
    "meanings, and np.sum is aware of multiple array dimensions, as we will see in the\n",
    "following section."
   ]
  },
  {
   "cell_type": "markdown",
   "metadata": {
    "_uuid": "0dbd2c2cfe6f84614f8cc187ab638b634a6f2574"
   },
   "source": [
    "### minimum and maximum"
   ]
  },
  {
   "cell_type": "markdown",
   "metadata": {
    "_uuid": "650a7f000a39ed327b8a06d63c1837010689527b"
   },
   "source": [
    "Similarly, Python has built-in min and max functions, used to find the minimum value\n",
    "and maximum value of any given array:"
   ]
  },
  {
   "cell_type": "code",
   "execution_count": 252,
   "metadata": {
    "_uuid": "efefe9f2e3adc9295df9a344f636c80468a4e062"
   },
   "outputs": [
    {
     "data": {
      "text/plain": [
       "array([   50,    51,    52, ..., 99997, 99998, 99999])"
      ]
     },
     "execution_count": 252,
     "metadata": {},
     "output_type": "execute_result"
    }
   ],
   "source": [
    "x=np.arange(50,100000)\n",
    "x"
   ]
  },
  {
   "cell_type": "code",
   "execution_count": 253,
   "metadata": {
    "_uuid": "382b97d0c6affd899e7340e4851b8c98d3da16f0"
   },
   "outputs": [
    {
     "name": "stdout",
     "output_type": "stream",
     "text": [
      "50\n"
     ]
    },
    {
     "data": {
      "text/plain": [
       "50"
      ]
     },
     "execution_count": 253,
     "metadata": {},
     "output_type": "execute_result"
    }
   ],
   "source": [
    "# python inbuilt min and numpy min ,again where numpy implementation is much fatser\n",
    "print(min(x))\n",
    "np.min(x)"
   ]
  },
  {
   "cell_type": "code",
   "execution_count": 254,
   "metadata": {
    "_uuid": "f20f4af4f57dd1d37b5ae7a9fbdba40924e20e83"
   },
   "outputs": [
    {
     "name": "stdout",
     "output_type": "stream",
     "text": [
      "99999\n"
     ]
    },
    {
     "data": {
      "text/plain": [
       "99999"
      ]
     },
     "execution_count": 254,
     "metadata": {},
     "output_type": "execute_result"
    }
   ],
   "source": [
    "print(max(x))\n",
    "np.max(x)"
   ]
  },
  {
   "cell_type": "code",
   "execution_count": 255,
   "metadata": {
    "_uuid": "c577b6e0ff609e511c670e8d55c93d7d4ab67441"
   },
   "outputs": [
    {
     "name": "stdout",
     "output_type": "stream",
     "text": [
      "4.23 ms ± 107 µs per loop (mean ± std. dev. of 7 runs, 100 loops each)\n"
     ]
    }
   ],
   "source": [
    "%timeit min(x)"
   ]
  },
  {
   "cell_type": "code",
   "execution_count": 256,
   "metadata": {
    "_uuid": "f74ab22d401dec70e83dbf4dda40bf5a1be06f5e"
   },
   "outputs": [
    {
     "name": "stdout",
     "output_type": "stream",
     "text": [
      "54.2 µs ± 322 ns per loop (mean ± std. dev. of 7 runs, 10000 loops each)\n"
     ]
    }
   ],
   "source": [
    "%timeit np.min(x)"
   ]
  },
  {
   "cell_type": "code",
   "execution_count": 257,
   "metadata": {
    "_uuid": "8091ceadca634f953358eca0515708b1f18296e9"
   },
   "outputs": [
    {
     "data": {
      "text/plain": [
       "(50, 99999)"
      ]
     },
     "execution_count": 257,
     "metadata": {},
     "output_type": "execute_result"
    }
   ],
   "source": [
    "# we can also use methods of array objects\n",
    "x.min(),x.max()"
   ]
  },
  {
   "cell_type": "markdown",
   "metadata": {
    "_uuid": "7b9e7b01a1359f61bff6d93827d4527b4a510670"
   },
   "source": [
    "Whenever possible, make sure that you are using the NumPy version of these aggregates\n",
    "when operating on NumPy arrays!"
   ]
  },
  {
   "cell_type": "markdown",
   "metadata": {
    "_uuid": "33a07c3d9fef725b6a36b4fdc9f0de87ec194723"
   },
   "source": [
    "### multidimensional aggregates"
   ]
  },
  {
   "cell_type": "markdown",
   "metadata": {
    "_uuid": "5763420f0fc0db647f8cc805cfb91713a0d9331f"
   },
   "source": [
    "One common type of aggregation operation is an aggregate along a row or column.\n",
    "Say you have some data stored in a two-dimensional array:"
   ]
  },
  {
   "cell_type": "code",
   "execution_count": 258,
   "metadata": {
    "_uuid": "933d9647d2fb943ed1437f4c061235b61284a9bf"
   },
   "outputs": [
    {
     "data": {
      "text/plain": [
       "array([[0.30946286, 0.48914295, 0.69297402, 0.75867347],\n",
       "       [0.40178098, 0.75560642, 0.72760401, 0.63247417],\n",
       "       [0.14162976, 0.28724399, 0.53387675, 0.81393193]])"
      ]
     },
     "execution_count": 258,
     "metadata": {},
     "output_type": "execute_result"
    }
   ],
   "source": [
    "x=np.random.random((3,4))\n",
    "x"
   ]
  },
  {
   "cell_type": "code",
   "execution_count": 259,
   "metadata": {
    "_uuid": "268665f95e110fc615a3e345ec6f567b30f204be"
   },
   "outputs": [
    {
     "data": {
      "text/plain": [
       "6.544401310812729"
      ]
     },
     "execution_count": 259,
     "metadata": {},
     "output_type": "execute_result"
    }
   ],
   "source": [
    "# by default over entire table\n",
    "x.sum()"
   ]
  },
  {
   "cell_type": "markdown",
   "metadata": {
    "_uuid": "e8c0ef690818113b3189f0f2c55cc61c74fb3557"
   },
   "source": [
    "Aggregation functions take an additional argument specifying the axis along which\n",
    "the aggregate is computed. For example, we can find the minimum value within each\n",
    "column by specifying axis=0:"
   ]
  },
  {
   "cell_type": "code",
   "execution_count": 260,
   "metadata": {
    "_uuid": "cc76bcb0760d7b9e0326308332d7634219d8de37"
   },
   "outputs": [
    {
     "data": {
      "text/plain": [
       "array([0.8528736 , 1.53199336, 1.95445478, 2.20507957])"
      ]
     },
     "execution_count": 260,
     "metadata": {},
     "output_type": "execute_result"
    }
   ],
   "source": [
    "# The function returns four values, corresponding to the four columns of numbers.\n",
    "x.sum(axis=0)"
   ]
  },
  {
   "cell_type": "code",
   "execution_count": 261,
   "metadata": {
    "_uuid": "ddf42d8e3483913c819efed0d720af5ca91f2a37"
   },
   "outputs": [
    {
     "data": {
      "text/plain": [
       "array([2.25025329, 2.51746558, 1.77668244])"
      ]
     },
     "execution_count": 261,
     "metadata": {},
     "output_type": "execute_result"
    }
   ],
   "source": [
    "x.sum(axis=1)"
   ]
  },
  {
   "cell_type": "code",
   "execution_count": 263,
   "metadata": {
    "_uuid": "022cd10bd5e4967ab6e0a6190ac924c57d523545"
   },
   "outputs": [
    {
     "data": {
      "text/plain": [
       "array([0.75867347, 0.75560642, 0.81393193])"
      ]
     },
     "execution_count": 263,
     "metadata": {},
     "output_type": "execute_result"
    }
   ],
   "source": [
    "# to find max value within each row\n",
    "x.max(axis=1)"
   ]
  },
  {
   "cell_type": "markdown",
   "metadata": {
    "_uuid": "ff24899dd811a72824e17d86b33821411e98310d"
   },
   "source": [
    "The way the axis is specified here can be confusing to users coming from other languages.\n",
    "The axis keyword specifies the dimension of the array that will be collapsed,\n",
    "rather than the dimension that will be returned. So specifying axis=0 means that the\n",
    "first axis will be collapsed: for two-dimensional arrays, this means that values within\n",
    "each column will be aggregated."
   ]
  },
  {
   "cell_type": "markdown",
   "metadata": {
    "_uuid": "6148feb3ee470a945e0a9618389ea603ba934229"
   },
   "source": [
    "### other aggregate functions"
   ]
  },
  {
   "cell_type": "markdown",
   "metadata": {
    "_uuid": "dff9f33c9aae79aab9abd5ce032436437330be9c"
   },
   "source": [
    "NumPy provides many other aggregation functions, but we won’t discuss them in\n",
    "detail here. Additionally, most aggregates have a NaN-safe counterpart that computes\n",
    "the result while ignoring missing values, which are marked by the special IEEE\n",
    "floating-point NaN value\n",
    "Some of these NaN-safe functions were not added until\n",
    "NumPy 1.8, so they will not be available in older NumPy versions."
   ]
  },
  {
   "cell_type": "code",
   "execution_count": 264,
   "metadata": {
    "_uuid": "61ba461317bdb74494c4431b592a87449faca903"
   },
   "outputs": [
    {
     "data": {
      "text/plain": [
       "6.544401310812729"
      ]
     },
     "execution_count": 264,
     "metadata": {},
     "output_type": "execute_result"
    }
   ],
   "source": [
    "np.sum(x)"
   ]
  },
  {
   "cell_type": "code",
   "execution_count": 265,
   "metadata": {
    "_uuid": "8c18e30726151e2d87f69d6bcf574f011a90b928"
   },
   "outputs": [
    {
     "data": {
      "text/plain": [
       "6.544401310812729"
      ]
     },
     "execution_count": 265,
     "metadata": {},
     "output_type": "execute_result"
    }
   ],
   "source": [
    "# nan support sum aggregate\n",
    "np.nansum(x)"
   ]
  },
  {
   "cell_type": "markdown",
   "metadata": {
    "_uuid": "c62279c4353ca2259361e303e3525f5597521cd6"
   },
   "source": [
    "np.sum np.nansum Compute sum of elements\n",
    "\n",
    "np.prod np.nanprod Compute product of elements\n",
    "\n",
    "np.mean np.nanmean Compute median of elements\n",
    "\n",
    "np.std np.nanstd Compute standard deviation\n",
    "\n",
    "np.var np.nanvar Compute variance\n",
    "\n",
    "np.min np.nanmin Find minimum value\n",
    "\n",
    "np.max np.nanmax Find maximum value\n",
    "\n",
    "np.argmin np.nanargmin Find index of minimum value\n",
    "\n",
    "np.argmax np.nanargmax Find index of maximum value\n",
    "\n",
    "np.median np.nanmedian Compute median of elements\n",
    "\n",
    "np.percentile np.nanpercentile Compute rank-based statistics of elements\n",
    "\n",
    "np.any N/A Evaluate whether any elements are true\n",
    "\n",
    "np.all N/A Evaluate whether all elements are true"
   ]
  },
  {
   "cell_type": "markdown",
   "metadata": {
    "_uuid": "4bc59fbfdd07fc4688f28d63aa9e47a5587205d1"
   },
   "source": [
    "## computation on arrays : broadcasting"
   ]
  },
  {
   "cell_type": "markdown",
   "metadata": {
    "_uuid": "683e60887a74a3ce2fc6b3c8f4fa80cf8c4e2c59"
   },
   "source": [
    "We saw in the previous section how NumPy’s universal functions can be used to vectorize\n",
    "operations and thereby remove slow Python loops. Another means of vectorizing\n",
    "operations is to use NumPy’s broadcasting functionality. Broadcasting is simply a\n",
    "set of rules for applying binary ufuncs (addition, subtraction, multiplication, etc.) on\n",
    "arrays of different sizes."
   ]
  },
  {
   "cell_type": "markdown",
   "metadata": {
    "_uuid": "87df4ab7424d9a8ea3aa07facf9883c21e440539"
   },
   "source": [
    "### introducing broadcasting"
   ]
  },
  {
   "cell_type": "code",
   "execution_count": 266,
   "metadata": {
    "_uuid": "d239894295293de8a48a21b17534016481cecdfc"
   },
   "outputs": [],
   "source": [
    "x=np.array([1,2,3,4])\n",
    "y=np.array([5,6,7,8])"
   ]
  },
  {
   "cell_type": "code",
   "execution_count": 267,
   "metadata": {
    "_uuid": "25597ff71c3b55a3a6404d58e1e8e27c6697e202"
   },
   "outputs": [
    {
     "data": {
      "text/plain": [
       "array([ 6,  8, 10, 12])"
      ]
     },
     "execution_count": 267,
     "metadata": {},
     "output_type": "execute_result"
    }
   ],
   "source": [
    "x+y"
   ]
  },
  {
   "cell_type": "markdown",
   "metadata": {
    "_uuid": "26d8a2e8c1a25db06707821a1d92d4f1f16f6718"
   },
   "source": [
    "Broadcasting allows these types of binary operations to be performed on arrays of different\n",
    "sizes—for example, we can just as easily add a scalar (think of it as a zerodimensional\n",
    "array) to an array:"
   ]
  },
  {
   "cell_type": "code",
   "execution_count": 268,
   "metadata": {
    "_uuid": "daf367521f5806873c929860bd12dab82f3ed775"
   },
   "outputs": [
    {
     "data": {
      "text/plain": [
       "array([6, 7, 8, 9])"
      ]
     },
     "execution_count": 268,
     "metadata": {},
     "output_type": "execute_result"
    }
   ],
   "source": [
    "x+5"
   ]
  },
  {
   "cell_type": "markdown",
   "metadata": {
    "_uuid": "e14d11e8aa65113d04e6750129b4774c18f0bd86"
   },
   "source": [
    "We can think of this as an operation that stretches or duplicates the value 5 into the\n",
    "array [5, 5, 5, 5], and adds the results. The advantage of NumPy’s broadcasting is that\n",
    "this duplication of values does not actually take place, but it is a useful mental model\n",
    "as we think about broadcasting."
   ]
  },
  {
   "cell_type": "markdown",
   "metadata": {
    "_uuid": "9817a07fe4bfbb2de0c87d098c8240eac6182b90"
   },
   "source": [
    "We can similarly extend this to arrays of higher dimension. Observe the result when\n",
    "we add a one-dimensional array to a two-dimensional array:"
   ]
  },
  {
   "cell_type": "code",
   "execution_count": 269,
   "metadata": {
    "_uuid": "eb6a691bd1627c337d4057983cefb1fc7509afd6"
   },
   "outputs": [],
   "source": [
    "arr=np.arange(9).reshape((3,3))"
   ]
  },
  {
   "cell_type": "code",
   "execution_count": 270,
   "metadata": {
    "_uuid": "c5113c552bd5813b60df708b5fc5eacef931af28"
   },
   "outputs": [
    {
     "data": {
      "text/plain": [
       "array([[0, 1, 2],\n",
       "       [3, 4, 5],\n",
       "       [6, 7, 8]])"
      ]
     },
     "execution_count": 270,
     "metadata": {},
     "output_type": "execute_result"
    }
   ],
   "source": [
    "arr"
   ]
  },
  {
   "cell_type": "code",
   "execution_count": 271,
   "metadata": {
    "_uuid": "dba522c2e02c638c0551aacabca9ba0b421e6ac4"
   },
   "outputs": [
    {
     "data": {
      "text/plain": [
       "array([[ 1,  3,  5],\n",
       "       [ 4,  6,  8],\n",
       "       [ 7,  9, 11]])"
      ]
     },
     "execution_count": 271,
     "metadata": {},
     "output_type": "execute_result"
    }
   ],
   "source": [
    "z=[1,2,3]\n",
    "arr+z"
   ]
  },
  {
   "cell_type": "markdown",
   "metadata": {
    "_uuid": "ffce5a1715f50ec72f8b6e4e9d10322a63a7d41b"
   },
   "source": [
    "Here the one-dimensional array a is stretched, or broadcast, across the second\n",
    "dimension in order to match the shape of M."
   ]
  },
  {
   "cell_type": "markdown",
   "metadata": {
    "_uuid": "66c57b89b1126a994317dce7424c553f6d7cdb97"
   },
   "source": [
    "While these examples are relatively easy to understand, more complicated cases can\n",
    "involve broadcasting of both arrays. Consider the following example:"
   ]
  },
  {
   "cell_type": "code",
   "execution_count": 272,
   "metadata": {
    "_uuid": "e42eb58307cefd986d49cead5ddb13960155d98e"
   },
   "outputs": [
    {
     "data": {
      "text/plain": [
       "array([0, 1, 2])"
      ]
     },
     "execution_count": 272,
     "metadata": {},
     "output_type": "execute_result"
    }
   ],
   "source": [
    "a=np.arange(3)\n",
    "a"
   ]
  },
  {
   "cell_type": "code",
   "execution_count": 273,
   "metadata": {
    "_uuid": "f00b8323222bc84a9f8494528c8df9e076722f96"
   },
   "outputs": [
    {
     "data": {
      "text/plain": [
       "array([[0],\n",
       "       [1],\n",
       "       [2]])"
      ]
     },
     "execution_count": 273,
     "metadata": {},
     "output_type": "execute_result"
    }
   ],
   "source": [
    "b=np.arange(3)[:,np.newaxis]\n",
    "b"
   ]
  },
  {
   "cell_type": "code",
   "execution_count": 274,
   "metadata": {
    "_uuid": "f150136c3f32720057c2c3b597ff8c9eafa984f7"
   },
   "outputs": [
    {
     "data": {
      "text/plain": [
       "array([[0, 1, 2],\n",
       "       [1, 2, 3],\n",
       "       [2, 3, 4]])"
      ]
     },
     "execution_count": 274,
     "metadata": {},
     "output_type": "execute_result"
    }
   ],
   "source": [
    "a+b\n"
   ]
  },
  {
   "cell_type": "markdown",
   "metadata": {
    "_uuid": "138a0032855d4c0468f82de8e34587d1551beca6"
   },
   "source": [
    "Rules of Broadcasting\n",
    "Broadcasting in NumPy follows a strict set of rules to determine the interaction\n",
    "between the two arrays:\n",
    "\n",
    "• Rule 1: If the two arrays differ in their number of dimensions, the shape of the\n",
    "one with fewer dimensions is padded with ones on its leading (left) side.\n",
    "\n",
    "• Rule 2: If the shape of the two arrays does not match in any dimension, the array\n",
    "with shape equal to 1 in that dimension is stretched to match the other shape.\n",
    "\n",
    "• Rule 3: If in any dimension the sizes disagree and neither is equal to 1, an error is\n",
    "raised."
   ]
  },
  {
   "cell_type": "code",
   "execution_count": 275,
   "metadata": {
    "_uuid": "2ede0aa3e5f6ac14f45e2860c466928cea61e53d"
   },
   "outputs": [],
   "source": [
    "# example where one array is broadcasted\n",
    "m=np.ones((3,3))"
   ]
  },
  {
   "cell_type": "code",
   "execution_count": 276,
   "metadata": {
    "_uuid": "8c550c1b93f257f688e9c1c0126264ae0e03ac82"
   },
   "outputs": [],
   "source": [
    "a=np.arange(3)\n",
    "# a is broadcasted"
   ]
  },
  {
   "cell_type": "code",
   "execution_count": 277,
   "metadata": {
    "_uuid": "38936e1b8b8b60e9855436eff93a00678af5708b"
   },
   "outputs": [
    {
     "data": {
      "text/plain": [
       "array([[1., 2., 3.],\n",
       "       [1., 2., 3.],\n",
       "       [1., 2., 3.]])"
      ]
     },
     "execution_count": 277,
     "metadata": {},
     "output_type": "execute_result"
    }
   ],
   "source": [
    "m+a"
   ]
  },
  {
   "cell_type": "code",
   "execution_count": 278,
   "metadata": {
    "_uuid": "6c3c990030de579d27cbd3c54b991e1bd7cbf4d2"
   },
   "outputs": [],
   "source": [
    "# example where both arrays are broadcasted"
   ]
  },
  {
   "cell_type": "code",
   "execution_count": 279,
   "metadata": {
    "_uuid": "36228805840599df938bed991e37b8dca0498627"
   },
   "outputs": [],
   "source": [
    "m=np.array([0,1,2])"
   ]
  },
  {
   "cell_type": "code",
   "execution_count": 280,
   "metadata": {
    "_uuid": "b762dd7d851f24a1e23b4ffcff9575eba2c2fd55"
   },
   "outputs": [],
   "source": [
    "n=np.array([0,1,2]).reshape((3,1))"
   ]
  },
  {
   "cell_type": "code",
   "execution_count": 281,
   "metadata": {
    "_uuid": "a98c8868b9315cefabeeb5165b64318d80d6421f"
   },
   "outputs": [
    {
     "data": {
      "text/plain": [
       "array([[0, 1, 2],\n",
       "       [1, 2, 3],\n",
       "       [2, 3, 4]])"
      ]
     },
     "execution_count": 281,
     "metadata": {},
     "output_type": "execute_result"
    }
   ],
   "source": [
    "m+n"
   ]
  },
  {
   "cell_type": "code",
   "execution_count": 282,
   "metadata": {
    "_uuid": "803f5f0bf00dcfd7750d6f2d457eea01d6838d5f"
   },
   "outputs": [],
   "source": [
    "# example where 2 arrays are not compatible"
   ]
  },
  {
   "cell_type": "code",
   "execution_count": 283,
   "metadata": {
    "_uuid": "e08e6a7c0ecfa431eb99984f88d92d7687f0dfc4"
   },
   "outputs": [],
   "source": [
    "m=np.ones((3,2))\n",
    "n=np.arange(3)"
   ]
  },
  {
   "cell_type": "code",
   "execution_count": 284,
   "metadata": {
    "_uuid": "6ec228f1076079757d337faa44c0ee74c2afbdca"
   },
   "outputs": [
    {
     "ename": "ValueError",
     "evalue": "operands could not be broadcast together with shapes (3,2) (3,) ",
     "output_type": "error",
     "traceback": [
      "\u001b[1;31m---------------------------------------------------------------------------\u001b[0m",
      "\u001b[1;31mValueError\u001b[0m                                Traceback (most recent call last)",
      "\u001b[1;32m<ipython-input-284-467c48f0b402>\u001b[0m in \u001b[0;36m<module>\u001b[1;34m\u001b[0m\n\u001b[1;32m----> 1\u001b[1;33m \u001b[0mm\u001b[0m\u001b[1;33m+\u001b[0m\u001b[0mn\u001b[0m\u001b[1;33m\u001b[0m\u001b[1;33m\u001b[0m\u001b[0m\n\u001b[0m",
      "\u001b[1;31mValueError\u001b[0m: operands could not be broadcast together with shapes (3,2) (3,) "
     ]
    }
   ],
   "source": [
    "m+n"
   ]
  },
  {
   "cell_type": "markdown",
   "metadata": {
    "_uuid": "2cb96cd1ebb84ffb255d3f3e1c947375d31557be"
   },
   "source": [
    "We saw that using +, -, *, /,\n",
    "and others on arrays leads to element-wise operations. NumPy also implements comparison\n",
    "operators such as < (less than) and > (greater than) as element-wise ufuncs.\n",
    "The result of these comparison operators is always an array with a Boolean data type.\n",
    "All six of the standard comparison operations are available:"
   ]
  },
  {
   "cell_type": "code",
   "execution_count": 285,
   "metadata": {
    "_uuid": "0c9f2f288e88cdfd4b45b3ee0ba4738766203308"
   },
   "outputs": [
    {
     "data": {
      "text/plain": [
       "array([ True,  True, False, False])"
      ]
     },
     "execution_count": 285,
     "metadata": {},
     "output_type": "execute_result"
    }
   ],
   "source": [
    "x=np.array([1,2,3,4])\n",
    "x<3"
   ]
  },
  {
   "cell_type": "code",
   "execution_count": 286,
   "metadata": {
    "_uuid": "70bf157eda9c0bd593b40f7dabf683ea90100a67"
   },
   "outputs": [
    {
     "data": {
      "text/plain": [
       "array([False, False, False,  True])"
      ]
     },
     "execution_count": 286,
     "metadata": {},
     "output_type": "execute_result"
    }
   ],
   "source": [
    "x>3"
   ]
  },
  {
   "cell_type": "code",
   "execution_count": 287,
   "metadata": {
    "_uuid": "8df05510be2075afa151cf89c69873fb2f9bffa7"
   },
   "outputs": [
    {
     "data": {
      "text/plain": [
       "array([ True,  True,  True, False])"
      ]
     },
     "execution_count": 287,
     "metadata": {},
     "output_type": "execute_result"
    }
   ],
   "source": [
    "x<=3"
   ]
  },
  {
   "cell_type": "code",
   "execution_count": 288,
   "metadata": {
    "_uuid": "140d7387018f0d067a2cd5951ac8350d4100f1b7"
   },
   "outputs": [
    {
     "data": {
      "text/plain": [
       "array([False, False,  True,  True])"
      ]
     },
     "execution_count": 288,
     "metadata": {},
     "output_type": "execute_result"
    }
   ],
   "source": [
    "x>=3"
   ]
  },
  {
   "cell_type": "code",
   "execution_count": 289,
   "metadata": {
    "_uuid": "485dc1acefb11ad636370fab741d8bb989bc9f4d"
   },
   "outputs": [
    {
     "data": {
      "text/plain": [
       "array([ True,  True, False,  True])"
      ]
     },
     "execution_count": 289,
     "metadata": {},
     "output_type": "execute_result"
    }
   ],
   "source": [
    "x!=3"
   ]
  },
  {
   "cell_type": "code",
   "execution_count": 290,
   "metadata": {
    "_uuid": "a7ba0d255cf3b8beddf729402e7b0fc0b6dfc53f"
   },
   "outputs": [
    {
     "data": {
      "text/plain": [
       "array([False, False,  True, False])"
      ]
     },
     "execution_count": 290,
     "metadata": {},
     "output_type": "execute_result"
    }
   ],
   "source": [
    "x==3"
   ]
  },
  {
   "cell_type": "markdown",
   "metadata": {
    "_uuid": "0f382861bdec10fe28ae6c226cda5eda2b2a1507"
   },
   "source": [
    "It is also possible to do an element-by-element comparison of two arrays, and to\n",
    "include compound expressions:"
   ]
  },
  {
   "cell_type": "code",
   "execution_count": 291,
   "metadata": {
    "_uuid": "2a28e9f0bc939047faa14bc684eced2911e11457"
   },
   "outputs": [
    {
     "data": {
      "text/plain": [
       "array([False,  True, False, False])"
      ]
     },
     "execution_count": 291,
     "metadata": {},
     "output_type": "execute_result"
    }
   ],
   "source": [
    "x*2==x**2"
   ]
  },
  {
   "cell_type": "markdown",
   "metadata": {
    "_uuid": "6ac0f4fe117da0d5595252513e28222b772d8dc4"
   },
   "source": [
    "As in the case of arithmetic operators, the comparison operators are implemented as\n",
    "ufuncs in NumPy; for example, when you write x < 3, internally NumPy uses\n",
    "np.less(x, 3). A summary of the comparison operators and their equivalent ufunc\n",
    "is shown here:\n",
    "Operator    Equivalent ufunc\n",
    "\n",
    "== np.equal\n",
    "\n",
    "!= np.not_equal\n",
    "\n",
    "< np.less\n",
    "\n",
    "<= np.less_equal\n",
    "\n",
    ", > np.greater\n",
    "\n",
    ", >= np.greater_equal"
   ]
  },
  {
   "cell_type": "code",
   "execution_count": 292,
   "metadata": {
    "_uuid": "6c2d22011e18adcfe04b57eb753257a356b39254"
   },
   "outputs": [],
   "source": [
    "# works on 2d array\n",
    "x=np.random.randint(0,10,(3,3))"
   ]
  },
  {
   "cell_type": "code",
   "execution_count": 293,
   "metadata": {
    "_uuid": "2a8d109993156d3133fdf7ec66942dc425e4e4c7"
   },
   "outputs": [
    {
     "data": {
      "text/plain": [
       "array([[7, 1, 1],\n",
       "       [1, 7, 4],\n",
       "       [6, 5, 8]])"
      ]
     },
     "execution_count": 293,
     "metadata": {},
     "output_type": "execute_result"
    }
   ],
   "source": [
    "x"
   ]
  },
  {
   "cell_type": "code",
   "execution_count": 294,
   "metadata": {
    "_uuid": "382d974ca578cbf062e1a3ab3aa11c4426183afc"
   },
   "outputs": [
    {
     "data": {
      "text/plain": [
       "array([[False,  True,  True],\n",
       "       [ True, False, False],\n",
       "       [False, False, False]])"
      ]
     },
     "execution_count": 294,
     "metadata": {},
     "output_type": "execute_result"
    }
   ],
   "source": [
    "x<4"
   ]
  },
  {
   "cell_type": "code",
   "execution_count": 295,
   "metadata": {
    "_uuid": "cf80f0148efe713905c46d4354a1533c5b7fc5d5"
   },
   "outputs": [
    {
     "data": {
      "text/plain": [
       "3"
      ]
     },
     "execution_count": 295,
     "metadata": {},
     "output_type": "execute_result"
    }
   ],
   "source": [
    "# To count the number of True entries in a Boolean array, np.count_nonzero is useful\n",
    "np.count_nonzero(x<4)"
   ]
  },
  {
   "cell_type": "markdown",
   "metadata": {
    "_uuid": "38ead16f11547050fd1811610575f27fdbf9cd5c"
   },
   "source": [
    "Another way to get at this\n",
    "information is to use np.sum; in this case, False is interpreted as 0, and True is interpreted\n",
    "as 1:"
   ]
  },
  {
   "cell_type": "code",
   "execution_count": 296,
   "metadata": {
    "_uuid": "257f81a49759499401828cc851690ec8b4c7eea5"
   },
   "outputs": [
    {
     "data": {
      "text/plain": [
       "3"
      ]
     },
     "execution_count": 296,
     "metadata": {},
     "output_type": "execute_result"
    }
   ],
   "source": [
    "np.sum(x<4)"
   ]
  },
  {
   "cell_type": "code",
   "execution_count": 297,
   "metadata": {
    "_uuid": "28e5842a8cf8bc67ffef2d7011f500d69e8fd3a9"
   },
   "outputs": [
    {
     "data": {
      "text/plain": [
       "array([2, 1, 0])"
      ]
     },
     "execution_count": 297,
     "metadata": {},
     "output_type": "execute_result"
    }
   ],
   "source": [
    "#The benefit of sum() is that like with other NumPy aggregation functions, this summation\n",
    "# can be done along rows or columns as well:\n",
    "\n",
    "## how many values less than 4 in each row?\n",
    "np.sum(x<4,axis=1)\n",
    "# This counts the number of values less than 4 in each row of the matrix."
   ]
  },
  {
   "cell_type": "code",
   "execution_count": 298,
   "metadata": {
    "_uuid": "cd5838edbfd6129e965cb6e54e82a4161aec34d3"
   },
   "outputs": [
    {
     "data": {
      "text/plain": [
       "True"
      ]
     },
     "execution_count": 298,
     "metadata": {},
     "output_type": "execute_result"
    }
   ],
   "source": [
    "# If we’re interested in quickly checking whether any or all the values are true, we can\n",
    "# use (you guessed it) np.any() or np.all():\n",
    "np.any(x<6)"
   ]
  },
  {
   "cell_type": "code",
   "execution_count": 299,
   "metadata": {
    "_uuid": "08173dbb1f15c4083a63b985960dafdf2e3bdd18"
   },
   "outputs": [
    {
     "data": {
      "text/plain": [
       "False"
      ]
     },
     "execution_count": 299,
     "metadata": {},
     "output_type": "execute_result"
    }
   ],
   "source": [
    "np.all(x<6)"
   ]
  },
  {
   "cell_type": "code",
   "execution_count": 300,
   "metadata": {
    "_uuid": "592fc5f7094f3683b37f79f71f334571c1a4ea2a"
   },
   "outputs": [
    {
     "data": {
      "text/plain": [
       "array([ True,  True,  True])"
      ]
     },
     "execution_count": 300,
     "metadata": {},
     "output_type": "execute_result"
    }
   ],
   "source": [
    "np.any(x<6,axis=1)"
   ]
  },
  {
   "cell_type": "markdown",
   "metadata": {
    "_uuid": "895346fcc19eb9c585ae084aa0c10cb1e2a9797a"
   },
   "source": [
    "## boolean operation"
   ]
  },
  {
   "cell_type": "code",
   "execution_count": 320,
   "metadata": {
    "_uuid": "b69dc9848b329cc6709f8e691632d2fd035ee2e5"
   },
   "outputs": [
    {
     "data": {
      "text/plain": [
       "array([0, 2, 4, 6, 8])"
      ]
     },
     "execution_count": 320,
     "metadata": {},
     "output_type": "execute_result"
    }
   ],
   "source": [
    "x=np.arange(0,10,2)\n",
    "x"
   ]
  },
  {
   "cell_type": "code",
   "execution_count": 321,
   "metadata": {
    "_uuid": "7c43d07ec020cd76942dfc9760cacfc4a7dfe83d"
   },
   "outputs": [
    {
     "data": {
      "text/plain": [
       "1"
      ]
     },
     "execution_count": 321,
     "metadata": {},
     "output_type": "execute_result"
    }
   ],
   "source": [
    "np.sum((x>3) & (x<6))"
   ]
  },
  {
   "cell_type": "markdown",
   "metadata": {
    "_uuid": "cc7187af54d6e7a54bae43d916150e8e337e4b4c"
   },
   "source": [
    "& np.bitwise_and\n",
    "\n",
    "| np.bitwise_or\n",
    "\n",
    "^ np.bitwise_xor\n",
    "\n",
    "~ np.bitwise_not"
   ]
  },
  {
   "cell_type": "code",
   "execution_count": 322,
   "metadata": {
    "_uuid": "25164706a5974b2b2f2d62fa5af9dc90ff0920be"
   },
   "outputs": [
    {
     "data": {
      "text/plain": [
       "array([0, 0, 0, 0, 0], dtype=int32)"
      ]
     },
     "execution_count": 322,
     "metadata": {},
     "output_type": "execute_result"
    }
   ],
   "source": [
    "np.bitwise_and(x,1)"
   ]
  },
  {
   "cell_type": "markdown",
   "metadata": {
    "_uuid": "303b619e702aace1bca1d35a5df62a67e8c600b6"
   },
   "source": [
    "## boolean array as masks"
   ]
  },
  {
   "cell_type": "markdown",
   "metadata": {
    "_uuid": "290b12b7cd449c9475692e11d4db6b282a8ad777"
   },
   "source": [
    "In the preceding section, we looked at aggregates computed directly on Boolean\n",
    "arrays. A more powerful pattern is to use Boolean arrays as masks, to select particular\n",
    "subsets of the data themselves. Returning to our x array from before, suppose we\n",
    "want an array of all values in the array that are less than, say, 5:"
   ]
  },
  {
   "cell_type": "code",
   "execution_count": 307,
   "metadata": {
    "_uuid": "7a7b43accf8a583a28c826cca91f1d64d633c431"
   },
   "outputs": [
    {
     "data": {
      "text/plain": [
       "array([[0, 1, 2],\n",
       "       [3, 4, 5],\n",
       "       [6, 7, 8]])"
      ]
     },
     "execution_count": 307,
     "metadata": {},
     "output_type": "execute_result"
    }
   ],
   "source": [
    "x=np.arange(9).reshape((3,3))\n",
    "x"
   ]
  },
  {
   "cell_type": "code",
   "execution_count": 308,
   "metadata": {
    "_uuid": "9f9a87511d380905a205576d25e896f2cb289a9c"
   },
   "outputs": [
    {
     "data": {
      "text/plain": [
       "array([[ True,  True,  True],\n",
       "       [ True,  True, False],\n",
       "       [False, False, False]])"
      ]
     },
     "execution_count": 308,
     "metadata": {},
     "output_type": "execute_result"
    }
   ],
   "source": [
    "x<5"
   ]
  },
  {
   "cell_type": "code",
   "execution_count": 306,
   "metadata": {
    "_uuid": "6dd33db720ad3d6613ad4538b4f89f305f65eb4e"
   },
   "outputs": [
    {
     "data": {
      "text/plain": [
       "array([0, 1, 2, 3, 4])"
      ]
     },
     "execution_count": 306,
     "metadata": {},
     "output_type": "execute_result"
    }
   ],
   "source": [
    "x[x<5]"
   ]
  },
  {
   "cell_type": "markdown",
   "metadata": {
    "_uuid": "5f0f2e9d96de4943710745fb0e2f3829ea6d4d80"
   },
   "source": [
    "## Using the Keywords and/or Versus the Operators &/|"
   ]
  },
  {
   "cell_type": "markdown",
   "metadata": {
    "_uuid": "1356294b0cb5fcc57b7fe666f0ab0cf6b846a009"
   },
   "source": [
    "One common point of confusion is the difference between the keywords and and or\n",
    "on one hand, and the operators & and | on the other hand. When would you use one\n",
    "versus the other?\n",
    "The difference is this: and and or gauge the truth or falsehood of entire object, while &\n",
    "and | refer to bits within each object.\n",
    "When you use and or or, it’s equivalent to asking Python to treat the object as a single\n",
    "Boolean entity. In Python, all nonzero integers will evaluate as True. Thus:"
   ]
  },
  {
   "cell_type": "code",
   "execution_count": 309,
   "metadata": {
    "_uuid": "e454dd3b037a3766ff7c3a5c63af079afea2d757"
   },
   "outputs": [
    {
     "data": {
      "text/plain": [
       "(True, False)"
      ]
     },
     "execution_count": 309,
     "metadata": {},
     "output_type": "execute_result"
    }
   ],
   "source": [
    "bool(42),bool(0)"
   ]
  },
  {
   "cell_type": "code",
   "execution_count": 310,
   "metadata": {
    "_uuid": "122cfd3c3b4c96f70ab7a70ac9b66df809e209bf"
   },
   "outputs": [
    {
     "data": {
      "text/plain": [
       "False"
      ]
     },
     "execution_count": 310,
     "metadata": {},
     "output_type": "execute_result"
    }
   ],
   "source": [
    "bool(42 and 0)"
   ]
  },
  {
   "cell_type": "code",
   "execution_count": 311,
   "metadata": {
    "_uuid": "1489960561f702fc3f361aa6a9b735bb82d2f3fe"
   },
   "outputs": [
    {
     "data": {
      "text/plain": [
       "0"
      ]
     },
     "execution_count": 311,
     "metadata": {},
     "output_type": "execute_result"
    }
   ],
   "source": [
    "42 and 0"
   ]
  },
  {
   "cell_type": "code",
   "execution_count": 330,
   "metadata": {
    "_uuid": "a21ddde41516b8a4ebaa3b69ddd4c216bfcef1cf"
   },
   "outputs": [
    {
     "data": {
      "text/plain": [
       "11"
      ]
     },
     "execution_count": 330,
     "metadata": {},
     "output_type": "execute_result"
    }
   ],
   "source": [
    "42 and 11"
   ]
  },
  {
   "cell_type": "code",
   "execution_count": 323,
   "metadata": {
    "_uuid": "790b61e53a5b4dae4d2578a9f9ae86f912a816ef"
   },
   "outputs": [
    {
     "data": {
      "text/plain": [
       "2"
      ]
     },
     "execution_count": 323,
     "metadata": {},
     "output_type": "execute_result"
    }
   ],
   "source": [
    "1 and 2"
   ]
  },
  {
   "cell_type": "code",
   "execution_count": 332,
   "metadata": {
    "_uuid": "174ca815a1495f9cf3b1c08acfa8d030ec91b0dd"
   },
   "outputs": [
    {
     "data": {
      "text/plain": [
       "1"
      ]
     },
     "execution_count": 332,
     "metadata": {},
     "output_type": "execute_result"
    }
   ],
   "source": [
    "2 and 1"
   ]
  },
  {
   "cell_type": "markdown",
   "metadata": {
    "_uuid": "9582e8b460d2719e91f9fb6b598835328e7090ae"
   },
   "source": [
    "When you use & and | on integers, the expression operates on the bits of the element,\n",
    "applying the and or the or to the individual bits making up the number:"
   ]
  },
  {
   "cell_type": "code",
   "execution_count": 315,
   "metadata": {
    "_uuid": "76d073635b06d75230293d207676c355fc5ea558"
   },
   "outputs": [
    {
     "data": {
      "text/plain": [
       "0"
      ]
     },
     "execution_count": 315,
     "metadata": {},
     "output_type": "execute_result"
    }
   ],
   "source": [
    "42 & 20"
   ]
  },
  {
   "cell_type": "code",
   "execution_count": 316,
   "metadata": {
    "_uuid": "1a62ed2bda62ae4284cb7442ffc764e18ea312cf"
   },
   "outputs": [
    {
     "data": {
      "text/plain": [
       "1"
      ]
     },
     "execution_count": 316,
     "metadata": {},
     "output_type": "execute_result"
    }
   ],
   "source": [
    "3 & 1"
   ]
  },
  {
   "cell_type": "code",
   "execution_count": 317,
   "metadata": {
    "_uuid": "3a9acfc6e1082a479c6da2b96b177139e0711209"
   },
   "outputs": [
    {
     "data": {
      "text/plain": [
       "1"
      ]
     },
     "execution_count": 317,
     "metadata": {},
     "output_type": "execute_result"
    }
   ],
   "source": [
    "1 & 3"
   ]
  },
  {
   "cell_type": "code",
   "execution_count": 318,
   "metadata": {
    "_uuid": "127c371de1bfdde4c604bce35184cc447e9cea49"
   },
   "outputs": [
    {
     "data": {
      "text/plain": [
       "3"
      ]
     },
     "execution_count": 318,
     "metadata": {},
     "output_type": "execute_result"
    }
   ],
   "source": [
    "3 | 2"
   ]
  },
  {
   "cell_type": "code",
   "execution_count": 319,
   "metadata": {
    "_uuid": "ffcfcf8fe07eab981848bf580e35eb29f87d074e"
   },
   "outputs": [
    {
     "data": {
      "text/plain": [
       "6"
      ]
     },
     "execution_count": 319,
     "metadata": {},
     "output_type": "execute_result"
    }
   ],
   "source": [
    "4|2"
   ]
  },
  {
   "cell_type": "code",
   "execution_count": 325,
   "metadata": {
    "_uuid": "479b899981008462e5b9ab997907a91b81311af7"
   },
   "outputs": [
    {
     "data": {
      "text/plain": [
       "'0b10'"
      ]
     },
     "execution_count": 325,
     "metadata": {},
     "output_type": "execute_result"
    }
   ],
   "source": [
    "bin(2)"
   ]
  },
  {
   "cell_type": "code",
   "execution_count": 326,
   "metadata": {
    "_uuid": "98cd3c9aff0551b9ec76f3422da20c2935ada765"
   },
   "outputs": [
    {
     "data": {
      "text/plain": [
       "'0b100'"
      ]
     },
     "execution_count": 326,
     "metadata": {},
     "output_type": "execute_result"
    }
   ],
   "source": [
    "bin(4)"
   ]
  },
  {
   "cell_type": "code",
   "execution_count": 327,
   "metadata": {
    "_uuid": "2657eb1d0c804eb0da7589f92edad35383a23d79"
   },
   "outputs": [
    {
     "data": {
      "text/plain": [
       "'0b110'"
      ]
     },
     "execution_count": 327,
     "metadata": {},
     "output_type": "execute_result"
    }
   ],
   "source": [
    "bin(6)"
   ]
  },
  {
   "cell_type": "code",
   "execution_count": 328,
   "metadata": {
    "_uuid": "e657e93bd030e831e527b550a8d6c8ebd26c9f54"
   },
   "outputs": [
    {
     "data": {
      "text/plain": [
       "'0b110'"
      ]
     },
     "execution_count": 328,
     "metadata": {},
     "output_type": "execute_result"
    }
   ],
   "source": [
    "bin(4|2)"
   ]
  },
  {
   "cell_type": "code",
   "execution_count": 333,
   "metadata": {
    "_uuid": "ddd38c1022d6ef6b6a35ee4b30291f0a6617a678"
   },
   "outputs": [
    {
     "data": {
      "text/plain": [
       "array([1, 1, 1, 1, 1], dtype=int32)"
      ]
     },
     "execution_count": 333,
     "metadata": {},
     "output_type": "execute_result"
    }
   ],
   "source": [
    " #When you have an array of Boolean values in NumPy, this can be thought of as a\n",
    "#string of bits where 1 = True and 0 = False, and the result of & and | operates in a\n",
    "#similar manner as before:\n",
    "\n",
    "a=np.array([1,0,1,0,1])\n",
    "b=np.array([0,1,1,1,0])\n",
    "a|b"
   ]
  },
  {
   "cell_type": "code",
   "execution_count": 334,
   "metadata": {
    "_uuid": "385f370e7f2451a1a54f4b16fdae13c07513bfb8"
   },
   "outputs": [
    {
     "data": {
      "text/plain": [
       "array([ True,  True,  True,  True,  True])"
      ]
     },
     "execution_count": 334,
     "metadata": {},
     "output_type": "execute_result"
    }
   ],
   "source": [
    "a=np.array([1,0,1,0,1],dtype=bool)\n",
    "b=np.array([0,1,1,1,0],dtype=bool)\n",
    "a|b"
   ]
  },
  {
   "cell_type": "code",
   "execution_count": 335,
   "metadata": {
    "_uuid": "9b38cedce52aa96f59af61a0571709af826e9e8d"
   },
   "outputs": [
    {
     "data": {
      "text/plain": [
       "array([False, False,  True, False, False])"
      ]
     },
     "execution_count": 335,
     "metadata": {},
     "output_type": "execute_result"
    }
   ],
   "source": [
    "a=np.array([1,0,1,0,1],dtype=bool)\n",
    "b=np.array([0,1,1,1,0],dtype=bool)\n",
    "a&b"
   ]
  },
  {
   "cell_type": "code",
   "execution_count": 336,
   "metadata": {
    "_uuid": "07d242a84ccd0cac4930a6a945d6c2fae22e848d"
   },
   "outputs": [
    {
     "data": {
      "text/plain": [
       "array([ True,  True,  True,  True,  True])"
      ]
     },
     "execution_count": 336,
     "metadata": {},
     "output_type": "execute_result"
    }
   ],
   "source": [
    "a |b"
   ]
  },
  {
   "cell_type": "markdown",
   "metadata": {
    "_uuid": "a7cebc5dfa90bb8f5ce0ddbae770af34adc2df34"
   },
   "source": [
    "So remember this: and and or perform a single Boolean evaluation on an entire\n",
    "object, while & and | perform multiple Boolean evaluations on the content (the individual\n",
    "bits or bytes) of an object. For Boolean NumPy arrays, the latter is nearly\n",
    "always the desired operation."
   ]
  },
  {
   "cell_type": "markdown",
   "metadata": {
    "_uuid": "00830066bdd1097fd4d2e35b1421a6d40e54b8aa"
   },
   "source": [
    "## fancy indexing"
   ]
  },
  {
   "cell_type": "markdown",
   "metadata": {
    "_uuid": "b28e928c86e0d40ee9e3fbcdbdec3627e3e33aea"
   },
   "source": [
    "In the previous sections, we saw how to access and modify portions of arrays using\n",
    "simple indices (e.g., arr[0]), slices (e.g., arr[:5]), and Boolean masks (e.g., arr[arr> 0] )\n",
    "\n",
    "In this section, we’ll look at another style of array indexing, known as fancy\n",
    "indexing. Fancy indexing is like the simple indexing we’ve already seen, but we pass\n",
    "arrays of indices in place of single scalars. This allows us to very quickly access and\n",
    "modify complicated subsets of an array’s values."
   ]
  },
  {
   "cell_type": "markdown",
   "metadata": {
    "_uuid": "41a0340ceea96f8561d90549124fae79f3bffd4b"
   },
   "source": [
    "Fancy indexing is conceptually simple: it means passing an array of indices to access\n",
    "multiple array elements at once. For example, consider the following array:"
   ]
  },
  {
   "cell_type": "code",
   "execution_count": 337,
   "metadata": {
    "_uuid": "56c90cd15c6cb95833b605c6b6a51aa09558eb53"
   },
   "outputs": [],
   "source": [
    "x=np.random.randint(100,size=20)"
   ]
  },
  {
   "cell_type": "code",
   "execution_count": 338,
   "metadata": {
    "_uuid": "a16974a5f71de683b656ecdd11fd93fd96e1cefa"
   },
   "outputs": [
    {
     "data": {
      "text/plain": [
       "array([21, 90, 61, 72,  8, 28, 14, 81, 50, 32, 55, 88,  6, 15, 15, 92, 89,\n",
       "       14, 22, 66])"
      ]
     },
     "execution_count": 338,
     "metadata": {},
     "output_type": "execute_result"
    }
   ],
   "source": [
    "x"
   ]
  },
  {
   "cell_type": "code",
   "execution_count": 339,
   "metadata": {
    "_uuid": "c47db7aa4abeef21ade7de233620627c728ee6c5"
   },
   "outputs": [
    {
     "data": {
      "text/plain": [
       "[61, 32, 14]"
      ]
     },
     "execution_count": 339,
     "metadata": {},
     "output_type": "execute_result"
    }
   ],
   "source": [
    "# suppose we want to access 3 different element \n",
    "[x[2],x[9],x[17]]"
   ]
  },
  {
   "cell_type": "code",
   "execution_count": 340,
   "metadata": {
    "_uuid": "03da71e9c8684a2f40f6ec21c119a4869faf3606"
   },
   "outputs": [
    {
     "data": {
      "text/plain": [
       "array([61, 32, 14])"
      ]
     },
     "execution_count": 340,
     "metadata": {},
     "output_type": "execute_result"
    }
   ],
   "source": [
    "ind=[2,9,17]\n",
    "x[ind]"
   ]
  },
  {
   "cell_type": "code",
   "execution_count": 341,
   "metadata": {
    "_uuid": "57e3ac5fbbb13fe70f5469db9034912a338395ed"
   },
   "outputs": [
    {
     "data": {
      "text/plain": [
       "array([[90, 61],\n",
       "       [72,  8]])"
      ]
     },
     "execution_count": 341,
     "metadata": {},
     "output_type": "execute_result"
    }
   ],
   "source": [
    "ind=np.array([[1,2],[3,4]])\n",
    "x[ind]"
   ]
  },
  {
   "cell_type": "code",
   "execution_count": 342,
   "metadata": {
    "_uuid": "e3a703e71cfd344fd2a20c643944b0d3bf6b9b13"
   },
   "outputs": [
    {
     "data": {
      "text/plain": [
       "array([[ 0,  1,  2,  3],\n",
       "       [ 4,  5,  6,  7],\n",
       "       [ 8,  9, 10, 11]])"
      ]
     },
     "execution_count": 342,
     "metadata": {},
     "output_type": "execute_result"
    }
   ],
   "source": [
    "# fancy indexing also works on multiple dimension\n",
    "x=np.arange(12).reshape((3,4))\n",
    "x"
   ]
  },
  {
   "cell_type": "code",
   "execution_count": 343,
   "metadata": {
    "_uuid": "5c575baa1113de6c78a2119ef75fbbcce5bded14"
   },
   "outputs": [
    {
     "data": {
      "text/plain": [
       "array([ 1,  6, 11])"
      ]
     },
     "execution_count": 343,
     "metadata": {},
     "output_type": "execute_result"
    }
   ],
   "source": [
    "row=np.array([0,1,2])\n",
    "col=np.array([1,2,3])\n",
    "x[row,col]\n",
    "# first value is x[0,1] then x[1,2] then x[2,3]"
   ]
  },
  {
   "cell_type": "code",
   "execution_count": 345,
   "metadata": {
    "_uuid": "9e0f27edfb6ca6578f3a6e65b618ad8d6e65b0ba"
   },
   "outputs": [
    {
     "name": "stdout",
     "output_type": "stream",
     "text": [
      "[[0]\n",
      " [1]\n",
      " [2]]\n"
     ]
    },
    {
     "data": {
      "text/plain": [
       "array([[ 1,  2,  3],\n",
       "       [ 5,  6,  7],\n",
       "       [ 9, 10, 11]])"
      ]
     },
     "execution_count": 345,
     "metadata": {},
     "output_type": "execute_result"
    }
   ],
   "source": [
    "print(row[:,np.newaxis])\n",
    "x[row[:,np.newaxis],col]"
   ]
  },
  {
   "cell_type": "markdown",
   "metadata": {
    "_uuid": "6a025a43ed157f534d4ffb5e526e1510ae6005c4"
   },
   "source": [
    "### combined indexing"
   ]
  },
  {
   "cell_type": "code",
   "execution_count": 346,
   "metadata": {
    "_uuid": "16e7c6ebc69ab503618186b285fd2493a692b02f"
   },
   "outputs": [
    {
     "data": {
      "text/plain": [
       "array([[ 0,  1,  2,  3],\n",
       "       [ 4,  5,  6,  7],\n",
       "       [ 8,  9, 10, 11]])"
      ]
     },
     "execution_count": 346,
     "metadata": {},
     "output_type": "execute_result"
    }
   ],
   "source": [
    "x"
   ]
  },
  {
   "cell_type": "code",
   "execution_count": 347,
   "metadata": {
    "_uuid": "e175cc57f47d3b8cb6d994a16f695bcc5d96c5cc"
   },
   "outputs": [
    {
     "data": {
      "text/plain": [
       "array([ 8,  9, 10])"
      ]
     },
     "execution_count": 347,
     "metadata": {},
     "output_type": "execute_result"
    }
   ],
   "source": [
    "x[2,[0,1,2]]"
   ]
  },
  {
   "cell_type": "code",
   "execution_count": 348,
   "metadata": {
    "_uuid": "bcd1b62080819f73ccc335b5ee08fc918ae9dc28"
   },
   "outputs": [
    {
     "data": {
      "text/plain": [
       "array([[ 6,  4,  5],\n",
       "       [10,  8,  9]])"
      ]
     },
     "execution_count": 348,
     "metadata": {},
     "output_type": "execute_result"
    }
   ],
   "source": [
    "x[1:,[2,0,1]]"
   ]
  },
  {
   "cell_type": "code",
   "execution_count": 349,
   "metadata": {
    "_uuid": "05c43af0ed1cf578b7176489585c9cbec5296152"
   },
   "outputs": [
    {
     "name": "stdout",
     "output_type": "stream",
     "text": [
      "[ True False  True False]\n"
     ]
    },
    {
     "data": {
      "text/plain": [
       "array([[ 0,  2],\n",
       "       [ 4,  6],\n",
       "       [ 8, 10]])"
      ]
     },
     "execution_count": 349,
     "metadata": {},
     "output_type": "execute_result"
    }
   ],
   "source": [
    "# we can combine fancy indexing with masking\n",
    "mask=np.array([1,0,1,0],dtype=bool)\n",
    "print(mask)\n",
    "x[row[:,np.newaxis],mask]"
   ]
  },
  {
   "cell_type": "code",
   "execution_count": null,
   "metadata": {
    "_uuid": "323d554ea8ce054f379396f8ef45ae4b305cc786"
   },
   "outputs": [],
   "source": []
  }
 ],
 "metadata": {
  "kernelspec": {
   "display_name": "Python 3",
   "language": "python",
   "name": "python3"
  },
  "language_info": {
   "codemirror_mode": {
    "name": "ipython",
    "version": 3
   },
   "file_extension": ".py",
   "mimetype": "text/x-python",
   "name": "python",
   "nbconvert_exporter": "python",
   "pygments_lexer": "ipython3",
   "version": "3.8.8"
  }
 },
 "nbformat": 4,
 "nbformat_minor": 1
}
